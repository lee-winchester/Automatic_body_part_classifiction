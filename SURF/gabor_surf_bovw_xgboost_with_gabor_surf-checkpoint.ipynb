{
 "cells": [
  {
   "cell_type": "code",
   "execution_count": 61,
   "metadata": {
    "id": "6Td15Y3vQ0kE"
   },
   "outputs": [],
   "source": [
    "import scipy.io\n",
    "import pandas as pd\n",
    "mat = scipy.io.loadmat(r\"C:\\Users\\D. RHUTHVIK\\Desktop\\Final Year Project\\surf_encoded_alldescp_gabor_metric.mat\",matlab_compatible=True)"
   ]
  },
  {
   "cell_type": "code",
   "execution_count": 62,
   "metadata": {
    "id": "0CrIs8zXTZY3"
   },
   "outputs": [],
   "source": [
    "a=mat['a']"
   ]
  },
  {
   "cell_type": "code",
   "execution_count": 63,
   "metadata": {
    "id": "Gk8wDrmQXyWl"
   },
   "outputs": [],
   "source": [
    "import pandas as pd"
   ]
  },
  {
   "cell_type": "code",
   "execution_count": 64,
   "metadata": {
    "id": "GrJvbKnnZhVA"
   },
   "outputs": [],
   "source": [
    "dat=pd.read_excel(r\"C:\\Users\\D. RHUTHVIK\\Desktop\\Final Year Project\\Book 3.xlsx\",header=None)"
   ]
  },
  {
   "cell_type": "code",
   "execution_count": 65,
   "metadata": {
    "id": "0JHj5bq4ZoN7"
   },
   "outputs": [],
   "source": [
    "for ind,i in dat.iterrows():\n",
    "  i[0]=i[0][:-1]"
   ]
  },
  {
   "cell_type": "code",
   "execution_count": 66,
   "metadata": {
    "colab": {
     "base_uri": "https://localhost:8080/",
     "height": 423
    },
    "id": "ggwLlQk2Zp7Q",
    "outputId": "ab8f0bfa-efe9-4ea2-ea81-78f808411855"
   },
   "outputs": [
    {
     "data": {
      "text/html": [
       "<div>\n",
       "<style scoped>\n",
       "    .dataframe tbody tr th:only-of-type {\n",
       "        vertical-align: middle;\n",
       "    }\n",
       "\n",
       "    .dataframe tbody tr th {\n",
       "        vertical-align: top;\n",
       "    }\n",
       "\n",
       "    .dataframe thead th {\n",
       "        text-align: right;\n",
       "    }\n",
       "</style>\n",
       "<table border=\"1\" class=\"dataframe\">\n",
       "  <thead>\n",
       "    <tr style=\"text-align: right;\">\n",
       "      <th></th>\n",
       "      <th>0</th>\n",
       "    </tr>\n",
       "  </thead>\n",
       "  <tbody>\n",
       "    <tr>\n",
       "      <th>0</th>\n",
       "      <td>Abdomen</td>\n",
       "    </tr>\n",
       "    <tr>\n",
       "      <th>1</th>\n",
       "      <td>Abdomen</td>\n",
       "    </tr>\n",
       "    <tr>\n",
       "      <th>2</th>\n",
       "      <td>Abdomen</td>\n",
       "    </tr>\n",
       "    <tr>\n",
       "      <th>3</th>\n",
       "      <td>Abdomen</td>\n",
       "    </tr>\n",
       "    <tr>\n",
       "      <th>4</th>\n",
       "      <td>Abdomen</td>\n",
       "    </tr>\n",
       "    <tr>\n",
       "      <th>...</th>\n",
       "      <td>...</td>\n",
       "    </tr>\n",
       "    <tr>\n",
       "      <th>1681</th>\n",
       "      <td>Wrist</td>\n",
       "    </tr>\n",
       "    <tr>\n",
       "      <th>1682</th>\n",
       "      <td>Wrist</td>\n",
       "    </tr>\n",
       "    <tr>\n",
       "      <th>1683</th>\n",
       "      <td>Wrist</td>\n",
       "    </tr>\n",
       "    <tr>\n",
       "      <th>1684</th>\n",
       "      <td>Wrist</td>\n",
       "    </tr>\n",
       "    <tr>\n",
       "      <th>1685</th>\n",
       "      <td>Wrist</td>\n",
       "    </tr>\n",
       "  </tbody>\n",
       "</table>\n",
       "<p>1686 rows × 1 columns</p>\n",
       "</div>"
      ],
      "text/plain": [
       "            0\n",
       "0     Abdomen\n",
       "1     Abdomen\n",
       "2     Abdomen\n",
       "3     Abdomen\n",
       "4     Abdomen\n",
       "...       ...\n",
       "1681    Wrist\n",
       "1682    Wrist\n",
       "1683    Wrist\n",
       "1684    Wrist\n",
       "1685    Wrist\n",
       "\n",
       "[1686 rows x 1 columns]"
      ]
     },
     "execution_count": 66,
     "metadata": {},
     "output_type": "execute_result"
    }
   ],
   "source": [
    "dat"
   ]
  },
  {
   "cell_type": "code",
   "execution_count": 67,
   "metadata": {
    "colab": {
     "base_uri": "https://localhost:8080/"
    },
    "id": "NxWt--ouZ_1c",
    "outputId": "7d07ae5c-01f6-4399-b425-d29254fcf66b"
   },
   "outputs": [
    {
     "data": {
      "text/plain": [
       "Chest                              723\n",
       "Others                             120\n",
       "Knee                               102\n",
       "Abdomen                             80\n",
       "Cervical Spine                      76\n",
       "Feet                                70\n",
       "Pelvis                              67\n",
       "Wrist                               63\n",
       "Lumbar Spine and Thoracic Spine     45\n",
       "Hand and Wrist                      42\n",
       "Ankle                               41\n",
       "Shoulder                            40\n",
       "Lumbar Spine                        39\n",
       "Hand                                31\n",
       "Elbow                               23\n",
       "Sinus                               23\n",
       "Lower Leg                           19\n",
       "Hip                                 19\n",
       "Finger                              15\n",
       "Thoracic Spine                      15\n",
       "Forearm                             12\n",
       "Abdomen and Chest                   11\n",
       "Skull                               10\n",
       "dtype: int64"
      ]
     },
     "execution_count": 67,
     "metadata": {},
     "output_type": "execute_result"
    }
   ],
   "source": [
    "dat.value_counts()"
   ]
  },
  {
   "cell_type": "code",
   "execution_count": 68,
   "metadata": {
    "id": "M-M-jCkvfSpl"
   },
   "outputs": [],
   "source": [
    "df=pd.DataFrame(a)"
   ]
  },
  {
   "cell_type": "code",
   "execution_count": 69,
   "metadata": {
    "colab": {
     "base_uri": "https://localhost:8080/",
     "height": 487
    },
    "id": "ghc26ex4goR_",
    "outputId": "ccc85f4f-0c4b-4d53-b079-5824af7fae4f"
   },
   "outputs": [
    {
     "data": {
      "text/html": [
       "<div>\n",
       "<style scoped>\n",
       "    .dataframe tbody tr th:only-of-type {\n",
       "        vertical-align: middle;\n",
       "    }\n",
       "\n",
       "    .dataframe tbody tr th {\n",
       "        vertical-align: top;\n",
       "    }\n",
       "\n",
       "    .dataframe thead th {\n",
       "        text-align: right;\n",
       "    }\n",
       "</style>\n",
       "<table border=\"1\" class=\"dataframe\">\n",
       "  <thead>\n",
       "    <tr style=\"text-align: right;\">\n",
       "      <th></th>\n",
       "      <th>0</th>\n",
       "      <th>1</th>\n",
       "      <th>2</th>\n",
       "      <th>3</th>\n",
       "      <th>4</th>\n",
       "      <th>5</th>\n",
       "      <th>6</th>\n",
       "      <th>7</th>\n",
       "      <th>8</th>\n",
       "      <th>9</th>\n",
       "      <th>...</th>\n",
       "      <th>490</th>\n",
       "      <th>491</th>\n",
       "      <th>492</th>\n",
       "      <th>493</th>\n",
       "      <th>494</th>\n",
       "      <th>495</th>\n",
       "      <th>496</th>\n",
       "      <th>497</th>\n",
       "      <th>498</th>\n",
       "      <th>499</th>\n",
       "    </tr>\n",
       "  </thead>\n",
       "  <tbody>\n",
       "    <tr>\n",
       "      <th>0</th>\n",
       "      <td>0.000000</td>\n",
       "      <td>0.000000</td>\n",
       "      <td>0.000000</td>\n",
       "      <td>0.000000</td>\n",
       "      <td>0.000000</td>\n",
       "      <td>0.000000</td>\n",
       "      <td>0.000000</td>\n",
       "      <td>0.000000</td>\n",
       "      <td>0.000000</td>\n",
       "      <td>0.0</td>\n",
       "      <td>...</td>\n",
       "      <td>0.000000</td>\n",
       "      <td>0.000000</td>\n",
       "      <td>0.000000</td>\n",
       "      <td>0.000000</td>\n",
       "      <td>0.000000</td>\n",
       "      <td>0.000000</td>\n",
       "      <td>0.000000</td>\n",
       "      <td>0.000000</td>\n",
       "      <td>0.000000</td>\n",
       "      <td>0.000000</td>\n",
       "    </tr>\n",
       "    <tr>\n",
       "      <th>1</th>\n",
       "      <td>0.000000</td>\n",
       "      <td>0.000000</td>\n",
       "      <td>0.000000</td>\n",
       "      <td>0.000000</td>\n",
       "      <td>0.000000</td>\n",
       "      <td>0.000000</td>\n",
       "      <td>0.000000</td>\n",
       "      <td>0.000000</td>\n",
       "      <td>0.000000</td>\n",
       "      <td>0.0</td>\n",
       "      <td>...</td>\n",
       "      <td>0.000000</td>\n",
       "      <td>0.000000</td>\n",
       "      <td>0.126239</td>\n",
       "      <td>0.000000</td>\n",
       "      <td>0.063119</td>\n",
       "      <td>0.000000</td>\n",
       "      <td>0.126239</td>\n",
       "      <td>0.000000</td>\n",
       "      <td>0.000000</td>\n",
       "      <td>0.000000</td>\n",
       "    </tr>\n",
       "    <tr>\n",
       "      <th>2</th>\n",
       "      <td>0.000000</td>\n",
       "      <td>0.000000</td>\n",
       "      <td>0.078567</td>\n",
       "      <td>0.000000</td>\n",
       "      <td>0.000000</td>\n",
       "      <td>0.000000</td>\n",
       "      <td>0.000000</td>\n",
       "      <td>0.000000</td>\n",
       "      <td>0.000000</td>\n",
       "      <td>0.0</td>\n",
       "      <td>...</td>\n",
       "      <td>0.000000</td>\n",
       "      <td>0.000000</td>\n",
       "      <td>0.078567</td>\n",
       "      <td>0.000000</td>\n",
       "      <td>0.000000</td>\n",
       "      <td>0.000000</td>\n",
       "      <td>0.000000</td>\n",
       "      <td>0.000000</td>\n",
       "      <td>0.000000</td>\n",
       "      <td>0.000000</td>\n",
       "    </tr>\n",
       "    <tr>\n",
       "      <th>3</th>\n",
       "      <td>0.046029</td>\n",
       "      <td>0.000000</td>\n",
       "      <td>0.092057</td>\n",
       "      <td>0.092057</td>\n",
       "      <td>0.000000</td>\n",
       "      <td>0.046029</td>\n",
       "      <td>0.000000</td>\n",
       "      <td>0.046029</td>\n",
       "      <td>0.000000</td>\n",
       "      <td>0.0</td>\n",
       "      <td>...</td>\n",
       "      <td>0.000000</td>\n",
       "      <td>0.092057</td>\n",
       "      <td>0.046029</td>\n",
       "      <td>0.000000</td>\n",
       "      <td>0.046029</td>\n",
       "      <td>0.000000</td>\n",
       "      <td>0.000000</td>\n",
       "      <td>0.000000</td>\n",
       "      <td>0.000000</td>\n",
       "      <td>0.000000</td>\n",
       "    </tr>\n",
       "    <tr>\n",
       "      <th>4</th>\n",
       "      <td>0.090443</td>\n",
       "      <td>0.000000</td>\n",
       "      <td>0.000000</td>\n",
       "      <td>0.045222</td>\n",
       "      <td>0.000000</td>\n",
       "      <td>0.000000</td>\n",
       "      <td>0.000000</td>\n",
       "      <td>0.000000</td>\n",
       "      <td>0.000000</td>\n",
       "      <td>0.0</td>\n",
       "      <td>...</td>\n",
       "      <td>0.000000</td>\n",
       "      <td>0.000000</td>\n",
       "      <td>0.000000</td>\n",
       "      <td>0.045222</td>\n",
       "      <td>0.000000</td>\n",
       "      <td>0.045222</td>\n",
       "      <td>0.000000</td>\n",
       "      <td>0.000000</td>\n",
       "      <td>0.000000</td>\n",
       "      <td>0.135665</td>\n",
       "    </tr>\n",
       "    <tr>\n",
       "      <th>...</th>\n",
       "      <td>...</td>\n",
       "      <td>...</td>\n",
       "      <td>...</td>\n",
       "      <td>...</td>\n",
       "      <td>...</td>\n",
       "      <td>...</td>\n",
       "      <td>...</td>\n",
       "      <td>...</td>\n",
       "      <td>...</td>\n",
       "      <td>...</td>\n",
       "      <td>...</td>\n",
       "      <td>...</td>\n",
       "      <td>...</td>\n",
       "      <td>...</td>\n",
       "      <td>...</td>\n",
       "      <td>...</td>\n",
       "      <td>...</td>\n",
       "      <td>...</td>\n",
       "      <td>...</td>\n",
       "      <td>...</td>\n",
       "      <td>...</td>\n",
       "    </tr>\n",
       "    <tr>\n",
       "      <th>1681</th>\n",
       "      <td>0.000000</td>\n",
       "      <td>0.000000</td>\n",
       "      <td>0.000000</td>\n",
       "      <td>0.000000</td>\n",
       "      <td>0.032513</td>\n",
       "      <td>0.032513</td>\n",
       "      <td>0.032513</td>\n",
       "      <td>0.032513</td>\n",
       "      <td>0.032513</td>\n",
       "      <td>0.0</td>\n",
       "      <td>...</td>\n",
       "      <td>0.000000</td>\n",
       "      <td>0.000000</td>\n",
       "      <td>0.000000</td>\n",
       "      <td>0.000000</td>\n",
       "      <td>0.065026</td>\n",
       "      <td>0.065026</td>\n",
       "      <td>0.000000</td>\n",
       "      <td>0.000000</td>\n",
       "      <td>0.000000</td>\n",
       "      <td>0.065026</td>\n",
       "    </tr>\n",
       "    <tr>\n",
       "      <th>1682</th>\n",
       "      <td>0.000000</td>\n",
       "      <td>0.000000</td>\n",
       "      <td>0.073373</td>\n",
       "      <td>0.073373</td>\n",
       "      <td>0.000000</td>\n",
       "      <td>0.000000</td>\n",
       "      <td>0.000000</td>\n",
       "      <td>0.036686</td>\n",
       "      <td>0.036686</td>\n",
       "      <td>0.0</td>\n",
       "      <td>...</td>\n",
       "      <td>0.000000</td>\n",
       "      <td>0.000000</td>\n",
       "      <td>0.000000</td>\n",
       "      <td>0.000000</td>\n",
       "      <td>0.000000</td>\n",
       "      <td>0.000000</td>\n",
       "      <td>0.000000</td>\n",
       "      <td>0.036686</td>\n",
       "      <td>0.000000</td>\n",
       "      <td>0.000000</td>\n",
       "    </tr>\n",
       "    <tr>\n",
       "      <th>1683</th>\n",
       "      <td>0.000000</td>\n",
       "      <td>0.000000</td>\n",
       "      <td>0.107348</td>\n",
       "      <td>0.000000</td>\n",
       "      <td>0.000000</td>\n",
       "      <td>0.000000</td>\n",
       "      <td>0.000000</td>\n",
       "      <td>0.000000</td>\n",
       "      <td>0.035783</td>\n",
       "      <td>0.0</td>\n",
       "      <td>...</td>\n",
       "      <td>0.000000</td>\n",
       "      <td>0.107348</td>\n",
       "      <td>0.000000</td>\n",
       "      <td>0.035783</td>\n",
       "      <td>0.000000</td>\n",
       "      <td>0.000000</td>\n",
       "      <td>0.035783</td>\n",
       "      <td>0.000000</td>\n",
       "      <td>0.000000</td>\n",
       "      <td>0.035783</td>\n",
       "    </tr>\n",
       "    <tr>\n",
       "      <th>1684</th>\n",
       "      <td>0.000000</td>\n",
       "      <td>0.000000</td>\n",
       "      <td>0.000000</td>\n",
       "      <td>0.000000</td>\n",
       "      <td>0.000000</td>\n",
       "      <td>0.161281</td>\n",
       "      <td>0.000000</td>\n",
       "      <td>0.000000</td>\n",
       "      <td>0.000000</td>\n",
       "      <td>0.0</td>\n",
       "      <td>...</td>\n",
       "      <td>0.000000</td>\n",
       "      <td>0.000000</td>\n",
       "      <td>0.000000</td>\n",
       "      <td>0.000000</td>\n",
       "      <td>0.000000</td>\n",
       "      <td>0.053760</td>\n",
       "      <td>0.000000</td>\n",
       "      <td>0.000000</td>\n",
       "      <td>0.000000</td>\n",
       "      <td>0.000000</td>\n",
       "    </tr>\n",
       "    <tr>\n",
       "      <th>1685</th>\n",
       "      <td>0.088969</td>\n",
       "      <td>0.029656</td>\n",
       "      <td>0.148282</td>\n",
       "      <td>0.000000</td>\n",
       "      <td>0.000000</td>\n",
       "      <td>0.000000</td>\n",
       "      <td>0.000000</td>\n",
       "      <td>0.000000</td>\n",
       "      <td>0.029656</td>\n",
       "      <td>0.0</td>\n",
       "      <td>...</td>\n",
       "      <td>0.029656</td>\n",
       "      <td>0.088969</td>\n",
       "      <td>0.000000</td>\n",
       "      <td>0.029656</td>\n",
       "      <td>0.000000</td>\n",
       "      <td>0.029656</td>\n",
       "      <td>0.000000</td>\n",
       "      <td>0.000000</td>\n",
       "      <td>0.059313</td>\n",
       "      <td>0.000000</td>\n",
       "    </tr>\n",
       "  </tbody>\n",
       "</table>\n",
       "<p>1686 rows × 500 columns</p>\n",
       "</div>"
      ],
      "text/plain": [
       "           0         1         2         3         4         5         6    \\\n",
       "0     0.000000  0.000000  0.000000  0.000000  0.000000  0.000000  0.000000   \n",
       "1     0.000000  0.000000  0.000000  0.000000  0.000000  0.000000  0.000000   \n",
       "2     0.000000  0.000000  0.078567  0.000000  0.000000  0.000000  0.000000   \n",
       "3     0.046029  0.000000  0.092057  0.092057  0.000000  0.046029  0.000000   \n",
       "4     0.090443  0.000000  0.000000  0.045222  0.000000  0.000000  0.000000   \n",
       "...        ...       ...       ...       ...       ...       ...       ...   \n",
       "1681  0.000000  0.000000  0.000000  0.000000  0.032513  0.032513  0.032513   \n",
       "1682  0.000000  0.000000  0.073373  0.073373  0.000000  0.000000  0.000000   \n",
       "1683  0.000000  0.000000  0.107348  0.000000  0.000000  0.000000  0.000000   \n",
       "1684  0.000000  0.000000  0.000000  0.000000  0.000000  0.161281  0.000000   \n",
       "1685  0.088969  0.029656  0.148282  0.000000  0.000000  0.000000  0.000000   \n",
       "\n",
       "           7         8    9    ...       490       491       492       493  \\\n",
       "0     0.000000  0.000000  0.0  ...  0.000000  0.000000  0.000000  0.000000   \n",
       "1     0.000000  0.000000  0.0  ...  0.000000  0.000000  0.126239  0.000000   \n",
       "2     0.000000  0.000000  0.0  ...  0.000000  0.000000  0.078567  0.000000   \n",
       "3     0.046029  0.000000  0.0  ...  0.000000  0.092057  0.046029  0.000000   \n",
       "4     0.000000  0.000000  0.0  ...  0.000000  0.000000  0.000000  0.045222   \n",
       "...        ...       ...  ...  ...       ...       ...       ...       ...   \n",
       "1681  0.032513  0.032513  0.0  ...  0.000000  0.000000  0.000000  0.000000   \n",
       "1682  0.036686  0.036686  0.0  ...  0.000000  0.000000  0.000000  0.000000   \n",
       "1683  0.000000  0.035783  0.0  ...  0.000000  0.107348  0.000000  0.035783   \n",
       "1684  0.000000  0.000000  0.0  ...  0.000000  0.000000  0.000000  0.000000   \n",
       "1685  0.000000  0.029656  0.0  ...  0.029656  0.088969  0.000000  0.029656   \n",
       "\n",
       "           494       495       496       497       498       499  \n",
       "0     0.000000  0.000000  0.000000  0.000000  0.000000  0.000000  \n",
       "1     0.063119  0.000000  0.126239  0.000000  0.000000  0.000000  \n",
       "2     0.000000  0.000000  0.000000  0.000000  0.000000  0.000000  \n",
       "3     0.046029  0.000000  0.000000  0.000000  0.000000  0.000000  \n",
       "4     0.000000  0.045222  0.000000  0.000000  0.000000  0.135665  \n",
       "...        ...       ...       ...       ...       ...       ...  \n",
       "1681  0.065026  0.065026  0.000000  0.000000  0.000000  0.065026  \n",
       "1682  0.000000  0.000000  0.000000  0.036686  0.000000  0.000000  \n",
       "1683  0.000000  0.000000  0.035783  0.000000  0.000000  0.035783  \n",
       "1684  0.000000  0.053760  0.000000  0.000000  0.000000  0.000000  \n",
       "1685  0.000000  0.029656  0.000000  0.000000  0.059313  0.000000  \n",
       "\n",
       "[1686 rows x 500 columns]"
      ]
     },
     "execution_count": 69,
     "metadata": {},
     "output_type": "execute_result"
    }
   ],
   "source": [
    "df"
   ]
  },
  {
   "cell_type": "code",
   "execution_count": 70,
   "metadata": {
    "id": "S4V746dXjmjP"
   },
   "outputs": [],
   "source": [
    "classes=set(dat[0])"
   ]
  },
  {
   "cell_type": "code",
   "execution_count": 71,
   "metadata": {
    "id": "MIgNiqO_m6Kr"
   },
   "outputs": [],
   "source": [
    "import numpy as np"
   ]
  },
  {
   "cell_type": "code",
   "execution_count": 72,
   "metadata": {
    "id": "lw_Tl_TIjqJC"
   },
   "outputs": [],
   "source": [
    "classes=np.array(list(classes))"
   ]
  },
  {
   "cell_type": "code",
   "execution_count": 73,
   "metadata": {
    "colab": {
     "base_uri": "https://localhost:8080/"
    },
    "id": "fkQ0cqtMj6pc",
    "outputId": "842a3173-845c-4e92-ff9e-74435332f2cf"
   },
   "outputs": [
    {
     "data": {
      "text/plain": [
       "array(['Lower Leg', 'Finger', 'Hand', 'Cervical Spine',\n",
       "       'Lumbar Spine and Thoracic Spine', 'Skull', 'Wrist',\n",
       "       'Thoracic Spine', 'Ankle', 'Hand and Wrist', 'Abdomen', 'Knee',\n",
       "       'Feet', 'Abdomen and Chest', 'Hip', 'Elbow', 'Chest', 'Sinus',\n",
       "       'Shoulder', 'Lumbar Spine', 'Forearm', 'Pelvis', 'Others'],\n",
       "      dtype='<U31')"
      ]
     },
     "execution_count": 73,
     "metadata": {},
     "output_type": "execute_result"
    }
   ],
   "source": [
    "classes"
   ]
  },
  {
   "cell_type": "code",
   "execution_count": 74,
   "metadata": {
    "id": "W2N23MwZgpGw"
   },
   "outputs": [],
   "source": [
    "from sklearn.model_selection import train_test_split"
   ]
  },
  {
   "cell_type": "code",
   "execution_count": 75,
   "metadata": {
    "id": "-ZtDNZ1eiEUD"
   },
   "outputs": [],
   "source": [
    "from sklearn import preprocessing\n",
    ">>> le = preprocessing.LabelEncoder()"
   ]
  },
  {
   "cell_type": "code",
   "execution_count": 76,
   "metadata": {
    "colab": {
     "base_uri": "https://localhost:8080/",
     "height": 74
    },
    "id": "lpSqCUzyiGvA",
    "outputId": "0f98f183-484b-4d8b-9d88-2452f4080a1a"
   },
   "outputs": [
    {
     "data": {
      "text/plain": [
       "LabelEncoder()"
      ]
     },
     "execution_count": 76,
     "metadata": {},
     "output_type": "execute_result"
    }
   ],
   "source": [
    "le.fit(classes)"
   ]
  },
  {
   "cell_type": "code",
   "execution_count": 77,
   "metadata": {
    "id": "9IziOtO0i4sT"
   },
   "outputs": [],
   "source": [
    "label=le.transform(dat[0])"
   ]
  },
  {
   "cell_type": "code",
   "execution_count": 78,
   "metadata": {
    "colab": {
     "base_uri": "https://localhost:8080/"
    },
    "id": "7OzEkJvgnFEy",
    "outputId": "dcd663ba-8251-41d3-b7b4-906d81bf50eb"
   },
   "outputs": [
    {
     "data": {
      "text/plain": [
       "1686"
      ]
     },
     "execution_count": 78,
     "metadata": {},
     "output_type": "execute_result"
    }
   ],
   "source": [
    "len(label)"
   ]
  },
  {
   "cell_type": "code",
   "execution_count": 79,
   "metadata": {
    "id": "gE4BVCBagww2"
   },
   "outputs": [],
   "source": [
    "X_train, X_test, y_train, y_test = train_test_split(df,label, test_size=0.25,stratify=label)"
   ]
  },
  {
   "cell_type": "code",
   "execution_count": 80,
   "metadata": {
    "id": "xljfT8JHhLdL"
   },
   "outputs": [],
   "source": [
    "from xgboost import XGBClassifier"
   ]
  },
  {
   "cell_type": "code",
   "execution_count": 81,
   "metadata": {
    "colab": {
     "base_uri": "https://localhost:8080/",
     "height": 248
    },
    "id": "A2U8nk1fhwpS",
    "outputId": "dc9697e4-b3a8-4036-8733-97481959e7df"
   },
   "outputs": [
    {
     "data": {
      "text/plain": [
       "XGBClassifier(base_score=0.5, booster='gbtree', callbacks=None,\n",
       "              colsample_bylevel=1, colsample_bynode=1, colsample_bytree=1,\n",
       "              early_stopping_rounds=None, enable_categorical=False,\n",
       "              eval_metric=None, feature_types=None, gamma=0, gpu_id=-1,\n",
       "              grow_policy='depthwise', importance_type=None,\n",
       "              interaction_constraints='', learning_rate=0.300000012,\n",
       "              max_bin=256, max_cat_threshold=64, max_cat_to_onehot=4,\n",
       "              max_delta_step=0, max_depth=6, max_leaves=0, min_child_weight=1,\n",
       "              missing=nan, monotone_constraints='()', n_estimators=100,\n",
       "              n_jobs=0, num_parallel_tree=1, objective='multi:softprob',\n",
       "              predictor='auto', ...)"
      ]
     },
     "execution_count": 81,
     "metadata": {},
     "output_type": "execute_result"
    }
   ],
   "source": [
    "learn = XGBClassifier()\n",
    "learn.fit(X_train, y_train)"
   ]
  },
  {
   "cell_type": "code",
   "execution_count": 82,
   "metadata": {
    "id": "urVPtTZyh1sm"
   },
   "outputs": [],
   "source": [
    "pred = learn.predict(X_test)\n",
    "sci_pred = [round(value) for value in pred]"
   ]
  },
  {
   "cell_type": "code",
   "execution_count": 83,
   "metadata": {
    "colab": {
     "base_uri": "https://localhost:8080/"
    },
    "id": "30yW-DKKkzqa",
    "outputId": "8d1ae39b-5135-4f75-ac57-c3723d4ea965"
   },
   "outputs": [
    {
     "data": {
      "text/plain": [
       "0.6800947867298578"
      ]
     },
     "execution_count": 83,
     "metadata": {},
     "output_type": "execute_result"
    }
   ],
   "source": [
    "learn.score (X_test, y_test)"
   ]
  },
  {
   "cell_type": "code",
   "execution_count": 84,
   "metadata": {
    "colab": {
     "base_uri": "https://localhost:8080/"
    },
    "id": "qCEsQr8ZlrA8",
    "outputId": "bbca70ce-ca44-4dc8-ae23-31a0f17bd852"
   },
   "outputs": [
    {
     "data": {
      "text/plain": [
       "array([ 4,  2, 15,  4, 17,  4,  4,  4,  4, 22,  0, 21,  4, 18,  6,  0,  4,\n",
       "       22,  4,  4,  4,  4, 12, 16, 17,  4, 15, 10, 12,  4,  4,  4,  4,  4,\n",
       "        4,  0,  4,  4,  4, 10,  4,  3, 10, 16,  4,  0,  4,  4,  4, 19,  4,\n",
       "        4, 12,  4,  4,  4, 22, 16, 22,  3,  6,  4,  4,  2,  4,  4, 12, 16,\n",
       "        5,  0, 10,  0,  4, 10,  4, 10,  4,  9, 21,  0, 15,  4, 12,  3,  2,\n",
       "        4,  4,  4,  6,  3,  0,  4,  4, 22, 12,  4, 22,  4,  4, 22, 16, 12,\n",
       "        6,  4,  4,  4, 16,  4, 22, 18,  4,  4,  3, 16,  4,  9, 13,  5, 22,\n",
       "        4, 22, 16,  4, 19, 16, 12,  4,  4,  0, 14, 16, 12,  6,  4,  4,  4,\n",
       "        4,  4,  4, 10,  4, 16,  4,  4,  4, 22,  4, 15,  4,  4,  4,  4, 19,\n",
       "        2, 17,  4,  3,  4,  3,  4,  4,  4,  4,  4,  3,  4, 12, 16, 16,  4,\n",
       "        3,  4,  3,  4, 12, 12,  4,  3,  4,  4, 22,  0,  6, 15, 16,  4, 22,\n",
       "       12,  5,  4,  4,  4,  6, 16, 12,  4, 11,  4,  4, 10,  4,  4,  4,  4,\n",
       "       10,  4,  6,  4, 17, 17,  4,  4,  4,  4,  0, 19, 18, 16,  4,  4,  4,\n",
       "        3, 17,  4,  4,  4,  4,  4,  4,  0,  4, 12, 12,  4, 16, 22,  5, 16,\n",
       "       15, 17,  4,  4,  9,  4,  3, 15, 12,  0,  4,  4,  4, 18,  3,  4,  4,\n",
       "       22,  4,  4,  4,  0,  4,  6,  4, 15,  4,  4,  4,  4,  3,  4,  4,  4,\n",
       "       16,  4, 12,  4,  4,  4,  4,  9, 12, 21,  4,  4,  9, 18, 12, 14, 22,\n",
       "        4,  4,  4,  4,  9,  2, 16,  4,  6, 12, 15,  7, 17,  4,  6,  4, 12,\n",
       "       16, 17, 12,  4, 10,  4,  0,  3, 17,  4, 13,  4, 17,  6,  4,  0,  4,\n",
       "        3, 22,  4,  4,  4,  4,  4,  4,  4,  3,  4,  4,  4,  4, 15, 12,  4,\n",
       "       12, 17, 18,  4,  4,  4,  4,  4,  2,  4, 10, 12,  4,  6,  5,  4, 16,\n",
       "       22, 12,  4,  4,  4,  4,  4,  4,  4,  4, 12,  4, 16,  4,  4,  4,  4,\n",
       "       10,  4,  4,  4, 13,  4,  4,  4,  4,  3,  4,  6,  4, 12,  4,  4,  4,\n",
       "        4, 12, 10,  4, 11,  4,  4, 12,  4,  0, 11,  4,  4,  4, 12,  4,  6,\n",
       "        4,  0,  4, 12,  4,  4,  4, 15,  4,  4, 22,  4, 12,  4],\n",
       "      dtype=int64)"
      ]
     },
     "execution_count": 84,
     "metadata": {},
     "output_type": "execute_result"
    }
   ],
   "source": [
    "pred"
   ]
  },
  {
   "cell_type": "code",
   "execution_count": 85,
   "metadata": {
    "id": "NKDGJ7mqlv_b"
   },
   "outputs": [],
   "source": [
    "import sklearn"
   ]
  },
  {
   "cell_type": "code",
   "execution_count": 86,
   "metadata": {
    "colab": {
     "base_uri": "https://localhost:8080/"
    },
    "id": "EIj05iWTllne",
    "outputId": "5741ca2e-59d6-400c-9c52-e308152130aa"
   },
   "outputs": [
    {
     "name": "stdout",
     "output_type": "stream",
     "text": [
      "[[ 10   0   0   0   6   0   0   0   0   0   0   0   0   0   0   1   0   3\n",
      "    0   0   0   0   0]\n",
      " [  0   0   0   1   2   0   0   0   0   0   0   0   0   0   0   0   0   0\n",
      "    0   0   0   0   0]\n",
      " [  0   0   5   0   1   0   1   0   0   0   0   0   2   0   0   0   0   0\n",
      "    0   0   0   0   1]\n",
      " [  1   0   0  12   2   0   0   0   0   0   0   1   0   0   0   1   0   1\n",
      "    0   1   0   0   0]\n",
      " [  0   0   0   1 176   0   0   0   0   0   0   1   0   0   0   1   0   1\n",
      "    1   0   0   0   0]\n",
      " [  0   0   0   0   0   2   0   0   0   0   0   0   3   1   0   0   0   0\n",
      "    0   0   0   0   0]\n",
      " [  0   0   1   0   0   0   9   0   0   0   0   0   1   0   0   0   1   0\n",
      "    1   0   0   0   4]\n",
      " [  0   0   0   0   0   0   0   1   0   0   2   0   0   0   0   0   0   0\n",
      "    0   0   0   0   1]\n",
      " [  0   0   0   0   0   0   1   0   0   0   0   0   0   1   0   0   1   0\n",
      "    0   0   0   0   0]\n",
      " [  0   0   0   0   0   0   0   0   0   2   5   0   0   0   0   0   0   0\n",
      "    0   0   0   0   1]\n",
      " [  0   0   0   0   0   0   1   0   0   2   5   0   0   1   0   0   0   0\n",
      "    0   0   0   0   1]\n",
      " [  0   0   0   0   1   0   0   0   0   0   0   1   1   0   0   0   0   2\n",
      "    0   0   0   0   0]\n",
      " [  0   0   0   0   0   1   0   0   0   0   0   0  23   0   0   0   1   0\n",
      "    0   0   0   0   0]\n",
      " [  0   0   0   0   2   1   0   0   0   0   0   0   2   0   0   0   0   0\n",
      "    0   0   0   0   0]\n",
      " [  0   0   0   0   4   0   0   0   0   0   0   0   1   0   1   3   0   0\n",
      "    0   0   0   1   0]\n",
      " [  2   0   0   0   5   0   0   0   0   0   0   0   0   0   1   2   0   0\n",
      "    0   0   0   1   0]\n",
      " [  0   0   0   3   5   0   1   0   0   0   0   0   0   0   0   2  18   0\n",
      "    0   0   0   1   0]\n",
      " [  5   0   0   0   4   0   1   0   0   0   0   0   0   0   0   0   1   5\n",
      "    1   0   0   0   0]\n",
      " [  0   0   0   0   6   1   0   0   0   0   0   0   0   0   0   0   1   0\n",
      "    2   0   0   0   0]\n",
      " [  0   0   0   2   2   0   0   0   0   0   0   0   0   0   0   0   0   0\n",
      "    0   2   0   0   0]\n",
      " [  0   0   0   0   0   0   0   0   0   0   0   0   0   0   0   0   0   0\n",
      "    1   1   0   0   0]\n",
      " [  0   0   0   0   3   0   0   0   0   0   0   0   0   0   0   1   0   0\n",
      "    0   0   0   0   0]\n",
      " [  0   0   0   0   0   0   1   0   0   2   1   0   1   0   0   0   0   0\n",
      "    0   0   0   0  11]]\n"
     ]
    }
   ],
   "source": [
    "cm=sklearn.metrics.confusion_matrix(y_test,pred)\n",
    "print(cm)"
   ]
  },
  {
   "cell_type": "code",
   "execution_count": 94,
   "metadata": {
    "colab": {
     "base_uri": "https://localhost:8080/",
     "height": 1000
    },
    "id": "CxI5NEIpk5C9",
    "outputId": "76062b84-088f-4f8a-841d-958f994c775c"
   },
   "outputs": [
    {
     "data": {
      "image/png": "[encoded data removed]",
      "text/plain": [
       "<Figure size 1200x1200 with 1 Axes>"
      ]
     },
     "metadata": {
      "needs_background": "light"
     },
     "output_type": "display_data"
    }
   ],
   "source": [
    "import seaborn as sns\n",
    "import pandas as pd\n",
    "import matplotlib.pyplot as plt\n",
    "\n",
    "\n",
    "# df_cm = pd.DataFrame(cm, range(23), range(23))\n",
    "# plt.figure(figsize=(50,50))\n",
    "\n",
    "# sn.heatmap(df_cm, annot=True) # font size\n",
    "\n",
    "# plt.show()\n",
    "\n",
    "\n",
    "plt.figure(figsize=[12,12], dpi=100)\n",
    "sns.heatmap(np.round(cm/np.sum(cm, axis=1), 2),\n",
    "            cbar=False,\n",
    "            annot=True,\n",
    "            annot_kws={\"size\": 9},\n",
    "            cmap=plt.cm.Reds)\n",
    "plt.xlabel('True labels')\n",
    "plt.ylabel('Predicted labels')\n",
    "plt.show()"
   ]
  },
  {
   "cell_type": "code",
   "execution_count": 88,
   "metadata": {
    "colab": {
     "base_uri": "https://localhost:8080/"
    },
    "id": "0wJL_pyKl_9Q",
    "outputId": "198007bf-cf6f-4fce-ce9a-e5e9c517dbf1"
   },
   "outputs": [
    {
     "data": {
      "text/plain": [
       "array([13,  7,  9,  3, 15, 20, 22, 21,  2, 10,  0, 12,  6,  1, 11,  5,  4,\n",
       "       19, 18, 14,  8, 17, 16])"
      ]
     },
     "execution_count": 88,
     "metadata": {},
     "output_type": "execute_result"
    }
   ],
   "source": [
    "le.transform(classes)"
   ]
  },
  {
   "cell_type": "code",
   "execution_count": 89,
   "metadata": {
    "colab": {
     "base_uri": "https://localhost:8080/"
    },
    "id": "PJjX25Zjm28w",
    "outputId": "ab41c04d-775a-4709-9039-c9fae1a99ea4"
   },
   "outputs": [
    {
     "data": {
      "text/plain": [
       "array(['Lower Leg', 'Finger', 'Hand', 'Cervical Spine',\n",
       "       'Lumbar Spine and Thoracic Spine', 'Skull', 'Wrist',\n",
       "       'Thoracic Spine', 'Ankle', 'Hand and Wrist', 'Abdomen', 'Knee',\n",
       "       'Feet', 'Abdomen and Chest', 'Hip', 'Elbow', 'Chest', 'Sinus',\n",
       "       'Shoulder', 'Lumbar Spine', 'Forearm', 'Pelvis', 'Others'],\n",
       "      dtype='<U31')"
      ]
     },
     "execution_count": 89,
     "metadata": {},
     "output_type": "execute_result"
    }
   ],
   "source": [
    "classes"
   ]
  },
  {
   "cell_type": "code",
   "execution_count": 90,
   "metadata": {
    "colab": {
     "base_uri": "https://localhost:8080/"
    },
    "id": "cNHPG8Gdm5X2",
    "outputId": "c68a04db-e1c4-4efd-8eb7-a3b7efa7f22d"
   },
   "outputs": [
    {
     "name": "stdout",
     "output_type": "stream",
     "text": [
      "              precision    recall  f1-score   support\n",
      "\n",
      "           0       0.56      0.50      0.53        20\n",
      "           1       0.00      0.00      0.00         3\n",
      "           2       0.83      0.50      0.62        10\n",
      "           3       0.63      0.63      0.63        19\n",
      "           4       0.80      0.97      0.88       181\n",
      "           5       0.40      0.33      0.36         6\n",
      "           6       0.60      0.53      0.56        17\n",
      "           7       1.00      0.25      0.40         4\n",
      "           8       0.00      0.00      0.00         3\n",
      "           9       0.33      0.25      0.29         8\n",
      "          10       0.38      0.50      0.43        10\n",
      "          11       0.33      0.20      0.25         5\n",
      "          12       0.68      0.92      0.78        25\n",
      "          13       0.00      0.00      0.00         5\n",
      "          14       0.50      0.10      0.17        10\n",
      "          15       0.18      0.18      0.18        11\n",
      "          16       0.78      0.60      0.68        30\n",
      "          17       0.42      0.29      0.34        17\n",
      "          18       0.33      0.20      0.25        10\n",
      "          19       0.50      0.33      0.40         6\n",
      "          20       0.00      0.00      0.00         2\n",
      "          21       0.00      0.00      0.00         4\n",
      "          22       0.58      0.69      0.63        16\n",
      "\n",
      "    accuracy                           0.68       422\n",
      "   macro avg       0.43      0.35      0.36       422\n",
      "weighted avg       0.64      0.68      0.65       422\n",
      "\n"
     ]
    },
    {
     "name": "stderr",
     "output_type": "stream",
     "text": [
      "C:\\Users\\D. RHUTHVIK\\anaconda3\\lib\\site-packages\\sklearn\\metrics\\_classification.py:1248: UndefinedMetricWarning: Precision and F-score are ill-defined and being set to 0.0 in labels with no predicted samples. Use `zero_division` parameter to control this behavior.\n",
      "  _warn_prf(average, modifier, msg_start, len(result))\n",
      "C:\\Users\\D. RHUTHVIK\\anaconda3\\lib\\site-packages\\sklearn\\metrics\\_classification.py:1248: UndefinedMetricWarning: Precision and F-score are ill-defined and being set to 0.0 in labels with no predicted samples. Use `zero_division` parameter to control this behavior.\n",
      "  _warn_prf(average, modifier, msg_start, len(result))\n",
      "C:\\Users\\D. RHUTHVIK\\anaconda3\\lib\\site-packages\\sklearn\\metrics\\_classification.py:1248: UndefinedMetricWarning: Precision and F-score are ill-defined and being set to 0.0 in labels with no predicted samples. Use `zero_division` parameter to control this behavior.\n",
      "  _warn_prf(average, modifier, msg_start, len(result))\n"
     ]
    }
   ],
   "source": [
    "print(sklearn.metrics.classification_report(y_test,pred))"
   ]
  },
  {
   "cell_type": "code",
   "execution_count": null,
   "metadata": {
    "id": "Rq4hJrvpnUWn"
   },
   "outputs": [],
   "source": []
  }
 ],
 "metadata": {
  "colab": {
   "provenance": []
  },
  "kernelspec": {
   "display_name": "Python 3 (ipykernel)",
   "language": "python",
   "name": "python3"
  },
  "language_info": {
   "codemirror_mode": {
    "name": "ipython",
    "version": 3
   },
   "file_extension": ".py",
   "mimetype": "text/x-python",
   "name": "python",
   "nbconvert_exporter": "python",
   "pygments_lexer": "ipython3",
   "version": "3.9.7"
  }
 },
 "nbformat": 4,
 "nbformat_minor": 1
}
