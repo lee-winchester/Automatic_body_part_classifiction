{
  "nbformat": 4,
  "nbformat_minor": 0,
  "metadata": {
    "colab": {
      "provenance": []
    },
    "kernelspec": {
      "name": "python3",
      "display_name": "Python 3"
    },
    "language_info": {
      "name": "python"
    }
  },
  "cells": [
    {
      "cell_type": "code",
      "execution_count": null,
      "metadata": {
        "id": "6Td15Y3vQ0kE"
      },
      "outputs": [],
      "source": [
        "import scipy.io\n",
        "mat = scipy.io.loadmat('/content/surf_encoded_alldescp_gabor_metric.mat',matlab_compatible=True)"
      ]
    },
    {
      "cell_type": "code",
      "source": [
        "a=mat['a']"
      ],
      "metadata": {
        "id": "0CrIs8zXTZY3"
      },
      "execution_count": null,
      "outputs": []
    },
    {
      "cell_type": "code",
      "source": [
        "import pandas as pd"
      ],
      "metadata": {
        "id": "Gk8wDrmQXyWl"
      },
      "execution_count": null,
      "outputs": []
    },
    {
      "cell_type": "code",
      "source": [
        "dat=pd.read_excel('/content/Book 3.xlsx',header=None)"
      ],
      "metadata": {
        "id": "GrJvbKnnZhVA"
      },
      "execution_count": null,
      "outputs": []
    },
    {
      "cell_type": "code",
      "source": [
        "for ind,i in dat.iterrows():\n",
        "  i[0]=i[0][:-1]"
      ],
      "metadata": {
        "id": "0JHj5bq4ZoN7"
      },
      "execution_count": null,
      "outputs": []
    },
    {
      "cell_type": "code",
      "source": [
        "dat"
      ],
      "metadata": {
        "colab": {
          "base_uri": "https://localhost:8080/",
          "height": 423
        },
        "id": "ggwLlQk2Zp7Q",
        "outputId": "ac4cc41a-143d-4144-df64-efcfdf467775"
      },
      "execution_count": null,
      "outputs": [
        {
          "output_type": "execute_result",
          "data": {
            "text/plain": [
              "            0\n",
              "0     Abdomen\n",
              "1     Abdomen\n",
              "2     Abdomen\n",
              "3     Abdomen\n",
              "4     Abdomen\n",
              "...       ...\n",
              "1681    Wrist\n",
              "1682    Wrist\n",
              "1683    Wrist\n",
              "1684    Wrist\n",
              "1685    Wrist\n",
              "\n",
              "[1686 rows x 1 columns]"
            ],
            "text/html": [
              "\n",
              "  <div id=\"df-aca573d8-a61d-4d8d-bb7d-45fe11979e97\">\n",
              "    <div class=\"colab-df-container\">\n",
              "      <div>\n",
              "<style scoped>\n",
              "    .dataframe tbody tr th:only-of-type {\n",
              "        vertical-align: middle;\n",
              "    }\n",
              "\n",
              "    .dataframe tbody tr th {\n",
              "        vertical-align: top;\n",
              "    }\n",
              "\n",
              "    .dataframe thead th {\n",
              "        text-align: right;\n",
              "    }\n",
              "</style>\n",
              "<table border=\"1\" class=\"dataframe\">\n",
              "  <thead>\n",
              "    <tr style=\"text-align: right;\">\n",
              "      <th></th>\n",
              "      <th>0</th>\n",
              "    </tr>\n",
              "  </thead>\n",
              "  <tbody>\n",
              "    <tr>\n",
              "      <th>0</th>\n",
              "      <td>Abdomen</td>\n",
              "    </tr>\n",
              "    <tr>\n",
              "      <th>1</th>\n",
              "      <td>Abdomen</td>\n",
              "    </tr>\n",
              "    <tr>\n",
              "      <th>2</th>\n",
              "      <td>Abdomen</td>\n",
              "    </tr>\n",
              "    <tr>\n",
              "      <th>3</th>\n",
              "      <td>Abdomen</td>\n",
              "    </tr>\n",
              "    <tr>\n",
              "      <th>4</th>\n",
              "      <td>Abdomen</td>\n",
              "    </tr>\n",
              "    <tr>\n",
              "      <th>...</th>\n",
              "      <td>...</td>\n",
              "    </tr>\n",
              "    <tr>\n",
              "      <th>1681</th>\n",
              "      <td>Wrist</td>\n",
              "    </tr>\n",
              "    <tr>\n",
              "      <th>1682</th>\n",
              "      <td>Wrist</td>\n",
              "    </tr>\n",
              "    <tr>\n",
              "      <th>1683</th>\n",
              "      <td>Wrist</td>\n",
              "    </tr>\n",
              "    <tr>\n",
              "      <th>1684</th>\n",
              "      <td>Wrist</td>\n",
              "    </tr>\n",
              "    <tr>\n",
              "      <th>1685</th>\n",
              "      <td>Wrist</td>\n",
              "    </tr>\n",
              "  </tbody>\n",
              "</table>\n",
              "<p>1686 rows × 1 columns</p>\n",
              "</div>\n",
              "      <button class=\"colab-df-convert\" onclick=\"convertToInteractive('df-aca573d8-a61d-4d8d-bb7d-45fe11979e97')\"\n",
              "              title=\"Convert this dataframe to an interactive table.\"\n",
              "              style=\"display:none;\">\n",
              "        \n",
              "  <svg xmlns=\"http://www.w3.org/2000/svg\" height=\"24px\"viewBox=\"0 0 24 24\"\n",
              "       width=\"24px\">\n",
              "    <path d=\"M0 0h24v24H0V0z\" fill=\"none\"/>\n",
              "    <path d=\"M18.56 5.44l.94 2.06.94-2.06 2.06-.94-2.06-.94-.94-2.06-.94 2.06-2.06.94zm-11 1L8.5 8.5l.94-2.06 2.06-.94-2.06-.94L8.5 2.5l-.94 2.06-2.06.94zm10 10l.94 2.06.94-2.06 2.06-.94-2.06-.94-.94-2.06-.94 2.06-2.06.94z\"/><path d=\"M17.41 7.96l-1.37-1.37c-.4-.4-.92-.59-1.43-.59-.52 0-1.04.2-1.43.59L10.3 9.45l-7.72 7.72c-.78.78-.78 2.05 0 2.83L4 21.41c.39.39.9.59 1.41.59.51 0 1.02-.2 1.41-.59l7.78-7.78 2.81-2.81c.8-.78.8-2.07 0-2.86zM5.41 20L4 18.59l7.72-7.72 1.47 1.35L5.41 20z\"/>\n",
              "  </svg>\n",
              "      </button>\n",
              "      \n",
              "  <style>\n",
              "    .colab-df-container {\n",
              "      display:flex;\n",
              "      flex-wrap:wrap;\n",
              "      gap: 12px;\n",
              "    }\n",
              "\n",
              "    .colab-df-convert {\n",
              "      background-color: #E8F0FE;\n",
              "      border: none;\n",
              "      border-radius: 50%;\n",
              "      cursor: pointer;\n",
              "      display: none;\n",
              "      fill: #1967D2;\n",
              "      height: 32px;\n",
              "      padding: 0 0 0 0;\n",
              "      width: 32px;\n",
              "    }\n",
              "\n",
              "    .colab-df-convert:hover {\n",
              "      background-color: #E2EBFA;\n",
              "      box-shadow: 0px 1px 2px rgba(60, 64, 67, 0.3), 0px 1px 3px 1px rgba(60, 64, 67, 0.15);\n",
              "      fill: #174EA6;\n",
              "    }\n",
              "\n",
              "    [theme=dark] .colab-df-convert {\n",
              "      background-color: #3B4455;\n",
              "      fill: #D2E3FC;\n",
              "    }\n",
              "\n",
              "    [theme=dark] .colab-df-convert:hover {\n",
              "      background-color: #434B5C;\n",
              "      box-shadow: 0px 1px 3px 1px rgba(0, 0, 0, 0.15);\n",
              "      filter: drop-shadow(0px 1px 2px rgba(0, 0, 0, 0.3));\n",
              "      fill: #FFFFFF;\n",
              "    }\n",
              "  </style>\n",
              "\n",
              "      <script>\n",
              "        const buttonEl =\n",
              "          document.querySelector('#df-aca573d8-a61d-4d8d-bb7d-45fe11979e97 button.colab-df-convert');\n",
              "        buttonEl.style.display =\n",
              "          google.colab.kernel.accessAllowed ? 'block' : 'none';\n",
              "\n",
              "        async function convertToInteractive(key) {\n",
              "          const element = document.querySelector('#df-aca573d8-a61d-4d8d-bb7d-45fe11979e97');\n",
              "          const dataTable =\n",
              "            await google.colab.kernel.invokeFunction('convertToInteractive',\n",
              "                                                     [key], {});\n",
              "          if (!dataTable) return;\n",
              "\n",
              "          const docLinkHtml = 'Like what you see? Visit the ' +\n",
              "            '<a target=\"_blank\" href=https://colab.research.google.com/notebooks/data_table.ipynb>data table notebook</a>'\n",
              "            + ' to learn more about interactive tables.';\n",
              "          element.innerHTML = '';\n",
              "          dataTable['output_type'] = 'display_data';\n",
              "          await google.colab.output.renderOutput(dataTable, element);\n",
              "          const docLink = document.createElement('div');\n",
              "          docLink.innerHTML = docLinkHtml;\n",
              "          element.appendChild(docLink);\n",
              "        }\n",
              "      </script>\n",
              "    </div>\n",
              "  </div>\n",
              "  "
            ]
          },
          "metadata": {},
          "execution_count": 14
        }
      ]
    },
    {
      "cell_type": "code",
      "source": [
        "dat.value_counts()"
      ],
      "metadata": {
        "id": "NxWt--ouZ_1c",
        "colab": {
          "base_uri": "https://localhost:8080/"
        },
        "outputId": "dae41cdd-8c26-44b8-804c-a6ff56873f5a"
      },
      "execution_count": null,
      "outputs": [
        {
          "output_type": "execute_result",
          "data": {
            "text/plain": [
              "Chest                              723\n",
              "Others                             120\n",
              "Knee                               102\n",
              "Abdomen                             80\n",
              "Cervical Spine                      76\n",
              "Feet                                70\n",
              "Pelvis                              67\n",
              "Wrist                               63\n",
              "Lumbar Spine and Thoracic Spine     45\n",
              "Hand and Wrist                      42\n",
              "Ankle                               41\n",
              "Shoulder                            40\n",
              "Lumbar Spine                        39\n",
              "Hand                                31\n",
              "Elbow                               23\n",
              "Sinus                               23\n",
              "Lower Leg                           19\n",
              "Hip                                 19\n",
              "Finger                              15\n",
              "Thoracic Spine                      15\n",
              "Forearm                             12\n",
              "Abdomen and Chest                   11\n",
              "Skull                               10\n",
              "dtype: int64"
            ]
          },
          "metadata": {},
          "execution_count": 15
        }
      ]
    },
    {
      "cell_type": "code",
      "source": [
        "df=pd.DataFrame(a)"
      ],
      "metadata": {
        "id": "M-M-jCkvfSpl"
      },
      "execution_count": null,
      "outputs": []
    },
    {
      "cell_type": "code",
      "source": [
        "df"
      ],
      "metadata": {
        "colab": {
          "base_uri": "https://localhost:8080/",
          "height": 487
        },
        "id": "ghc26ex4goR_",
        "outputId": "eaa31283-5fde-4308-9cb1-3f2663fc6749"
      },
      "execution_count": null,
      "outputs": [
        {
          "output_type": "execute_result",
          "data": {
            "text/plain": [
              "           0         1         2         3         4         5         6    \\\n",
              "0     0.000000  0.000000  0.000000  0.000000  0.000000  0.000000  0.000000   \n",
              "1     0.000000  0.000000  0.000000  0.000000  0.000000  0.000000  0.000000   \n",
              "2     0.000000  0.000000  0.078567  0.000000  0.000000  0.000000  0.000000   \n",
              "3     0.046029  0.000000  0.092057  0.092057  0.000000  0.046029  0.000000   \n",
              "4     0.090443  0.000000  0.000000  0.045222  0.000000  0.000000  0.000000   \n",
              "...        ...       ...       ...       ...       ...       ...       ...   \n",
              "1681  0.000000  0.000000  0.000000  0.000000  0.032513  0.032513  0.032513   \n",
              "1682  0.000000  0.000000  0.073373  0.073373  0.000000  0.000000  0.000000   \n",
              "1683  0.000000  0.000000  0.107348  0.000000  0.000000  0.000000  0.000000   \n",
              "1684  0.000000  0.000000  0.000000  0.000000  0.000000  0.161281  0.000000   \n",
              "1685  0.088969  0.029656  0.148282  0.000000  0.000000  0.000000  0.000000   \n",
              "\n",
              "           7         8    9    ...       490       491       492       493  \\\n",
              "0     0.000000  0.000000  0.0  ...  0.000000  0.000000  0.000000  0.000000   \n",
              "1     0.000000  0.000000  0.0  ...  0.000000  0.000000  0.126239  0.000000   \n",
              "2     0.000000  0.000000  0.0  ...  0.000000  0.000000  0.078567  0.000000   \n",
              "3     0.046029  0.000000  0.0  ...  0.000000  0.092057  0.046029  0.000000   \n",
              "4     0.000000  0.000000  0.0  ...  0.000000  0.000000  0.000000  0.045222   \n",
              "...        ...       ...  ...  ...       ...       ...       ...       ...   \n",
              "1681  0.032513  0.032513  0.0  ...  0.000000  0.000000  0.000000  0.000000   \n",
              "1682  0.036686  0.036686  0.0  ...  0.000000  0.000000  0.000000  0.000000   \n",
              "1683  0.000000  0.035783  0.0  ...  0.000000  0.107348  0.000000  0.035783   \n",
              "1684  0.000000  0.000000  0.0  ...  0.000000  0.000000  0.000000  0.000000   \n",
              "1685  0.000000  0.029656  0.0  ...  0.029656  0.088969  0.000000  0.029656   \n",
              "\n",
              "           494       495       496       497       498       499  \n",
              "0     0.000000  0.000000  0.000000  0.000000  0.000000  0.000000  \n",
              "1     0.063119  0.000000  0.126239  0.000000  0.000000  0.000000  \n",
              "2     0.000000  0.000000  0.000000  0.000000  0.000000  0.000000  \n",
              "3     0.046029  0.000000  0.000000  0.000000  0.000000  0.000000  \n",
              "4     0.000000  0.045222  0.000000  0.000000  0.000000  0.135665  \n",
              "...        ...       ...       ...       ...       ...       ...  \n",
              "1681  0.065026  0.065026  0.000000  0.000000  0.000000  0.065026  \n",
              "1682  0.000000  0.000000  0.000000  0.036686  0.000000  0.000000  \n",
              "1683  0.000000  0.000000  0.035783  0.000000  0.000000  0.035783  \n",
              "1684  0.000000  0.053760  0.000000  0.000000  0.000000  0.000000  \n",
              "1685  0.000000  0.029656  0.000000  0.000000  0.059313  0.000000  \n",
              "\n",
              "[1686 rows x 500 columns]"
            ],
            "text/html": [
              "\n",
              "  <div id=\"df-01f86ed1-c5a8-470a-becc-f06705d0fa5a\">\n",
              "    <div class=\"colab-df-container\">\n",
              "      <div>\n",
              "<style scoped>\n",
              "    .dataframe tbody tr th:only-of-type {\n",
              "        vertical-align: middle;\n",
              "    }\n",
              "\n",
              "    .dataframe tbody tr th {\n",
              "        vertical-align: top;\n",
              "    }\n",
              "\n",
              "    .dataframe thead th {\n",
              "        text-align: right;\n",
              "    }\n",
              "</style>\n",
              "<table border=\"1\" class=\"dataframe\">\n",
              "  <thead>\n",
              "    <tr style=\"text-align: right;\">\n",
              "      <th></th>\n",
              "      <th>0</th>\n",
              "      <th>1</th>\n",
              "      <th>2</th>\n",
              "      <th>3</th>\n",
              "      <th>4</th>\n",
              "      <th>5</th>\n",
              "      <th>6</th>\n",
              "      <th>7</th>\n",
              "      <th>8</th>\n",
              "      <th>9</th>\n",
              "      <th>...</th>\n",
              "      <th>490</th>\n",
              "      <th>491</th>\n",
              "      <th>492</th>\n",
              "      <th>493</th>\n",
              "      <th>494</th>\n",
              "      <th>495</th>\n",
              "      <th>496</th>\n",
              "      <th>497</th>\n",
              "      <th>498</th>\n",
              "      <th>499</th>\n",
              "    </tr>\n",
              "  </thead>\n",
              "  <tbody>\n",
              "    <tr>\n",
              "      <th>0</th>\n",
              "      <td>0.000000</td>\n",
              "      <td>0.000000</td>\n",
              "      <td>0.000000</td>\n",
              "      <td>0.000000</td>\n",
              "      <td>0.000000</td>\n",
              "      <td>0.000000</td>\n",
              "      <td>0.000000</td>\n",
              "      <td>0.000000</td>\n",
              "      <td>0.000000</td>\n",
              "      <td>0.0</td>\n",
              "      <td>...</td>\n",
              "      <td>0.000000</td>\n",
              "      <td>0.000000</td>\n",
              "      <td>0.000000</td>\n",
              "      <td>0.000000</td>\n",
              "      <td>0.000000</td>\n",
              "      <td>0.000000</td>\n",
              "      <td>0.000000</td>\n",
              "      <td>0.000000</td>\n",
              "      <td>0.000000</td>\n",
              "      <td>0.000000</td>\n",
              "    </tr>\n",
              "    <tr>\n",
              "      <th>1</th>\n",
              "      <td>0.000000</td>\n",
              "      <td>0.000000</td>\n",
              "      <td>0.000000</td>\n",
              "      <td>0.000000</td>\n",
              "      <td>0.000000</td>\n",
              "      <td>0.000000</td>\n",
              "      <td>0.000000</td>\n",
              "      <td>0.000000</td>\n",
              "      <td>0.000000</td>\n",
              "      <td>0.0</td>\n",
              "      <td>...</td>\n",
              "      <td>0.000000</td>\n",
              "      <td>0.000000</td>\n",
              "      <td>0.126239</td>\n",
              "      <td>0.000000</td>\n",
              "      <td>0.063119</td>\n",
              "      <td>0.000000</td>\n",
              "      <td>0.126239</td>\n",
              "      <td>0.000000</td>\n",
              "      <td>0.000000</td>\n",
              "      <td>0.000000</td>\n",
              "    </tr>\n",
              "    <tr>\n",
              "      <th>2</th>\n",
              "      <td>0.000000</td>\n",
              "      <td>0.000000</td>\n",
              "      <td>0.078567</td>\n",
              "      <td>0.000000</td>\n",
              "      <td>0.000000</td>\n",
              "      <td>0.000000</td>\n",
              "      <td>0.000000</td>\n",
              "      <td>0.000000</td>\n",
              "      <td>0.000000</td>\n",
              "      <td>0.0</td>\n",
              "      <td>...</td>\n",
              "      <td>0.000000</td>\n",
              "      <td>0.000000</td>\n",
              "      <td>0.078567</td>\n",
              "      <td>0.000000</td>\n",
              "      <td>0.000000</td>\n",
              "      <td>0.000000</td>\n",
              "      <td>0.000000</td>\n",
              "      <td>0.000000</td>\n",
              "      <td>0.000000</td>\n",
              "      <td>0.000000</td>\n",
              "    </tr>\n",
              "    <tr>\n",
              "      <th>3</th>\n",
              "      <td>0.046029</td>\n",
              "      <td>0.000000</td>\n",
              "      <td>0.092057</td>\n",
              "      <td>0.092057</td>\n",
              "      <td>0.000000</td>\n",
              "      <td>0.046029</td>\n",
              "      <td>0.000000</td>\n",
              "      <td>0.046029</td>\n",
              "      <td>0.000000</td>\n",
              "      <td>0.0</td>\n",
              "      <td>...</td>\n",
              "      <td>0.000000</td>\n",
              "      <td>0.092057</td>\n",
              "      <td>0.046029</td>\n",
              "      <td>0.000000</td>\n",
              "      <td>0.046029</td>\n",
              "      <td>0.000000</td>\n",
              "      <td>0.000000</td>\n",
              "      <td>0.000000</td>\n",
              "      <td>0.000000</td>\n",
              "      <td>0.000000</td>\n",
              "    </tr>\n",
              "    <tr>\n",
              "      <th>4</th>\n",
              "      <td>0.090443</td>\n",
              "      <td>0.000000</td>\n",
              "      <td>0.000000</td>\n",
              "      <td>0.045222</td>\n",
              "      <td>0.000000</td>\n",
              "      <td>0.000000</td>\n",
              "      <td>0.000000</td>\n",
              "      <td>0.000000</td>\n",
              "      <td>0.000000</td>\n",
              "      <td>0.0</td>\n",
              "      <td>...</td>\n",
              "      <td>0.000000</td>\n",
              "      <td>0.000000</td>\n",
              "      <td>0.000000</td>\n",
              "      <td>0.045222</td>\n",
              "      <td>0.000000</td>\n",
              "      <td>0.045222</td>\n",
              "      <td>0.000000</td>\n",
              "      <td>0.000000</td>\n",
              "      <td>0.000000</td>\n",
              "      <td>0.135665</td>\n",
              "    </tr>\n",
              "    <tr>\n",
              "      <th>...</th>\n",
              "      <td>...</td>\n",
              "      <td>...</td>\n",
              "      <td>...</td>\n",
              "      <td>...</td>\n",
              "      <td>...</td>\n",
              "      <td>...</td>\n",
              "      <td>...</td>\n",
              "      <td>...</td>\n",
              "      <td>...</td>\n",
              "      <td>...</td>\n",
              "      <td>...</td>\n",
              "      <td>...</td>\n",
              "      <td>...</td>\n",
              "      <td>...</td>\n",
              "      <td>...</td>\n",
              "      <td>...</td>\n",
              "      <td>...</td>\n",
              "      <td>...</td>\n",
              "      <td>...</td>\n",
              "      <td>...</td>\n",
              "      <td>...</td>\n",
              "    </tr>\n",
              "    <tr>\n",
              "      <th>1681</th>\n",
              "      <td>0.000000</td>\n",
              "      <td>0.000000</td>\n",
              "      <td>0.000000</td>\n",
              "      <td>0.000000</td>\n",
              "      <td>0.032513</td>\n",
              "      <td>0.032513</td>\n",
              "      <td>0.032513</td>\n",
              "      <td>0.032513</td>\n",
              "      <td>0.032513</td>\n",
              "      <td>0.0</td>\n",
              "      <td>...</td>\n",
              "      <td>0.000000</td>\n",
              "      <td>0.000000</td>\n",
              "      <td>0.000000</td>\n",
              "      <td>0.000000</td>\n",
              "      <td>0.065026</td>\n",
              "      <td>0.065026</td>\n",
              "      <td>0.000000</td>\n",
              "      <td>0.000000</td>\n",
              "      <td>0.000000</td>\n",
              "      <td>0.065026</td>\n",
              "    </tr>\n",
              "    <tr>\n",
              "      <th>1682</th>\n",
              "      <td>0.000000</td>\n",
              "      <td>0.000000</td>\n",
              "      <td>0.073373</td>\n",
              "      <td>0.073373</td>\n",
              "      <td>0.000000</td>\n",
              "      <td>0.000000</td>\n",
              "      <td>0.000000</td>\n",
              "      <td>0.036686</td>\n",
              "      <td>0.036686</td>\n",
              "      <td>0.0</td>\n",
              "      <td>...</td>\n",
              "      <td>0.000000</td>\n",
              "      <td>0.000000</td>\n",
              "      <td>0.000000</td>\n",
              "      <td>0.000000</td>\n",
              "      <td>0.000000</td>\n",
              "      <td>0.000000</td>\n",
              "      <td>0.000000</td>\n",
              "      <td>0.036686</td>\n",
              "      <td>0.000000</td>\n",
              "      <td>0.000000</td>\n",
              "    </tr>\n",
              "    <tr>\n",
              "      <th>1683</th>\n",
              "      <td>0.000000</td>\n",
              "      <td>0.000000</td>\n",
              "      <td>0.107348</td>\n",
              "      <td>0.000000</td>\n",
              "      <td>0.000000</td>\n",
              "      <td>0.000000</td>\n",
              "      <td>0.000000</td>\n",
              "      <td>0.000000</td>\n",
              "      <td>0.035783</td>\n",
              "      <td>0.0</td>\n",
              "      <td>...</td>\n",
              "      <td>0.000000</td>\n",
              "      <td>0.107348</td>\n",
              "      <td>0.000000</td>\n",
              "      <td>0.035783</td>\n",
              "      <td>0.000000</td>\n",
              "      <td>0.000000</td>\n",
              "      <td>0.035783</td>\n",
              "      <td>0.000000</td>\n",
              "      <td>0.000000</td>\n",
              "      <td>0.035783</td>\n",
              "    </tr>\n",
              "    <tr>\n",
              "      <th>1684</th>\n",
              "      <td>0.000000</td>\n",
              "      <td>0.000000</td>\n",
              "      <td>0.000000</td>\n",
              "      <td>0.000000</td>\n",
              "      <td>0.000000</td>\n",
              "      <td>0.161281</td>\n",
              "      <td>0.000000</td>\n",
              "      <td>0.000000</td>\n",
              "      <td>0.000000</td>\n",
              "      <td>0.0</td>\n",
              "      <td>...</td>\n",
              "      <td>0.000000</td>\n",
              "      <td>0.000000</td>\n",
              "      <td>0.000000</td>\n",
              "      <td>0.000000</td>\n",
              "      <td>0.000000</td>\n",
              "      <td>0.053760</td>\n",
              "      <td>0.000000</td>\n",
              "      <td>0.000000</td>\n",
              "      <td>0.000000</td>\n",
              "      <td>0.000000</td>\n",
              "    </tr>\n",
              "    <tr>\n",
              "      <th>1685</th>\n",
              "      <td>0.088969</td>\n",
              "      <td>0.029656</td>\n",
              "      <td>0.148282</td>\n",
              "      <td>0.000000</td>\n",
              "      <td>0.000000</td>\n",
              "      <td>0.000000</td>\n",
              "      <td>0.000000</td>\n",
              "      <td>0.000000</td>\n",
              "      <td>0.029656</td>\n",
              "      <td>0.0</td>\n",
              "      <td>...</td>\n",
              "      <td>0.029656</td>\n",
              "      <td>0.088969</td>\n",
              "      <td>0.000000</td>\n",
              "      <td>0.029656</td>\n",
              "      <td>0.000000</td>\n",
              "      <td>0.029656</td>\n",
              "      <td>0.000000</td>\n",
              "      <td>0.000000</td>\n",
              "      <td>0.059313</td>\n",
              "      <td>0.000000</td>\n",
              "    </tr>\n",
              "  </tbody>\n",
              "</table>\n",
              "<p>1686 rows × 500 columns</p>\n",
              "</div>\n",
              "      <button class=\"colab-df-convert\" onclick=\"convertToInteractive('df-01f86ed1-c5a8-470a-becc-f06705d0fa5a')\"\n",
              "              title=\"Convert this dataframe to an interactive table.\"\n",
              "              style=\"display:none;\">\n",
              "        \n",
              "  <svg xmlns=\"http://www.w3.org/2000/svg\" height=\"24px\"viewBox=\"0 0 24 24\"\n",
              "       width=\"24px\">\n",
              "    <path d=\"M0 0h24v24H0V0z\" fill=\"none\"/>\n",
              "    <path d=\"M18.56 5.44l.94 2.06.94-2.06 2.06-.94-2.06-.94-.94-2.06-.94 2.06-2.06.94zm-11 1L8.5 8.5l.94-2.06 2.06-.94-2.06-.94L8.5 2.5l-.94 2.06-2.06.94zm10 10l.94 2.06.94-2.06 2.06-.94-2.06-.94-.94-2.06-.94 2.06-2.06.94z\"/><path d=\"M17.41 7.96l-1.37-1.37c-.4-.4-.92-.59-1.43-.59-.52 0-1.04.2-1.43.59L10.3 9.45l-7.72 7.72c-.78.78-.78 2.05 0 2.83L4 21.41c.39.39.9.59 1.41.59.51 0 1.02-.2 1.41-.59l7.78-7.78 2.81-2.81c.8-.78.8-2.07 0-2.86zM5.41 20L4 18.59l7.72-7.72 1.47 1.35L5.41 20z\"/>\n",
              "  </svg>\n",
              "      </button>\n",
              "      \n",
              "  <style>\n",
              "    .colab-df-container {\n",
              "      display:flex;\n",
              "      flex-wrap:wrap;\n",
              "      gap: 12px;\n",
              "    }\n",
              "\n",
              "    .colab-df-convert {\n",
              "      background-color: #E8F0FE;\n",
              "      border: none;\n",
              "      border-radius: 50%;\n",
              "      cursor: pointer;\n",
              "      display: none;\n",
              "      fill: #1967D2;\n",
              "      height: 32px;\n",
              "      padding: 0 0 0 0;\n",
              "      width: 32px;\n",
              "    }\n",
              "\n",
              "    .colab-df-convert:hover {\n",
              "      background-color: #E2EBFA;\n",
              "      box-shadow: 0px 1px 2px rgba(60, 64, 67, 0.3), 0px 1px 3px 1px rgba(60, 64, 67, 0.15);\n",
              "      fill: #174EA6;\n",
              "    }\n",
              "\n",
              "    [theme=dark] .colab-df-convert {\n",
              "      background-color: #3B4455;\n",
              "      fill: #D2E3FC;\n",
              "    }\n",
              "\n",
              "    [theme=dark] .colab-df-convert:hover {\n",
              "      background-color: #434B5C;\n",
              "      box-shadow: 0px 1px 3px 1px rgba(0, 0, 0, 0.15);\n",
              "      filter: drop-shadow(0px 1px 2px rgba(0, 0, 0, 0.3));\n",
              "      fill: #FFFFFF;\n",
              "    }\n",
              "  </style>\n",
              "\n",
              "      <script>\n",
              "        const buttonEl =\n",
              "          document.querySelector('#df-01f86ed1-c5a8-470a-becc-f06705d0fa5a button.colab-df-convert');\n",
              "        buttonEl.style.display =\n",
              "          google.colab.kernel.accessAllowed ? 'block' : 'none';\n",
              "\n",
              "        async function convertToInteractive(key) {\n",
              "          const element = document.querySelector('#df-01f86ed1-c5a8-470a-becc-f06705d0fa5a');\n",
              "          const dataTable =\n",
              "            await google.colab.kernel.invokeFunction('convertToInteractive',\n",
              "                                                     [key], {});\n",
              "          if (!dataTable) return;\n",
              "\n",
              "          const docLinkHtml = 'Like what you see? Visit the ' +\n",
              "            '<a target=\"_blank\" href=https://colab.research.google.com/notebooks/data_table.ipynb>data table notebook</a>'\n",
              "            + ' to learn more about interactive tables.';\n",
              "          element.innerHTML = '';\n",
              "          dataTable['output_type'] = 'display_data';\n",
              "          await google.colab.output.renderOutput(dataTable, element);\n",
              "          const docLink = document.createElement('div');\n",
              "          docLink.innerHTML = docLinkHtml;\n",
              "          element.appendChild(docLink);\n",
              "        }\n",
              "      </script>\n",
              "    </div>\n",
              "  </div>\n",
              "  "
            ]
          },
          "metadata": {},
          "execution_count": 17
        }
      ]
    },
    {
      "cell_type": "code",
      "source": [
        "classes=set(dat[0])"
      ],
      "metadata": {
        "id": "S4V746dXjmjP"
      },
      "execution_count": null,
      "outputs": []
    },
    {
      "cell_type": "code",
      "source": [
        "import numpy as np"
      ],
      "metadata": {
        "id": "MIgNiqO_m6Kr"
      },
      "execution_count": null,
      "outputs": []
    },
    {
      "cell_type": "code",
      "source": [
        "classes=np.array(list(classes))"
      ],
      "metadata": {
        "id": "lw_Tl_TIjqJC"
      },
      "execution_count": null,
      "outputs": []
    },
    {
      "cell_type": "code",
      "source": [
        "classes"
      ],
      "metadata": {
        "colab": {
          "base_uri": "https://localhost:8080/"
        },
        "id": "fkQ0cqtMj6pc",
        "outputId": "6111ebf4-ecc3-4e2c-a6c8-d2d9302d850c"
      },
      "execution_count": null,
      "outputs": [
        {
          "output_type": "execute_result",
          "data": {
            "text/plain": [
              "array(['Thoracic Spine', 'Hand', 'Finger', 'Knee', 'Elbow',\n",
              "       'Lumbar Spine', 'Forearm', 'Cervical Spine', 'Skull', 'Others',\n",
              "       'Lower Leg', 'Sinus', 'Ankle', 'Hand and Wrist', 'Pelvis', 'Chest',\n",
              "       'Feet', 'Abdomen', 'Lumbar Spine and Thoracic Spine', 'Wrist',\n",
              "       'Hip', 'Abdomen and Chest', 'Shoulder'], dtype='<U31')"
            ]
          },
          "metadata": {},
          "execution_count": 21
        }
      ]
    },
    {
      "cell_type": "code",
      "source": [
        "from sklearn.model_selection import train_test_split"
      ],
      "metadata": {
        "id": "W2N23MwZgpGw"
      },
      "execution_count": null,
      "outputs": []
    },
    {
      "cell_type": "code",
      "source": [
        "from sklearn import preprocessing\n",
        ">>> le = preprocessing.LabelEncoder()"
      ],
      "metadata": {
        "id": "-ZtDNZ1eiEUD"
      },
      "execution_count": null,
      "outputs": []
    },
    {
      "cell_type": "code",
      "source": [
        "le.fit(classes)"
      ],
      "metadata": {
        "colab": {
          "base_uri": "https://localhost:8080/",
          "height": 74
        },
        "id": "lpSqCUzyiGvA",
        "outputId": "6b6b2c72-e551-43f0-abfd-4a0515c0c7a0"
      },
      "execution_count": null,
      "outputs": [
        {
          "output_type": "execute_result",
          "data": {
            "text/plain": [
              "LabelEncoder()"
            ],
            "text/html": [
              "<style>#sk-container-id-1 {color: black;background-color: white;}#sk-container-id-1 pre{padding: 0;}#sk-container-id-1 div.sk-toggleable {background-color: white;}#sk-container-id-1 label.sk-toggleable__label {cursor: pointer;display: block;width: 100%;margin-bottom: 0;padding: 0.3em;box-sizing: border-box;text-align: center;}#sk-container-id-1 label.sk-toggleable__label-arrow:before {content: \"▸\";float: left;margin-right: 0.25em;color: #696969;}#sk-container-id-1 label.sk-toggleable__label-arrow:hover:before {color: black;}#sk-container-id-1 div.sk-estimator:hover label.sk-toggleable__label-arrow:before {color: black;}#sk-container-id-1 div.sk-toggleable__content {max-height: 0;max-width: 0;overflow: hidden;text-align: left;background-color: #f0f8ff;}#sk-container-id-1 div.sk-toggleable__content pre {margin: 0.2em;color: black;border-radius: 0.25em;background-color: #f0f8ff;}#sk-container-id-1 input.sk-toggleable__control:checked~div.sk-toggleable__content {max-height: 200px;max-width: 100%;overflow: auto;}#sk-container-id-1 input.sk-toggleable__control:checked~label.sk-toggleable__label-arrow:before {content: \"▾\";}#sk-container-id-1 div.sk-estimator input.sk-toggleable__control:checked~label.sk-toggleable__label {background-color: #d4ebff;}#sk-container-id-1 div.sk-label input.sk-toggleable__control:checked~label.sk-toggleable__label {background-color: #d4ebff;}#sk-container-id-1 input.sk-hidden--visually {border: 0;clip: rect(1px 1px 1px 1px);clip: rect(1px, 1px, 1px, 1px);height: 1px;margin: -1px;overflow: hidden;padding: 0;position: absolute;width: 1px;}#sk-container-id-1 div.sk-estimator {font-family: monospace;background-color: #f0f8ff;border: 1px dotted black;border-radius: 0.25em;box-sizing: border-box;margin-bottom: 0.5em;}#sk-container-id-1 div.sk-estimator:hover {background-color: #d4ebff;}#sk-container-id-1 div.sk-parallel-item::after {content: \"\";width: 100%;border-bottom: 1px solid gray;flex-grow: 1;}#sk-container-id-1 div.sk-label:hover label.sk-toggleable__label {background-color: #d4ebff;}#sk-container-id-1 div.sk-serial::before {content: \"\";position: absolute;border-left: 1px solid gray;box-sizing: border-box;top: 0;bottom: 0;left: 50%;z-index: 0;}#sk-container-id-1 div.sk-serial {display: flex;flex-direction: column;align-items: center;background-color: white;padding-right: 0.2em;padding-left: 0.2em;position: relative;}#sk-container-id-1 div.sk-item {position: relative;z-index: 1;}#sk-container-id-1 div.sk-parallel {display: flex;align-items: stretch;justify-content: center;background-color: white;position: relative;}#sk-container-id-1 div.sk-item::before, #sk-container-id-1 div.sk-parallel-item::before {content: \"\";position: absolute;border-left: 1px solid gray;box-sizing: border-box;top: 0;bottom: 0;left: 50%;z-index: -1;}#sk-container-id-1 div.sk-parallel-item {display: flex;flex-direction: column;z-index: 1;position: relative;background-color: white;}#sk-container-id-1 div.sk-parallel-item:first-child::after {align-self: flex-end;width: 50%;}#sk-container-id-1 div.sk-parallel-item:last-child::after {align-self: flex-start;width: 50%;}#sk-container-id-1 div.sk-parallel-item:only-child::after {width: 0;}#sk-container-id-1 div.sk-dashed-wrapped {border: 1px dashed gray;margin: 0 0.4em 0.5em 0.4em;box-sizing: border-box;padding-bottom: 0.4em;background-color: white;}#sk-container-id-1 div.sk-label label {font-family: monospace;font-weight: bold;display: inline-block;line-height: 1.2em;}#sk-container-id-1 div.sk-label-container {text-align: center;}#sk-container-id-1 div.sk-container {/* jupyter's `normalize.less` sets `[hidden] { display: none; }` but bootstrap.min.css set `[hidden] { display: none !important; }` so we also need the `!important` here to be able to override the default hidden behavior on the sphinx rendered scikit-learn.org. See: https://github.com/scikit-learn/scikit-learn/issues/21755 */display: inline-block !important;position: relative;}#sk-container-id-1 div.sk-text-repr-fallback {display: none;}</style><div id=\"sk-container-id-1\" class=\"sk-top-container\"><div class=\"sk-text-repr-fallback\"><pre>LabelEncoder()</pre><b>In a Jupyter environment, please rerun this cell to show the HTML representation or trust the notebook. <br />On GitHub, the HTML representation is unable to render, please try loading this page with nbviewer.org.</b></div><div class=\"sk-container\" hidden><div class=\"sk-item\"><div class=\"sk-estimator sk-toggleable\"><input class=\"sk-toggleable__control sk-hidden--visually\" id=\"sk-estimator-id-1\" type=\"checkbox\" checked><label for=\"sk-estimator-id-1\" class=\"sk-toggleable__label sk-toggleable__label-arrow\">LabelEncoder</label><div class=\"sk-toggleable__content\"><pre>LabelEncoder()</pre></div></div></div></div></div>"
            ]
          },
          "metadata": {},
          "execution_count": 24
        }
      ]
    },
    {
      "cell_type": "code",
      "source": [
        "label=le.transform(dat[0])"
      ],
      "metadata": {
        "id": "9IziOtO0i4sT"
      },
      "execution_count": null,
      "outputs": []
    },
    {
      "cell_type": "code",
      "source": [
        "len(label)"
      ],
      "metadata": {
        "colab": {
          "base_uri": "https://localhost:8080/"
        },
        "id": "7OzEkJvgnFEy",
        "outputId": "4bd2f547-c6fc-4f9c-8d05-2b184bb27c8c"
      },
      "execution_count": null,
      "outputs": [
        {
          "output_type": "execute_result",
          "data": {
            "text/plain": [
              "1686"
            ]
          },
          "metadata": {},
          "execution_count": 26
        }
      ]
    },
    {
      "cell_type": "code",
      "source": [
        "X_train, X_test, y_train, y_test = train_test_split(df,label, test_size=0.25,stratify=label)"
      ],
      "metadata": {
        "id": "gE4BVCBagww2"
      },
      "execution_count": null,
      "outputs": []
    },
    {
      "cell_type": "code",
      "source": [
        "from xgboost import XGBClassifier"
      ],
      "metadata": {
        "id": "xljfT8JHhLdL"
      },
      "execution_count": null,
      "outputs": []
    },
    {
      "cell_type": "code",
      "source": [
        "learn = XGBClassifier()\n",
        "learn.fit(X_train, y_train)"
      ],
      "metadata": {
        "colab": {
          "base_uri": "https://localhost:8080/",
          "height": 248
        },
        "id": "A2U8nk1fhwpS",
        "outputId": "dc9697e4-b3a8-4036-8733-97481959e7df"
      },
      "execution_count": null,
      "outputs": [
        {
          "output_type": "execute_result",
          "data": {
            "text/plain": [
              "XGBClassifier(base_score=None, booster=None, callbacks=None,\n",
              "              colsample_bylevel=None, colsample_bynode=None,\n",
              "              colsample_bytree=None, early_stopping_rounds=None,\n",
              "              enable_categorical=False, eval_metric=None, feature_types=None,\n",
              "              gamma=None, gpu_id=None, grow_policy=None, importance_type=None,\n",
              "              interaction_constraints=None, learning_rate=None, max_bin=None,\n",
              "              max_cat_threshold=None, max_cat_to_onehot=None,\n",
              "              max_delta_step=None, max_depth=None, max_leaves=None,\n",
              "              min_child_weight=None, missing=nan, monotone_constraints=None,\n",
              "              n_estimators=100, n_jobs=None, num_parallel_tree=None,\n",
              "              objective='multi:softprob', predictor=None, ...)"
            ],
            "text/html": [
              "<style>#sk-container-id-3 {color: black;background-color: white;}#sk-container-id-3 pre{padding: 0;}#sk-container-id-3 div.sk-toggleable {background-color: white;}#sk-container-id-3 label.sk-toggleable__label {cursor: pointer;display: block;width: 100%;margin-bottom: 0;padding: 0.3em;box-sizing: border-box;text-align: center;}#sk-container-id-3 label.sk-toggleable__label-arrow:before {content: \"▸\";float: left;margin-right: 0.25em;color: #696969;}#sk-container-id-3 label.sk-toggleable__label-arrow:hover:before {color: black;}#sk-container-id-3 div.sk-estimator:hover label.sk-toggleable__label-arrow:before {color: black;}#sk-container-id-3 div.sk-toggleable__content {max-height: 0;max-width: 0;overflow: hidden;text-align: left;background-color: #f0f8ff;}#sk-container-id-3 div.sk-toggleable__content pre {margin: 0.2em;color: black;border-radius: 0.25em;background-color: #f0f8ff;}#sk-container-id-3 input.sk-toggleable__control:checked~div.sk-toggleable__content {max-height: 200px;max-width: 100%;overflow: auto;}#sk-container-id-3 input.sk-toggleable__control:checked~label.sk-toggleable__label-arrow:before {content: \"▾\";}#sk-container-id-3 div.sk-estimator input.sk-toggleable__control:checked~label.sk-toggleable__label {background-color: #d4ebff;}#sk-container-id-3 div.sk-label input.sk-toggleable__control:checked~label.sk-toggleable__label {background-color: #d4ebff;}#sk-container-id-3 input.sk-hidden--visually {border: 0;clip: rect(1px 1px 1px 1px);clip: rect(1px, 1px, 1px, 1px);height: 1px;margin: -1px;overflow: hidden;padding: 0;position: absolute;width: 1px;}#sk-container-id-3 div.sk-estimator {font-family: monospace;background-color: #f0f8ff;border: 1px dotted black;border-radius: 0.25em;box-sizing: border-box;margin-bottom: 0.5em;}#sk-container-id-3 div.sk-estimator:hover {background-color: #d4ebff;}#sk-container-id-3 div.sk-parallel-item::after {content: \"\";width: 100%;border-bottom: 1px solid gray;flex-grow: 1;}#sk-container-id-3 div.sk-label:hover label.sk-toggleable__label {background-color: #d4ebff;}#sk-container-id-3 div.sk-serial::before {content: \"\";position: absolute;border-left: 1px solid gray;box-sizing: border-box;top: 0;bottom: 0;left: 50%;z-index: 0;}#sk-container-id-3 div.sk-serial {display: flex;flex-direction: column;align-items: center;background-color: white;padding-right: 0.2em;padding-left: 0.2em;position: relative;}#sk-container-id-3 div.sk-item {position: relative;z-index: 1;}#sk-container-id-3 div.sk-parallel {display: flex;align-items: stretch;justify-content: center;background-color: white;position: relative;}#sk-container-id-3 div.sk-item::before, #sk-container-id-3 div.sk-parallel-item::before {content: \"\";position: absolute;border-left: 1px solid gray;box-sizing: border-box;top: 0;bottom: 0;left: 50%;z-index: -1;}#sk-container-id-3 div.sk-parallel-item {display: flex;flex-direction: column;z-index: 1;position: relative;background-color: white;}#sk-container-id-3 div.sk-parallel-item:first-child::after {align-self: flex-end;width: 50%;}#sk-container-id-3 div.sk-parallel-item:last-child::after {align-self: flex-start;width: 50%;}#sk-container-id-3 div.sk-parallel-item:only-child::after {width: 0;}#sk-container-id-3 div.sk-dashed-wrapped {border: 1px dashed gray;margin: 0 0.4em 0.5em 0.4em;box-sizing: border-box;padding-bottom: 0.4em;background-color: white;}#sk-container-id-3 div.sk-label label {font-family: monospace;font-weight: bold;display: inline-block;line-height: 1.2em;}#sk-container-id-3 div.sk-label-container {text-align: center;}#sk-container-id-3 div.sk-container {/* jupyter's `normalize.less` sets `[hidden] { display: none; }` but bootstrap.min.css set `[hidden] { display: none !important; }` so we also need the `!important` here to be able to override the default hidden behavior on the sphinx rendered scikit-learn.org. See: https://github.com/scikit-learn/scikit-learn/issues/21755 */display: inline-block !important;position: relative;}#sk-container-id-3 div.sk-text-repr-fallback {display: none;}</style><div id=\"sk-container-id-3\" class=\"sk-top-container\"><div class=\"sk-text-repr-fallback\"><pre>XGBClassifier(base_score=None, booster=None, callbacks=None,\n",
              "              colsample_bylevel=None, colsample_bynode=None,\n",
              "              colsample_bytree=None, early_stopping_rounds=None,\n",
              "              enable_categorical=False, eval_metric=None, feature_types=None,\n",
              "              gamma=None, gpu_id=None, grow_policy=None, importance_type=None,\n",
              "              interaction_constraints=None, learning_rate=None, max_bin=None,\n",
              "              max_cat_threshold=None, max_cat_to_onehot=None,\n",
              "              max_delta_step=None, max_depth=None, max_leaves=None,\n",
              "              min_child_weight=None, missing=nan, monotone_constraints=None,\n",
              "              n_estimators=100, n_jobs=None, num_parallel_tree=None,\n",
              "              objective=&#x27;multi:softprob&#x27;, predictor=None, ...)</pre><b>In a Jupyter environment, please rerun this cell to show the HTML representation or trust the notebook. <br />On GitHub, the HTML representation is unable to render, please try loading this page with nbviewer.org.</b></div><div class=\"sk-container\" hidden><div class=\"sk-item\"><div class=\"sk-estimator sk-toggleable\"><input class=\"sk-toggleable__control sk-hidden--visually\" id=\"sk-estimator-id-3\" type=\"checkbox\" checked><label for=\"sk-estimator-id-3\" class=\"sk-toggleable__label sk-toggleable__label-arrow\">XGBClassifier</label><div class=\"sk-toggleable__content\"><pre>XGBClassifier(base_score=None, booster=None, callbacks=None,\n",
              "              colsample_bylevel=None, colsample_bynode=None,\n",
              "              colsample_bytree=None, early_stopping_rounds=None,\n",
              "              enable_categorical=False, eval_metric=None, feature_types=None,\n",
              "              gamma=None, gpu_id=None, grow_policy=None, importance_type=None,\n",
              "              interaction_constraints=None, learning_rate=None, max_bin=None,\n",
              "              max_cat_threshold=None, max_cat_to_onehot=None,\n",
              "              max_delta_step=None, max_depth=None, max_leaves=None,\n",
              "              min_child_weight=None, missing=nan, monotone_constraints=None,\n",
              "              n_estimators=100, n_jobs=None, num_parallel_tree=None,\n",
              "              objective=&#x27;multi:softprob&#x27;, predictor=None, ...)</pre></div></div></div></div></div>"
            ]
          },
          "metadata": {},
          "execution_count": 39
        }
      ]
    },
    {
      "cell_type": "code",
      "source": [
        "from sklearn.datasets import load_iris\n",
        "from sklearn.ensemble import RandomForestClassifier\n",
        "from sklearn.svm import LinearSVC\n",
        "from sklearn.linear_model import LogisticRegression\n",
        "from sklearn.preprocessing import StandardScaler\n",
        "from sklearn.pipeline import make_pipeline\n",
        "from sklearn.ensemble import StackingClassifier"
      ],
      "metadata": {
        "id": "c3rOdzR9E5wo"
      },
      "execution_count": null,
      "outputs": []
    },
    {
      "cell_type": "code",
      "source": [
        "import sklearn\n",
        "from sklearn.neighbors import KNeighborsClassifier"
      ],
      "metadata": {
        "id": "S6-lh8GDGOjU"
      },
      "execution_count": null,
      "outputs": []
    },
    {
      "cell_type": "code",
      "source": [
        "estimators = [\n",
        "    ('rf', RandomForestClassifier(n_estimators=10, random_state=42)),\n",
        "    ('svr', make_pipeline(KNeighborsClassifier(23)))\n",
        "]\n",
        "clf = StackingClassifier(\n",
        "    estimators=estimators, final_estimator=XGBClassifier())\n",
        "clf.fit(X_train,y_train)"
      ],
      "metadata": {
        "colab": {
          "base_uri": "https://localhost:8080/",
          "height": 162
        },
        "id": "lz4XaEGxE6A0",
        "outputId": "6a8eed34-5ef9-41c4-db50-e64701cd7de1"
      },
      "execution_count": null,
      "outputs": [
        {
          "output_type": "execute_result",
          "data": {
            "text/plain": [
              "StackingClassifier(estimators=[('rf',\n",
              "                                RandomForestClassifier(n_estimators=10,\n",
              "                                                       random_state=42)),\n",
              "                               ('svr',\n",
              "                                Pipeline(steps=[('kneighborsclassifier',\n",
              "                                                 KNeighborsClassifier(n_neighbors=23))]))],\n",
              "                   final_estimator=XGBClassifier(base_score=None, booster=None,\n",
              "                                                 callbacks=None,\n",
              "                                                 colsample_bylevel=None,\n",
              "                                                 colsample_bynode=None,\n",
              "                                                 colsample_bytree=None,\n",
              "                                                 early_stopping_rounds=None...\n",
              "                                                 gpu_id=None, grow_policy=None,\n",
              "                                                 importance_type=None,\n",
              "                                                 interaction_constraints=None,\n",
              "                                                 learning_rate=None,\n",
              "                                                 max_bin=None,\n",
              "                                                 max_cat_threshold=None,\n",
              "                                                 max_cat_to_onehot=None,\n",
              "                                                 max_delta_step=None,\n",
              "                                                 max_depth=None,\n",
              "                                                 max_leaves=None,\n",
              "                                                 min_child_weight=None,\n",
              "                                                 missing=nan,\n",
              "                                                 monotone_constraints=None,\n",
              "                                                 n_estimators=100, n_jobs=None,\n",
              "                                                 num_parallel_tree=None,\n",
              "                                                 predictor=None,\n",
              "                                                 random_state=None, ...))"
            ],
            "text/html": [
              "<style>#sk-container-id-3 {color: black;background-color: white;}#sk-container-id-3 pre{padding: 0;}#sk-container-id-3 div.sk-toggleable {background-color: white;}#sk-container-id-3 label.sk-toggleable__label {cursor: pointer;display: block;width: 100%;margin-bottom: 0;padding: 0.3em;box-sizing: border-box;text-align: center;}#sk-container-id-3 label.sk-toggleable__label-arrow:before {content: \"▸\";float: left;margin-right: 0.25em;color: #696969;}#sk-container-id-3 label.sk-toggleable__label-arrow:hover:before {color: black;}#sk-container-id-3 div.sk-estimator:hover label.sk-toggleable__label-arrow:before {color: black;}#sk-container-id-3 div.sk-toggleable__content {max-height: 0;max-width: 0;overflow: hidden;text-align: left;background-color: #f0f8ff;}#sk-container-id-3 div.sk-toggleable__content pre {margin: 0.2em;color: black;border-radius: 0.25em;background-color: #f0f8ff;}#sk-container-id-3 input.sk-toggleable__control:checked~div.sk-toggleable__content {max-height: 200px;max-width: 100%;overflow: auto;}#sk-container-id-3 input.sk-toggleable__control:checked~label.sk-toggleable__label-arrow:before {content: \"▾\";}#sk-container-id-3 div.sk-estimator input.sk-toggleable__control:checked~label.sk-toggleable__label {background-color: #d4ebff;}#sk-container-id-3 div.sk-label input.sk-toggleable__control:checked~label.sk-toggleable__label {background-color: #d4ebff;}#sk-container-id-3 input.sk-hidden--visually {border: 0;clip: rect(1px 1px 1px 1px);clip: rect(1px, 1px, 1px, 1px);height: 1px;margin: -1px;overflow: hidden;padding: 0;position: absolute;width: 1px;}#sk-container-id-3 div.sk-estimator {font-family: monospace;background-color: #f0f8ff;border: 1px dotted black;border-radius: 0.25em;box-sizing: border-box;margin-bottom: 0.5em;}#sk-container-id-3 div.sk-estimator:hover {background-color: #d4ebff;}#sk-container-id-3 div.sk-parallel-item::after {content: \"\";width: 100%;border-bottom: 1px solid gray;flex-grow: 1;}#sk-container-id-3 div.sk-label:hover label.sk-toggleable__label {background-color: #d4ebff;}#sk-container-id-3 div.sk-serial::before {content: \"\";position: absolute;border-left: 1px solid gray;box-sizing: border-box;top: 0;bottom: 0;left: 50%;z-index: 0;}#sk-container-id-3 div.sk-serial {display: flex;flex-direction: column;align-items: center;background-color: white;padding-right: 0.2em;padding-left: 0.2em;position: relative;}#sk-container-id-3 div.sk-item {position: relative;z-index: 1;}#sk-container-id-3 div.sk-parallel {display: flex;align-items: stretch;justify-content: center;background-color: white;position: relative;}#sk-container-id-3 div.sk-item::before, #sk-container-id-3 div.sk-parallel-item::before {content: \"\";position: absolute;border-left: 1px solid gray;box-sizing: border-box;top: 0;bottom: 0;left: 50%;z-index: -1;}#sk-container-id-3 div.sk-parallel-item {display: flex;flex-direction: column;z-index: 1;position: relative;background-color: white;}#sk-container-id-3 div.sk-parallel-item:first-child::after {align-self: flex-end;width: 50%;}#sk-container-id-3 div.sk-parallel-item:last-child::after {align-self: flex-start;width: 50%;}#sk-container-id-3 div.sk-parallel-item:only-child::after {width: 0;}#sk-container-id-3 div.sk-dashed-wrapped {border: 1px dashed gray;margin: 0 0.4em 0.5em 0.4em;box-sizing: border-box;padding-bottom: 0.4em;background-color: white;}#sk-container-id-3 div.sk-label label {font-family: monospace;font-weight: bold;display: inline-block;line-height: 1.2em;}#sk-container-id-3 div.sk-label-container {text-align: center;}#sk-container-id-3 div.sk-container {/* jupyter's `normalize.less` sets `[hidden] { display: none; }` but bootstrap.min.css set `[hidden] { display: none !important; }` so we also need the `!important` here to be able to override the default hidden behavior on the sphinx rendered scikit-learn.org. See: https://github.com/scikit-learn/scikit-learn/issues/21755 */display: inline-block !important;position: relative;}#sk-container-id-3 div.sk-text-repr-fallback {display: none;}</style><div id=\"sk-container-id-3\" class=\"sk-top-container\"><div class=\"sk-text-repr-fallback\"><pre>StackingClassifier(estimators=[(&#x27;rf&#x27;,\n",
              "                                RandomForestClassifier(n_estimators=10,\n",
              "                                                       random_state=42)),\n",
              "                               (&#x27;svr&#x27;,\n",
              "                                Pipeline(steps=[(&#x27;kneighborsclassifier&#x27;,\n",
              "                                                 KNeighborsClassifier(n_neighbors=23))]))],\n",
              "                   final_estimator=XGBClassifier(base_score=None, booster=None,\n",
              "                                                 callbacks=None,\n",
              "                                                 colsample_bylevel=None,\n",
              "                                                 colsample_bynode=None,\n",
              "                                                 colsample_bytree=None,\n",
              "                                                 early_stopping_rounds=None...\n",
              "                                                 gpu_id=None, grow_policy=None,\n",
              "                                                 importance_type=None,\n",
              "                                                 interaction_constraints=None,\n",
              "                                                 learning_rate=None,\n",
              "                                                 max_bin=None,\n",
              "                                                 max_cat_threshold=None,\n",
              "                                                 max_cat_to_onehot=None,\n",
              "                                                 max_delta_step=None,\n",
              "                                                 max_depth=None,\n",
              "                                                 max_leaves=None,\n",
              "                                                 min_child_weight=None,\n",
              "                                                 missing=nan,\n",
              "                                                 monotone_constraints=None,\n",
              "                                                 n_estimators=100, n_jobs=None,\n",
              "                                                 num_parallel_tree=None,\n",
              "                                                 predictor=None,\n",
              "                                                 random_state=None, ...))</pre><b>In a Jupyter environment, please rerun this cell to show the HTML representation or trust the notebook. <br />On GitHub, the HTML representation is unable to render, please try loading this page with nbviewer.org.</b></div><div class=\"sk-container\" hidden><div class=\"sk-item sk-dashed-wrapped\"><div class=\"sk-label-container\"><div class=\"sk-label sk-toggleable\"><input class=\"sk-toggleable__control sk-hidden--visually\" id=\"sk-estimator-id-7\" type=\"checkbox\" ><label for=\"sk-estimator-id-7\" class=\"sk-toggleable__label sk-toggleable__label-arrow\">StackingClassifier</label><div class=\"sk-toggleable__content\"><pre>StackingClassifier(estimators=[(&#x27;rf&#x27;,\n",
              "                                RandomForestClassifier(n_estimators=10,\n",
              "                                                       random_state=42)),\n",
              "                               (&#x27;svr&#x27;,\n",
              "                                Pipeline(steps=[(&#x27;kneighborsclassifier&#x27;,\n",
              "                                                 KNeighborsClassifier(n_neighbors=23))]))],\n",
              "                   final_estimator=XGBClassifier(base_score=None, booster=None,\n",
              "                                                 callbacks=None,\n",
              "                                                 colsample_bylevel=None,\n",
              "                                                 colsample_bynode=None,\n",
              "                                                 colsample_bytree=None,\n",
              "                                                 early_stopping_rounds=None...\n",
              "                                                 gpu_id=None, grow_policy=None,\n",
              "                                                 importance_type=None,\n",
              "                                                 interaction_constraints=None,\n",
              "                                                 learning_rate=None,\n",
              "                                                 max_bin=None,\n",
              "                                                 max_cat_threshold=None,\n",
              "                                                 max_cat_to_onehot=None,\n",
              "                                                 max_delta_step=None,\n",
              "                                                 max_depth=None,\n",
              "                                                 max_leaves=None,\n",
              "                                                 min_child_weight=None,\n",
              "                                                 missing=nan,\n",
              "                                                 monotone_constraints=None,\n",
              "                                                 n_estimators=100, n_jobs=None,\n",
              "                                                 num_parallel_tree=None,\n",
              "                                                 predictor=None,\n",
              "                                                 random_state=None, ...))</pre></div></div></div><div class=\"sk-serial\"><div class=\"sk-item\"><div class=\"sk-parallel\"><div class=\"sk-parallel-item\"><div class=\"sk-item\"><div class=\"sk-label-container\"><div class=\"sk-label sk-toggleable\"><label>rf</label></div></div><div class=\"sk-serial\"><div class=\"sk-item\"><div class=\"sk-estimator sk-toggleable\"><input class=\"sk-toggleable__control sk-hidden--visually\" id=\"sk-estimator-id-8\" type=\"checkbox\" ><label for=\"sk-estimator-id-8\" class=\"sk-toggleable__label sk-toggleable__label-arrow\">RandomForestClassifier</label><div class=\"sk-toggleable__content\"><pre>RandomForestClassifier(n_estimators=10, random_state=42)</pre></div></div></div></div></div></div><div class=\"sk-parallel-item\"><div class=\"sk-item\"><div class=\"sk-label-container\"><div class=\"sk-label sk-toggleable\"><label>svr</label></div></div><div class=\"sk-serial\"><div class=\"sk-item\"><div class=\"sk-serial\"><div class=\"sk-item\"><div class=\"sk-estimator sk-toggleable\"><input class=\"sk-toggleable__control sk-hidden--visually\" id=\"sk-estimator-id-9\" type=\"checkbox\" ><label for=\"sk-estimator-id-9\" class=\"sk-toggleable__label sk-toggleable__label-arrow\">KNeighborsClassifier</label><div class=\"sk-toggleable__content\"><pre>KNeighborsClassifier(n_neighbors=23)</pre></div></div></div></div></div></div></div></div></div></div><div class=\"sk-item\"><div class=\"sk-parallel\"><div class=\"sk-parallel-item\"><div class=\"sk-item\"><div class=\"sk-label-container\"><div class=\"sk-label sk-toggleable\"><label>final_estimator</label></div></div><div class=\"sk-serial\"><div class=\"sk-item\"><div class=\"sk-estimator sk-toggleable\"><input class=\"sk-toggleable__control sk-hidden--visually\" id=\"sk-estimator-id-10\" type=\"checkbox\" ><label for=\"sk-estimator-id-10\" class=\"sk-toggleable__label sk-toggleable__label-arrow\">XGBClassifier</label><div class=\"sk-toggleable__content\"><pre>XGBClassifier(base_score=None, booster=None, callbacks=None,\n",
              "              colsample_bylevel=None, colsample_bynode=None,\n",
              "              colsample_bytree=None, early_stopping_rounds=None,\n",
              "              enable_categorical=False, eval_metric=None, feature_types=None,\n",
              "              gamma=None, gpu_id=None, grow_policy=None, importance_type=None,\n",
              "              interaction_constraints=None, learning_rate=None, max_bin=None,\n",
              "              max_cat_threshold=None, max_cat_to_onehot=None,\n",
              "              max_delta_step=None, max_depth=None, max_leaves=None,\n",
              "              min_child_weight=None, missing=nan, monotone_constraints=None,\n",
              "              n_estimators=100, n_jobs=None, num_parallel_tree=None,\n",
              "              predictor=None, random_state=None, ...)</pre></div></div></div></div></div></div></div></div></div></div></div></div>"
            ]
          },
          "metadata": {},
          "execution_count": 36
        }
      ]
    },
    {
      "cell_type": "code",
      "source": [
        "pred1 = clf.predict(X_test)"
      ],
      "metadata": {
        "id": "gwTN9fKYFVoI"
      },
      "execution_count": null,
      "outputs": []
    },
    {
      "cell_type": "code",
      "source": [
        "clf.score (X_test, y_test)"
      ],
      "metadata": {
        "colab": {
          "base_uri": "https://localhost:8080/"
        },
        "id": "jT_wiHODFiV2",
        "outputId": "2f0c7196-349c-4093-ae2d-ea4ce3fd351d"
      },
      "execution_count": null,
      "outputs": [
        {
          "output_type": "execute_result",
          "data": {
            "text/plain": [
              "0.6445497630331753"
            ]
          },
          "metadata": {},
          "execution_count": 38
        }
      ]
    },
    {
      "cell_type": "code",
      "source": [],
      "metadata": {
        "id": "RmhxQOfzFyqh"
      },
      "execution_count": null,
      "outputs": []
    },
    {
      "cell_type": "code",
      "source": [
        "c1=sklearn.metrics.confusion_matrix(y_test,pred1)\n",
        "print(c1)"
      ],
      "metadata": {
        "colab": {
          "base_uri": "https://localhost:8080/"
        },
        "id": "jwUBWAyCFlsF",
        "outputId": "42f6ea87-b712-45ba-fa0b-2ccf1e0873dc"
      },
      "execution_count": null,
      "outputs": [
        {
          "output_type": "stream",
          "name": "stdout",
          "text": [
            "[[  8   0   0   2   4   0   0   0   0   0   0   0   1   0   1   0   1   1\n",
            "    0   2   0   0   0]\n",
            " [  1   0   0   0   2   0   0   0   0   0   0   0   0   0   0   0   0   0\n",
            "    0   0   0   0   0]\n",
            " [  0   0   2   0   0   0   0   0   0   0   0   0   5   2   0   0   1   0\n",
            "    0   0   0   0   0]\n",
            " [  1   0   0  10   1   0   0   0   0   0   0   1   0   0   1   0   3   2\n",
            "    0   0   0   0   0]\n",
            " [  2   0   1   2 166   0   0   0   0   0   0   1   1   0   0   1   2   2\n",
            "    0   1   1   1   0]\n",
            " [  0   0   0   0   0   0   0   0   0   0   0   0   5   0   0   0   0   0\n",
            "    0   0   1   0   0]\n",
            " [  0   0   7   0   0   1   6   0   0   0   0   0   2   0   0   0   0   0\n",
            "    0   0   0   0   1]\n",
            " [  0   0   0   0   0   0   1   1   0   0   0   0   0   0   0   0   0   0\n",
            "    0   0   0   0   2]\n",
            " [  0   0   0   0   0   0   0   0   0   0   1   0   1   0   0   0   0   0\n",
            "    0   0   0   0   1]\n",
            " [  0   0   0   0   0   0   0   0   0   2   3   0   0   0   1   0   0   0\n",
            "    0   0   0   0   2]\n",
            " [  0   0   0   0   0   0   1   0   0   0   6   0   0   0   0   0   0   0\n",
            "    0   0   0   0   3]\n",
            " [  0   0   0   0   3   0   0   0   0   0   0   0   1   0   0   0   0   0\n",
            "    0   0   0   1   0]\n",
            " [  0   0   2   0   1   1   0   0   0   0   0   0  20   0   0   0   1   0\n",
            "    0   0   0   0   0]\n",
            " [  0   0   0   0   0   2   0   0   1   0   0   0   2   0   0   0   0   0\n",
            "    0   0   0   0   0]\n",
            " [  0   0   0   1   2   0   0   0   0   0   0   0   0   0   2   3   1   0\n",
            "    0   0   0   1   0]\n",
            " [  0   0   0   0   2   0   0   0   0   0   0   0   0   0   1   8   0   0\n",
            "    0   0   0   0   0]\n",
            " [  0   0   0   3   2   0   1   0   0   0   0   0   2   0   0   0  20   0\n",
            "    0   1   1   0   0]\n",
            " [  4   0   1   1   0   0   0   0   0   0   0   0   0   0   0   0   1   9\n",
            "    0   1   0   0   0]\n",
            " [  0   0   0   0   5   1   2   0   0   0   0   0   0   0   0   0   0   0\n",
            "    2   0   0   0   0]\n",
            " [  0   0   0   3   0   0   0   0   0   0   0   0   0   0   1   0   0   0\n",
            "    1   1   0   0   0]\n",
            " [  0   0   0   0   1   0   0   0   0   0   0   0   0   0   0   0   0   1\n",
            "    0   0   0   0   0]\n",
            " [  0   0   0   1   1   0   0   0   0   0   0   0   0   0   1   0   0   0\n",
            "    1   0   0   0   0]\n",
            " [  0   0   2   0   0   0   0   0   0   2   2   0   0   0   1   0   0   0\n",
            "    0   0   0   0   9]]\n"
          ]
        }
      ]
    },
    {
      "cell_type": "code",
      "source": [
        "import seaborn as sn\n",
        "import pandas as pd\n",
        "import matplotlib.pyplot as plt\n",
        "\n",
        "df_cm = pd.DataFrame(c1, range(23), range(23))\n",
        "plt.figure(figsize=(50,50))\n",
        "\n",
        "sn.heatmap(df_cm, annot=True) # font size\n",
        "\n",
        "plt.show()"
      ],
      "metadata": {
        "colab": {
          "base_uri": "https://localhost:8080/",
          "height": 1000
        },
        "id": "jXz4IkgUFt78",
        "outputId": "abd5dcda-b418-4aa7-8f1c-c2127c73c2d8"
      },
      "execution_count": null,
      "outputs": [
        {
          "output_type": "display_data",
          "data": {
            "text/plain": [
              "<Figure size 3600x3600 with 2 Axes>"
            ],
            "image/png": "[encoded data removed]"
          },
          "metadata": {
            "needs_background": "light"
          }
        }
      ]
    },
    {
      "cell_type": "code",
      "source": [
        "pred = learn.predict(X_test)\n",
        "sci_pred = [round(value) for value in pred]"
      ],
      "metadata": {
        "id": "urVPtTZyh1sm"
      },
      "execution_count": null,
      "outputs": []
    },
    {
      "cell_type": "code",
      "source": [
        "learn.score (X_test, y_test)"
      ],
      "metadata": {
        "colab": {
          "base_uri": "https://localhost:8080/"
        },
        "id": "30yW-DKKkzqa",
        "outputId": "8d1ae39b-5135-4f75-ac57-c3723d4ea965"
      },
      "execution_count": null,
      "outputs": [
        {
          "output_type": "execute_result",
          "data": {
            "text/plain": [
              "0.6706161137440758"
            ]
          },
          "metadata": {},
          "execution_count": 43
        }
      ]
    },
    {
      "cell_type": "code",
      "source": [
        "pred"
      ],
      "metadata": {
        "colab": {
          "base_uri": "https://localhost:8080/"
        },
        "id": "qCEsQr8ZlrA8",
        "outputId": "bbca70ce-ca44-4dc8-ae23-31a0f17bd852"
      },
      "execution_count": null,
      "outputs": [
        {
          "output_type": "execute_result",
          "data": {
            "text/plain": [
              "array([ 4,  4,  4,  4,  0, 17,  4, 16,  4, 14, 16, 22, 18,  4,  4,  4,  4,\n",
              "        3,  4,  4,  4,  4,  4,  4,  9, 17,  4,  4, 17, 10, 16,  4,  4,  3,\n",
              "        4, 12, 17, 16,  4,  4,  4,  6,  0,  4,  4,  4, 22,  4,  4,  4,  4,\n",
              "       22,  4, 12,  4,  4, 16,  4,  4,  4, 22, 12,  4,  4,  4,  2,  8, 18,\n",
              "       10, 16,  6,  3, 12,  4,  0,  6,  4,  6,  4,  4,  4, 12,  4,  7, 16,\n",
              "       17, 17,  2, 22,  4,  9,  4, 12,  4, 18,  4,  0,  4,  4,  4, 16, 15,\n",
              "        4,  4,  4,  4, 17,  4,  4,  3,  4,  5,  3,  0, 17, 16,  4,  4, 15,\n",
              "       16,  4,  4,  4, 10,  3,  6,  4,  4,  0, 16,  4,  4, 12, 22,  4,  6,\n",
              "        4,  4,  4,  4, 12,  3,  4,  4,  4,  3,  4, 12,  2,  4,  4, 12,  4,\n",
              "        4,  4, 22,  4,  9, 15,  4, 15,  4,  4, 12,  4,  4, 10, 12, 10,  4,\n",
              "       16,  2,  4,  4,  4, 12,  3,  4,  4,  4,  4,  4,  0,  4,  6,  6,  4,\n",
              "       17,  4,  4,  4, 22,  4,  4, 12,  4,  4, 10,  4,  4,  4,  4,  3,  3,\n",
              "       10,  4, 17,  4, 18,  6,  3,  4,  4,  4,  4,  4,  4,  4,  3, 15, 12,\n",
              "        4,  4,  4,  4,  4,  4, 16,  4,  4,  2, 17, 15,  4, 15, 12,  4, 10,\n",
              "        4,  4,  4,  4,  9,  3,  4,  3,  4,  4, 14,  4,  4, 16,  4,  4,  4,\n",
              "        4,  4, 16, 12,  4,  4,  4,  4,  4,  4,  4,  4,  4, 12,  4, 16,  4,\n",
              "       10, 10, 22,  4,  2, 22, 11,  4, 16,  4,  4,  6,  4,  4, 16,  0,  3,\n",
              "        4,  0,  4,  4,  4,  4,  4,  3,  4, 12, 10,  4,  2, 12, 10, 12, 19,\n",
              "        4,  4,  4, 22, 22,  4,  4, 19,  0,  4, 12, 16, 16,  4, 10, 22,  4,\n",
              "        2,  4, 16,  4,  9, 12, 14,  4,  0, 12,  4, 12,  4, 16,  2,  4,  4,\n",
              "        4, 16,  6, 16,  4,  2,  9, 10,  4,  4, 16,  4,  4,  4, 22, 10, 16,\n",
              "       14,  4, 15, 16,  4,  4,  4,  4, 18,  4,  4, 12,  4, 12,  4,  4,  4,\n",
              "        6,  4,  3, 19,  0, 17,  3,  4,  4,  4,  4, 22,  6,  4,  4,  4, 14,\n",
              "       14,  0,  4,  0, 16,  5,  6,  4, 16,  3, 12,  5,  4,  4,  4,  2,  4,\n",
              "       17,  4,  4,  4,  4,  4,  0,  6,  4,  4,  4,  4,  4,  4])"
            ]
          },
          "metadata": {},
          "execution_count": 44
        }
      ]
    },
    {
      "cell_type": "code",
      "source": [
        "import sklearn"
      ],
      "metadata": {
        "id": "NKDGJ7mqlv_b"
      },
      "execution_count": null,
      "outputs": []
    },
    {
      "cell_type": "code",
      "source": [
        "cm=sklearn.metrics.confusion_matrix(y_test,pred)\n",
        "print(cm)"
      ],
      "metadata": {
        "colab": {
          "base_uri": "https://localhost:8080/"
        },
        "id": "EIj05iWTllne",
        "outputId": "5741ca2e-59d6-400c-9c52-e308152130aa"
      },
      "execution_count": null,
      "outputs": [
        {
          "output_type": "stream",
          "name": "stdout",
          "text": [
            "[[  7   0   0   1   8   0   0   0   0   0   0   0   0   0   0   1   1   2\n",
            "    0   0   0   0   0]\n",
            " [  0   0   0   1   2   0   0   0   0   0   0   0   0   0   0   0   0   0\n",
            "    0   0   0   0   0]\n",
            " [  0   0   6   0   0   0   1   0   0   0   0   0   2   0   0   0   1   0\n",
            "    0   0   0   0   0]\n",
            " [  2   0   0  11   3   0   1   0   0   0   0   0   0   0   0   0   2   0\n",
            "    0   0   0   0   0]\n",
            " [  0   0   0   1 175   0   0   0   0   0   0   0   2   0   0   0   2   0\n",
            "    1   0   0   0   0]\n",
            " [  0   0   0   0   0   1   0   0   0   0   0   0   3   0   0   0   0   0\n",
            "    1   0   0   0   1]\n",
            " [  0   0   1   0   1   0   9   0   0   0   2   0   0   0   0   0   1   0\n",
            "    1   0   0   0   2]\n",
            " [  0   0   0   0   1   0   0   0   0   1   0   0   0   0   0   0   0   0\n",
            "    0   0   0   0   2]\n",
            " [  0   0   2   0   0   0   0   0   0   0   0   0   1   0   0   0   0   0\n",
            "    0   0   0   0   0]\n",
            " [  0   0   0   0   0   1   0   0   0   1   6   0   0   0   0   0   0   0\n",
            "    0   0   0   0   0]\n",
            " [  0   0   0   0   0   0   0   0   0   2   6   0   0   0   0   0   0   0\n",
            "    0   0   0   0   2]\n",
            " [  0   0   0   0   2   0   0   0   0   0   0   1   0   0   0   0   0   2\n",
            "    0   0   0   0   0]\n",
            " [  0   0   0   0   3   1   1   0   0   0   0   0  20   0   0   0   0   0\n",
            "    0   0   0   0   0]\n",
            " [  0   0   0   0   2   0   0   0   0   1   0   0   0   0   1   0   1   0\n",
            "    0   0   0   0   0]\n",
            " [  1   0   0   0   6   0   0   0   0   0   0   0   0   0   3   0   0   0\n",
            "    0   0   0   0   0]\n",
            " [  1   0   0   0   3   0   0   0   0   0   0   0   0   0   0   6   1   0\n",
            "    0   0   0   0   0]\n",
            " [  0   0   1   3   5   0   1   0   0   1   0   0   0   0   1   1  16   1\n",
            "    0   0   0   0   0]\n",
            " [  2   0   0   0   6   0   0   0   0   0   0   0   0   0   0   0   1   8\n",
            "    0   0   0   0   0]\n",
            " [  0   0   0   0   7   0   0   0   0   0   0   0   0   0   0   0   1   0\n",
            "    2   0   0   0   0]\n",
            " [  0   0   0   1   1   0   0   1   0   0   0   0   0   0   0   0   0   0\n",
            "    0   3   0   0   0]\n",
            " [  0   0   0   1   0   0   0   0   0   0   0   0   0   0   0   0   1   0\n",
            "    0   0   0   0   0]\n",
            " [  2   0   0   0   1   0   0   0   0   0   0   0   0   0   1   0   0   0\n",
            "    0   0   0   0   0]\n",
            " [  0   0   1   1   1   0   2   0   1   0   1   0   0   0   0   0   1   0\n",
            "    0   0   0   0   8]]\n"
          ]
        }
      ]
    },
    {
      "cell_type": "code",
      "source": [
        "import seaborn as sn\n",
        "import pandas as pd\n",
        "import matplotlib.pyplot as plt\n",
        "\n",
        "\n",
        "df_cm = pd.DataFrame(cm, range(23), range(23))\n",
        "plt.figure(figsize=(50,50))\n",
        "\n",
        "sn.heatmap(df_cm, annot=True) # font size\n",
        "\n",
        "plt.show()"
      ],
      "metadata": {
        "colab": {
          "base_uri": "https://localhost:8080/",
          "height": 1000
        },
        "id": "CxI5NEIpk5C9",
        "outputId": "76062b84-088f-4f8a-841d-958f994c775c"
      },
      "execution_count": null,
      "outputs": [
        {
          "output_type": "display_data",
          "data": {
            "text/plain": [
              "<Figure size 3600x3600 with 2 Axes>"
            ],
            "image/png": "[encoded data removed]"
          },
          "metadata": {
            "needs_background": "light"
          }
        }
      ]
    },
    {
      "cell_type": "code",
      "source": [
        "le.transform(classes)"
      ],
      "metadata": {
        "colab": {
          "base_uri": "https://localhost:8080/"
        },
        "id": "0wJL_pyKl_9Q",
        "outputId": "198007bf-cf6f-4fce-ce9a-e5e9c517dbf1"
      },
      "execution_count": null,
      "outputs": [
        {
          "output_type": "execute_result",
          "data": {
            "text/plain": [
              "array([ 0,  6,  2,  9, 21,  7, 10, 17, 13, 15,  8,  4, 18, 12, 20, 11, 16,\n",
              "       19,  3,  1,  5, 22, 14])"
            ]
          },
          "metadata": {},
          "execution_count": 48
        }
      ]
    },
    {
      "cell_type": "code",
      "source": [
        "classes"
      ],
      "metadata": {
        "colab": {
          "base_uri": "https://localhost:8080/"
        },
        "id": "PJjX25Zjm28w",
        "outputId": "ab41c04d-775a-4709-9039-c9fae1a99ea4"
      },
      "execution_count": null,
      "outputs": [
        {
          "output_type": "execute_result",
          "data": {
            "text/plain": [
              "array(['Abdomen', 'Feet', 'Ankle', 'Hand', 'Thoracic Spine', 'Finger',\n",
              "       'Hand and Wrist', 'Pelvis', 'Lower Leg',\n",
              "       'Lumbar Spine and Thoracic Spine', 'Forearm', 'Chest', 'Shoulder',\n",
              "       'Knee', 'Skull', 'Hip', 'Others', 'Sinus', 'Cervical Spine',\n",
              "       'Abdomen and Chest', 'Elbow', 'Wrist', 'Lumbar Spine'],\n",
              "      dtype='<U31')"
            ]
          },
          "metadata": {},
          "execution_count": 49
        }
      ]
    },
    {
      "cell_type": "code",
      "source": [
        "print(sklearn.metrics.classification_report(y_test,pred))"
      ],
      "metadata": {
        "colab": {
          "base_uri": "https://localhost:8080/"
        },
        "id": "cNHPG8Gdm5X2",
        "outputId": "c68a04db-e1c4-4efd-8eb7-a3b7efa7f22d"
      },
      "execution_count": null,
      "outputs": [
        {
          "output_type": "stream",
          "name": "stdout",
          "text": [
            "              precision    recall  f1-score   support\n",
            "\n",
            "           0       0.47      0.35      0.40        20\n",
            "           1       0.00      0.00      0.00         3\n",
            "           2       0.55      0.60      0.57        10\n",
            "           3       0.55      0.58      0.56        19\n",
            "           4       0.77      0.97      0.86       181\n",
            "           5       0.33      0.17      0.22         6\n",
            "           6       0.60      0.53      0.56        17\n",
            "           7       0.00      0.00      0.00         4\n",
            "           8       0.00      0.00      0.00         3\n",
            "           9       0.17      0.12      0.14         8\n",
            "          10       0.40      0.60      0.48        10\n",
            "          11       1.00      0.20      0.33         5\n",
            "          12       0.71      0.80      0.75        25\n",
            "          13       0.00      0.00      0.00         5\n",
            "          14       0.50      0.30      0.37        10\n",
            "          15       0.75      0.55      0.63        11\n",
            "          16       0.55      0.53      0.54        30\n",
            "          17       0.62      0.47      0.53        17\n",
            "          18       0.40      0.20      0.27        10\n",
            "          19       1.00      0.50      0.67         6\n",
            "          20       0.00      0.00      0.00         2\n",
            "          21       0.00      0.00      0.00         4\n",
            "          22       0.53      0.50      0.52        16\n",
            "\n",
            "    accuracy                           0.67       422\n",
            "   macro avg       0.43      0.35      0.37       422\n",
            "weighted avg       0.63      0.67      0.64       422\n",
            "\n"
          ]
        },
        {
          "output_type": "stream",
          "name": "stderr",
          "text": [
            "/usr/local/lib/python3.9/dist-packages/sklearn/metrics/_classification.py:1344: UndefinedMetricWarning: Precision and F-score are ill-defined and being set to 0.0 in labels with no predicted samples. Use `zero_division` parameter to control this behavior.\n",
            "  _warn_prf(average, modifier, msg_start, len(result))\n",
            "/usr/local/lib/python3.9/dist-packages/sklearn/metrics/_classification.py:1344: UndefinedMetricWarning: Precision and F-score are ill-defined and being set to 0.0 in labels with no predicted samples. Use `zero_division` parameter to control this behavior.\n",
            "  _warn_prf(average, modifier, msg_start, len(result))\n",
            "/usr/local/lib/python3.9/dist-packages/sklearn/metrics/_classification.py:1344: UndefinedMetricWarning: Precision and F-score are ill-defined and being set to 0.0 in labels with no predicted samples. Use `zero_division` parameter to control this behavior.\n",
            "  _warn_prf(average, modifier, msg_start, len(result))\n"
          ]
        }
      ]
    },
    {
      "cell_type": "code",
      "source": [],
      "metadata": {
        "id": "Rq4hJrvpnUWn"
      },
      "execution_count": null,
      "outputs": []
    }
  ]
}