{
 "cells": [
  {
   "cell_type": "code",
   "execution_count": 1,
   "metadata": {
    "id": "6Td15Y3vQ0kE"
   },
   "outputs": [],
   "source": [
    "import scipy.io\n",
    "mat = scipy.io.loadmat(r\"C:\\Users\\D. RHUTHVIK\\Desktop\\Final Year Project\\surf_encoded_alldescp_metric.mat\",matlab_compatible=True)"
   ]
  },
  {
   "cell_type": "code",
   "execution_count": 2,
   "metadata": {
    "id": "0CrIs8zXTZY3"
   },
   "outputs": [],
   "source": [
    "a=mat['a']"
   ]
  },
  {
   "cell_type": "code",
   "execution_count": 3,
   "metadata": {
    "id": "Gk8wDrmQXyWl"
   },
   "outputs": [],
   "source": [
    "import pandas as pd"
   ]
  },
  {
   "cell_type": "code",
   "execution_count": 4,
   "metadata": {
    "id": "GrJvbKnnZhVA"
   },
   "outputs": [],
   "source": [
    "dat=pd.read_excel(r\"C:\\Users\\D. RHUTHVIK\\Desktop\\Final Year Project\\Book 2.xlsx\",header=None)"
   ]
  },
  {
   "cell_type": "code",
   "execution_count": 5,
   "metadata": {
    "id": "0JHj5bq4ZoN7"
   },
   "outputs": [],
   "source": [
    "for ind,i in dat.iterrows():\n",
    "  i[0]=i[0][:-1]"
   ]
  },
  {
   "cell_type": "code",
   "execution_count": 6,
   "metadata": {
    "colab": {
     "base_uri": "https://localhost:8080/",
     "height": 423
    },
    "id": "ggwLlQk2Zp7Q",
    "outputId": "eb45c98a-ca12-493c-c35c-56c669cb5fdc"
   },
   "outputs": [
    {
     "data": {
      "text/html": [
       "<div>\n",
       "<style scoped>\n",
       "    .dataframe tbody tr th:only-of-type {\n",
       "        vertical-align: middle;\n",
       "    }\n",
       "\n",
       "    .dataframe tbody tr th {\n",
       "        vertical-align: top;\n",
       "    }\n",
       "\n",
       "    .dataframe thead th {\n",
       "        text-align: right;\n",
       "    }\n",
       "</style>\n",
       "<table border=\"1\" class=\"dataframe\">\n",
       "  <thead>\n",
       "    <tr style=\"text-align: right;\">\n",
       "      <th></th>\n",
       "      <th>0</th>\n",
       "    </tr>\n",
       "  </thead>\n",
       "  <tbody>\n",
       "    <tr>\n",
       "      <th>0</th>\n",
       "      <td>Abdomen</td>\n",
       "    </tr>\n",
       "    <tr>\n",
       "      <th>1</th>\n",
       "      <td>Abdomen</td>\n",
       "    </tr>\n",
       "    <tr>\n",
       "      <th>2</th>\n",
       "      <td>Abdomen</td>\n",
       "    </tr>\n",
       "    <tr>\n",
       "      <th>3</th>\n",
       "      <td>Abdomen</td>\n",
       "    </tr>\n",
       "    <tr>\n",
       "      <th>4</th>\n",
       "      <td>Abdomen</td>\n",
       "    </tr>\n",
       "    <tr>\n",
       "      <th>...</th>\n",
       "      <td>...</td>\n",
       "    </tr>\n",
       "    <tr>\n",
       "      <th>1681</th>\n",
       "      <td>Wrist</td>\n",
       "    </tr>\n",
       "    <tr>\n",
       "      <th>1682</th>\n",
       "      <td>Wrist</td>\n",
       "    </tr>\n",
       "    <tr>\n",
       "      <th>1683</th>\n",
       "      <td>Wrist</td>\n",
       "    </tr>\n",
       "    <tr>\n",
       "      <th>1684</th>\n",
       "      <td>Wrist</td>\n",
       "    </tr>\n",
       "    <tr>\n",
       "      <th>1685</th>\n",
       "      <td>Wrist</td>\n",
       "    </tr>\n",
       "  </tbody>\n",
       "</table>\n",
       "<p>1686 rows × 1 columns</p>\n",
       "</div>"
      ],
      "text/plain": [
       "            0\n",
       "0     Abdomen\n",
       "1     Abdomen\n",
       "2     Abdomen\n",
       "3     Abdomen\n",
       "4     Abdomen\n",
       "...       ...\n",
       "1681    Wrist\n",
       "1682    Wrist\n",
       "1683    Wrist\n",
       "1684    Wrist\n",
       "1685    Wrist\n",
       "\n",
       "[1686 rows x 1 columns]"
      ]
     },
     "execution_count": 6,
     "metadata": {},
     "output_type": "execute_result"
    }
   ],
   "source": [
    "dat"
   ]
  },
  {
   "cell_type": "code",
   "execution_count": 7,
   "metadata": {
    "colab": {
     "base_uri": "https://localhost:8080/"
    },
    "id": "NxWt--ouZ_1c",
    "outputId": "c648f2fd-e5af-4f4c-9c2f-aaf03fa028e9"
   },
   "outputs": [
    {
     "data": {
      "text/plain": [
       "Chest                              723\n",
       "Others                             120\n",
       "Knee                               102\n",
       "Abdomen                             80\n",
       "Cervical Spine                      76\n",
       "Feet                                70\n",
       "Pelvis                              67\n",
       "Wrist                               63\n",
       "Lumbar Spine and Thoracic Spine     45\n",
       "Hand and Wrist                      42\n",
       "Ankle                               41\n",
       "Shoulder                            40\n",
       "Lumbar Spine                        39\n",
       "Hand                                31\n",
       "Elbow                               23\n",
       "Sinus                               23\n",
       "Lower Leg                           19\n",
       "Hip                                 19\n",
       "Finger                              15\n",
       "Thoracic Spine                      15\n",
       "Forearm                             12\n",
       "Abdomen and Chest                   11\n",
       "Skull                               10\n",
       "dtype: int64"
      ]
     },
     "execution_count": 7,
     "metadata": {},
     "output_type": "execute_result"
    }
   ],
   "source": [
    "dat.value_counts()"
   ]
  },
  {
   "cell_type": "code",
   "execution_count": 8,
   "metadata": {
    "id": "M-M-jCkvfSpl"
   },
   "outputs": [],
   "source": [
    "df=pd.DataFrame(a)"
   ]
  },
  {
   "cell_type": "code",
   "execution_count": 9,
   "metadata": {
    "colab": {
     "base_uri": "https://localhost:8080/",
     "height": 487
    },
    "id": "ghc26ex4goR_",
    "outputId": "8320c121-10fa-4739-dfcc-f2b8ea4f1f0f"
   },
   "outputs": [
    {
     "data": {
      "text/html": [
       "<div>\n",
       "<style scoped>\n",
       "    .dataframe tbody tr th:only-of-type {\n",
       "        vertical-align: middle;\n",
       "    }\n",
       "\n",
       "    .dataframe tbody tr th {\n",
       "        vertical-align: top;\n",
       "    }\n",
       "\n",
       "    .dataframe thead th {\n",
       "        text-align: right;\n",
       "    }\n",
       "</style>\n",
       "<table border=\"1\" class=\"dataframe\">\n",
       "  <thead>\n",
       "    <tr style=\"text-align: right;\">\n",
       "      <th></th>\n",
       "      <th>0</th>\n",
       "      <th>1</th>\n",
       "      <th>2</th>\n",
       "      <th>3</th>\n",
       "      <th>4</th>\n",
       "      <th>5</th>\n",
       "      <th>6</th>\n",
       "      <th>7</th>\n",
       "      <th>8</th>\n",
       "      <th>9</th>\n",
       "      <th>...</th>\n",
       "      <th>490</th>\n",
       "      <th>491</th>\n",
       "      <th>492</th>\n",
       "      <th>493</th>\n",
       "      <th>494</th>\n",
       "      <th>495</th>\n",
       "      <th>496</th>\n",
       "      <th>497</th>\n",
       "      <th>498</th>\n",
       "      <th>499</th>\n",
       "    </tr>\n",
       "  </thead>\n",
       "  <tbody>\n",
       "    <tr>\n",
       "      <th>0</th>\n",
       "      <td>0.000000</td>\n",
       "      <td>0.000000</td>\n",
       "      <td>0.000000</td>\n",
       "      <td>0.000000</td>\n",
       "      <td>0.000000</td>\n",
       "      <td>0.000000</td>\n",
       "      <td>0.000000</td>\n",
       "      <td>0.000000</td>\n",
       "      <td>0.000000</td>\n",
       "      <td>0.0</td>\n",
       "      <td>...</td>\n",
       "      <td>0.000000</td>\n",
       "      <td>0.000000</td>\n",
       "      <td>0.000000</td>\n",
       "      <td>0.000000</td>\n",
       "      <td>0.000000</td>\n",
       "      <td>0.000000</td>\n",
       "      <td>0.000000</td>\n",
       "      <td>0.000000</td>\n",
       "      <td>0.000000</td>\n",
       "      <td>0.000000</td>\n",
       "    </tr>\n",
       "    <tr>\n",
       "      <th>1</th>\n",
       "      <td>0.084785</td>\n",
       "      <td>0.028262</td>\n",
       "      <td>0.000000</td>\n",
       "      <td>0.000000</td>\n",
       "      <td>0.000000</td>\n",
       "      <td>0.000000</td>\n",
       "      <td>0.000000</td>\n",
       "      <td>0.000000</td>\n",
       "      <td>0.000000</td>\n",
       "      <td>0.0</td>\n",
       "      <td>...</td>\n",
       "      <td>0.000000</td>\n",
       "      <td>0.028262</td>\n",
       "      <td>0.056523</td>\n",
       "      <td>0.000000</td>\n",
       "      <td>0.000000</td>\n",
       "      <td>0.000000</td>\n",
       "      <td>0.000000</td>\n",
       "      <td>0.000000</td>\n",
       "      <td>0.000000</td>\n",
       "      <td>0.000000</td>\n",
       "    </tr>\n",
       "    <tr>\n",
       "      <th>2</th>\n",
       "      <td>0.067963</td>\n",
       "      <td>0.000000</td>\n",
       "      <td>0.000000</td>\n",
       "      <td>0.000000</td>\n",
       "      <td>0.203888</td>\n",
       "      <td>0.067963</td>\n",
       "      <td>0.000000</td>\n",
       "      <td>0.135926</td>\n",
       "      <td>0.033981</td>\n",
       "      <td>0.0</td>\n",
       "      <td>...</td>\n",
       "      <td>0.169907</td>\n",
       "      <td>0.000000</td>\n",
       "      <td>0.000000</td>\n",
       "      <td>0.000000</td>\n",
       "      <td>0.000000</td>\n",
       "      <td>0.033981</td>\n",
       "      <td>0.033981</td>\n",
       "      <td>0.000000</td>\n",
       "      <td>0.000000</td>\n",
       "      <td>0.000000</td>\n",
       "    </tr>\n",
       "    <tr>\n",
       "      <th>3</th>\n",
       "      <td>0.019858</td>\n",
       "      <td>0.000000</td>\n",
       "      <td>0.019858</td>\n",
       "      <td>0.000000</td>\n",
       "      <td>0.000000</td>\n",
       "      <td>0.000000</td>\n",
       "      <td>0.059573</td>\n",
       "      <td>0.000000</td>\n",
       "      <td>0.000000</td>\n",
       "      <td>0.0</td>\n",
       "      <td>...</td>\n",
       "      <td>0.019858</td>\n",
       "      <td>0.019858</td>\n",
       "      <td>0.000000</td>\n",
       "      <td>0.000000</td>\n",
       "      <td>0.000000</td>\n",
       "      <td>0.000000</td>\n",
       "      <td>0.099288</td>\n",
       "      <td>0.000000</td>\n",
       "      <td>0.000000</td>\n",
       "      <td>0.000000</td>\n",
       "    </tr>\n",
       "    <tr>\n",
       "      <th>4</th>\n",
       "      <td>0.077024</td>\n",
       "      <td>0.051350</td>\n",
       "      <td>0.000000</td>\n",
       "      <td>0.025675</td>\n",
       "      <td>0.154049</td>\n",
       "      <td>0.000000</td>\n",
       "      <td>0.025675</td>\n",
       "      <td>0.077024</td>\n",
       "      <td>0.000000</td>\n",
       "      <td>0.0</td>\n",
       "      <td>...</td>\n",
       "      <td>0.025675</td>\n",
       "      <td>0.025675</td>\n",
       "      <td>0.025675</td>\n",
       "      <td>0.000000</td>\n",
       "      <td>0.051350</td>\n",
       "      <td>0.000000</td>\n",
       "      <td>0.000000</td>\n",
       "      <td>0.025675</td>\n",
       "      <td>0.025675</td>\n",
       "      <td>0.051350</td>\n",
       "    </tr>\n",
       "    <tr>\n",
       "      <th>...</th>\n",
       "      <td>...</td>\n",
       "      <td>...</td>\n",
       "      <td>...</td>\n",
       "      <td>...</td>\n",
       "      <td>...</td>\n",
       "      <td>...</td>\n",
       "      <td>...</td>\n",
       "      <td>...</td>\n",
       "      <td>...</td>\n",
       "      <td>...</td>\n",
       "      <td>...</td>\n",
       "      <td>...</td>\n",
       "      <td>...</td>\n",
       "      <td>...</td>\n",
       "      <td>...</td>\n",
       "      <td>...</td>\n",
       "      <td>...</td>\n",
       "      <td>...</td>\n",
       "      <td>...</td>\n",
       "      <td>...</td>\n",
       "      <td>...</td>\n",
       "    </tr>\n",
       "    <tr>\n",
       "      <th>1681</th>\n",
       "      <td>0.000000</td>\n",
       "      <td>0.000000</td>\n",
       "      <td>0.000000</td>\n",
       "      <td>0.000000</td>\n",
       "      <td>0.589983</td>\n",
       "      <td>0.015945</td>\n",
       "      <td>0.031891</td>\n",
       "      <td>0.000000</td>\n",
       "      <td>0.063782</td>\n",
       "      <td>0.0</td>\n",
       "      <td>...</td>\n",
       "      <td>0.095673</td>\n",
       "      <td>0.000000</td>\n",
       "      <td>0.031891</td>\n",
       "      <td>0.000000</td>\n",
       "      <td>0.000000</td>\n",
       "      <td>0.000000</td>\n",
       "      <td>0.015945</td>\n",
       "      <td>0.000000</td>\n",
       "      <td>0.031891</td>\n",
       "      <td>0.223237</td>\n",
       "    </tr>\n",
       "    <tr>\n",
       "      <th>1682</th>\n",
       "      <td>0.000000</td>\n",
       "      <td>0.000000</td>\n",
       "      <td>0.000000</td>\n",
       "      <td>0.000000</td>\n",
       "      <td>0.491169</td>\n",
       "      <td>0.023389</td>\n",
       "      <td>0.070167</td>\n",
       "      <td>0.000000</td>\n",
       "      <td>0.000000</td>\n",
       "      <td>0.0</td>\n",
       "      <td>...</td>\n",
       "      <td>0.000000</td>\n",
       "      <td>0.000000</td>\n",
       "      <td>0.000000</td>\n",
       "      <td>0.000000</td>\n",
       "      <td>0.023389</td>\n",
       "      <td>0.000000</td>\n",
       "      <td>0.000000</td>\n",
       "      <td>0.000000</td>\n",
       "      <td>0.000000</td>\n",
       "      <td>0.491169</td>\n",
       "    </tr>\n",
       "    <tr>\n",
       "      <th>1683</th>\n",
       "      <td>0.000000</td>\n",
       "      <td>0.000000</td>\n",
       "      <td>0.000000</td>\n",
       "      <td>0.020336</td>\n",
       "      <td>0.183027</td>\n",
       "      <td>0.081345</td>\n",
       "      <td>0.101681</td>\n",
       "      <td>0.000000</td>\n",
       "      <td>0.122018</td>\n",
       "      <td>0.0</td>\n",
       "      <td>...</td>\n",
       "      <td>0.020336</td>\n",
       "      <td>0.000000</td>\n",
       "      <td>0.000000</td>\n",
       "      <td>0.020336</td>\n",
       "      <td>0.000000</td>\n",
       "      <td>0.040673</td>\n",
       "      <td>0.000000</td>\n",
       "      <td>0.000000</td>\n",
       "      <td>0.040673</td>\n",
       "      <td>0.244036</td>\n",
       "    </tr>\n",
       "    <tr>\n",
       "      <th>1684</th>\n",
       "      <td>0.000000</td>\n",
       "      <td>0.000000</td>\n",
       "      <td>0.000000</td>\n",
       "      <td>0.000000</td>\n",
       "      <td>0.439886</td>\n",
       "      <td>0.054986</td>\n",
       "      <td>0.219943</td>\n",
       "      <td>0.000000</td>\n",
       "      <td>0.027493</td>\n",
       "      <td>0.0</td>\n",
       "      <td>...</td>\n",
       "      <td>0.000000</td>\n",
       "      <td>0.000000</td>\n",
       "      <td>0.000000</td>\n",
       "      <td>0.000000</td>\n",
       "      <td>0.000000</td>\n",
       "      <td>0.000000</td>\n",
       "      <td>0.000000</td>\n",
       "      <td>0.082479</td>\n",
       "      <td>0.000000</td>\n",
       "      <td>0.137464</td>\n",
       "    </tr>\n",
       "    <tr>\n",
       "      <th>1685</th>\n",
       "      <td>0.012202</td>\n",
       "      <td>0.000000</td>\n",
       "      <td>0.000000</td>\n",
       "      <td>0.000000</td>\n",
       "      <td>0.402679</td>\n",
       "      <td>0.048810</td>\n",
       "      <td>0.134226</td>\n",
       "      <td>0.000000</td>\n",
       "      <td>0.061012</td>\n",
       "      <td>0.0</td>\n",
       "      <td>...</td>\n",
       "      <td>0.048810</td>\n",
       "      <td>0.000000</td>\n",
       "      <td>0.000000</td>\n",
       "      <td>0.000000</td>\n",
       "      <td>0.000000</td>\n",
       "      <td>0.012202</td>\n",
       "      <td>0.024405</td>\n",
       "      <td>0.024405</td>\n",
       "      <td>0.012202</td>\n",
       "      <td>0.061012</td>\n",
       "    </tr>\n",
       "  </tbody>\n",
       "</table>\n",
       "<p>1686 rows × 500 columns</p>\n",
       "</div>"
      ],
      "text/plain": [
       "           0         1         2         3         4         5         6    \\\n",
       "0     0.000000  0.000000  0.000000  0.000000  0.000000  0.000000  0.000000   \n",
       "1     0.084785  0.028262  0.000000  0.000000  0.000000  0.000000  0.000000   \n",
       "2     0.067963  0.000000  0.000000  0.000000  0.203888  0.067963  0.000000   \n",
       "3     0.019858  0.000000  0.019858  0.000000  0.000000  0.000000  0.059573   \n",
       "4     0.077024  0.051350  0.000000  0.025675  0.154049  0.000000  0.025675   \n",
       "...        ...       ...       ...       ...       ...       ...       ...   \n",
       "1681  0.000000  0.000000  0.000000  0.000000  0.589983  0.015945  0.031891   \n",
       "1682  0.000000  0.000000  0.000000  0.000000  0.491169  0.023389  0.070167   \n",
       "1683  0.000000  0.000000  0.000000  0.020336  0.183027  0.081345  0.101681   \n",
       "1684  0.000000  0.000000  0.000000  0.000000  0.439886  0.054986  0.219943   \n",
       "1685  0.012202  0.000000  0.000000  0.000000  0.402679  0.048810  0.134226   \n",
       "\n",
       "           7         8    9    ...       490       491       492       493  \\\n",
       "0     0.000000  0.000000  0.0  ...  0.000000  0.000000  0.000000  0.000000   \n",
       "1     0.000000  0.000000  0.0  ...  0.000000  0.028262  0.056523  0.000000   \n",
       "2     0.135926  0.033981  0.0  ...  0.169907  0.000000  0.000000  0.000000   \n",
       "3     0.000000  0.000000  0.0  ...  0.019858  0.019858  0.000000  0.000000   \n",
       "4     0.077024  0.000000  0.0  ...  0.025675  0.025675  0.025675  0.000000   \n",
       "...        ...       ...  ...  ...       ...       ...       ...       ...   \n",
       "1681  0.000000  0.063782  0.0  ...  0.095673  0.000000  0.031891  0.000000   \n",
       "1682  0.000000  0.000000  0.0  ...  0.000000  0.000000  0.000000  0.000000   \n",
       "1683  0.000000  0.122018  0.0  ...  0.020336  0.000000  0.000000  0.020336   \n",
       "1684  0.000000  0.027493  0.0  ...  0.000000  0.000000  0.000000  0.000000   \n",
       "1685  0.000000  0.061012  0.0  ...  0.048810  0.000000  0.000000  0.000000   \n",
       "\n",
       "           494       495       496       497       498       499  \n",
       "0     0.000000  0.000000  0.000000  0.000000  0.000000  0.000000  \n",
       "1     0.000000  0.000000  0.000000  0.000000  0.000000  0.000000  \n",
       "2     0.000000  0.033981  0.033981  0.000000  0.000000  0.000000  \n",
       "3     0.000000  0.000000  0.099288  0.000000  0.000000  0.000000  \n",
       "4     0.051350  0.000000  0.000000  0.025675  0.025675  0.051350  \n",
       "...        ...       ...       ...       ...       ...       ...  \n",
       "1681  0.000000  0.000000  0.015945  0.000000  0.031891  0.223237  \n",
       "1682  0.023389  0.000000  0.000000  0.000000  0.000000  0.491169  \n",
       "1683  0.000000  0.040673  0.000000  0.000000  0.040673  0.244036  \n",
       "1684  0.000000  0.000000  0.000000  0.082479  0.000000  0.137464  \n",
       "1685  0.000000  0.012202  0.024405  0.024405  0.012202  0.061012  \n",
       "\n",
       "[1686 rows x 500 columns]"
      ]
     },
     "execution_count": 9,
     "metadata": {},
     "output_type": "execute_result"
    }
   ],
   "source": [
    "df"
   ]
  },
  {
   "cell_type": "code",
   "execution_count": 10,
   "metadata": {
    "id": "S4V746dXjmjP"
   },
   "outputs": [
    {
     "ename": "NameError",
     "evalue": "name 'y_train' is not defined",
     "output_type": "error",
     "traceback": [
      "\u001b[1;31m---------------------------------------------------------------------------\u001b[0m",
      "\u001b[1;31mNameError\u001b[0m                                 Traceback (most recent call last)",
      "\u001b[1;32mC:\\Users\\DD1E2~1.RHU\\AppData\\Local\\Temp/ipykernel_23196/2615249061.py\u001b[0m in \u001b[0;36m<module>\u001b[1;34m\u001b[0m\n\u001b[1;32m----> 1\u001b[1;33m \u001b[0mclasses\u001b[0m\u001b[1;33m=\u001b[0m\u001b[0mset\u001b[0m\u001b[1;33m(\u001b[0m\u001b[0my_train\u001b[0m\u001b[1;33m[\u001b[0m\u001b[1;36m0\u001b[0m\u001b[1;33m]\u001b[0m\u001b[1;33m)\u001b[0m\u001b[1;33m\u001b[0m\u001b[1;33m\u001b[0m\u001b[0m\n\u001b[0m",
      "\u001b[1;31mNameError\u001b[0m: name 'y_train' is not defined"
     ]
    }
   ],
   "source": [
    "classes=set(y_train[0])"
   ]
  },
  {
   "cell_type": "code",
   "execution_count": 11,
   "metadata": {
    "id": "lw_Tl_TIjqJC"
   },
   "outputs": [
    {
     "ename": "NameError",
     "evalue": "name 'np' is not defined",
     "output_type": "error",
     "traceback": [
      "\u001b[1;31m---------------------------------------------------------------------------\u001b[0m",
      "\u001b[1;31mNameError\u001b[0m                                 Traceback (most recent call last)",
      "\u001b[1;32mC:\\Users\\DD1E2~1.RHU\\AppData\\Local\\Temp/ipykernel_23196/1808477527.py\u001b[0m in \u001b[0;36m<module>\u001b[1;34m\u001b[0m\n\u001b[1;32m----> 1\u001b[1;33m \u001b[0mclasses\u001b[0m\u001b[1;33m=\u001b[0m\u001b[0mnp\u001b[0m\u001b[1;33m.\u001b[0m\u001b[0marray\u001b[0m\u001b[1;33m(\u001b[0m\u001b[0mlist\u001b[0m\u001b[1;33m(\u001b[0m\u001b[0mclasses\u001b[0m\u001b[1;33m)\u001b[0m\u001b[1;33m)\u001b[0m\u001b[1;33m\u001b[0m\u001b[1;33m\u001b[0m\u001b[0m\n\u001b[0m",
      "\u001b[1;31mNameError\u001b[0m: name 'np' is not defined"
     ]
    }
   ],
   "source": [
    "classes=np.array(list(classes))"
   ]
  },
  {
   "cell_type": "code",
   "execution_count": 149,
   "metadata": {
    "colab": {
     "base_uri": "https://localhost:8080/"
    },
    "id": "fkQ0cqtMj6pc",
    "outputId": "ca6a6ef2-6ecf-4ae2-f649-08cc4851a8be"
   },
   "outputs": [
    {
     "data": {
      "text/plain": [
       "array(['Shoulder', 'Ankle', 'Hand', 'Skull', 'Hand and Wrist', 'Elbow',\n",
       "       'Others', 'Sinus', 'Finger', 'Forearm', 'Pelvis', 'Thoracic Spine',\n",
       "       'Lumbar Spine and Thoracic Spine', 'Feet', 'Chest', 'Lumbar Spine',\n",
       "       'Hip', 'Cervical Spine', 'Abdomen and Chest', 'Lower Leg',\n",
       "       'Abdomen', 'Knee', 'Wrist'], dtype='<U31')"
      ]
     },
     "execution_count": 149,
     "metadata": {},
     "output_type": "execute_result"
    }
   ],
   "source": [
    "classes"
   ]
  },
  {
   "cell_type": "code",
   "execution_count": 153,
   "metadata": {
    "colab": {
     "base_uri": "https://localhost:8080/"
    },
    "id": "7cd0RdZIkZeA",
    "outputId": "bedaa826-0528-47ee-a079-eeb0d0cf4faf"
   },
   "outputs": [
    {
     "data": {
      "text/plain": [
       "1686"
      ]
     },
     "execution_count": 153,
     "metadata": {},
     "output_type": "execute_result"
    }
   ],
   "source": [
    "len(label)"
   ]
  },
  {
   "cell_type": "code",
   "execution_count": 106,
   "metadata": {
    "id": "W2N23MwZgpGw"
   },
   "outputs": [],
   "source": [
    "from sklearn.model_selection import train_test_split"
   ]
  },
  {
   "cell_type": "code",
   "execution_count": 135,
   "metadata": {
    "id": "-ZtDNZ1eiEUD"
   },
   "outputs": [],
   "source": [
    "from sklearn import preprocessing\n",
    ">>> le = preprocessing.LabelEncoder()"
   ]
  },
  {
   "cell_type": "code",
   "execution_count": 150,
   "metadata": {
    "colab": {
     "base_uri": "https://localhost:8080/",
     "height": 74
    },
    "id": "lpSqCUzyiGvA",
    "outputId": "6b972def-1d76-4864-ad3d-ca87e4519450"
   },
   "outputs": [
    {
     "data": {
      "text/html": [
       "<style>#sk-container-id-2 {color: black;background-color: white;}#sk-container-id-2 pre{padding: 0;}#sk-container-id-2 div.sk-toggleable {background-color: white;}#sk-container-id-2 label.sk-toggleable__label {cursor: pointer;display: block;width: 100%;margin-bottom: 0;padding: 0.3em;box-sizing: border-box;text-align: center;}#sk-container-id-2 label.sk-toggleable__label-arrow:before {content: \"▸\";float: left;margin-right: 0.25em;color: #696969;}#sk-container-id-2 label.sk-toggleable__label-arrow:hover:before {color: black;}#sk-container-id-2 div.sk-estimator:hover label.sk-toggleable__label-arrow:before {color: black;}#sk-container-id-2 div.sk-toggleable__content {max-height: 0;max-width: 0;overflow: hidden;text-align: left;background-color: #f0f8ff;}#sk-container-id-2 div.sk-toggleable__content pre {margin: 0.2em;color: black;border-radius: 0.25em;background-color: #f0f8ff;}#sk-container-id-2 input.sk-toggleable__control:checked~div.sk-toggleable__content {max-height: 200px;max-width: 100%;overflow: auto;}#sk-container-id-2 input.sk-toggleable__control:checked~label.sk-toggleable__label-arrow:before {content: \"▾\";}#sk-container-id-2 div.sk-estimator input.sk-toggleable__control:checked~label.sk-toggleable__label {background-color: #d4ebff;}#sk-container-id-2 div.sk-label input.sk-toggleable__control:checked~label.sk-toggleable__label {background-color: #d4ebff;}#sk-container-id-2 input.sk-hidden--visually {border: 0;clip: rect(1px 1px 1px 1px);clip: rect(1px, 1px, 1px, 1px);height: 1px;margin: -1px;overflow: hidden;padding: 0;position: absolute;width: 1px;}#sk-container-id-2 div.sk-estimator {font-family: monospace;background-color: #f0f8ff;border: 1px dotted black;border-radius: 0.25em;box-sizing: border-box;margin-bottom: 0.5em;}#sk-container-id-2 div.sk-estimator:hover {background-color: #d4ebff;}#sk-container-id-2 div.sk-parallel-item::after {content: \"\";width: 100%;border-bottom: 1px solid gray;flex-grow: 1;}#sk-container-id-2 div.sk-label:hover label.sk-toggleable__label {background-color: #d4ebff;}#sk-container-id-2 div.sk-serial::before {content: \"\";position: absolute;border-left: 1px solid gray;box-sizing: border-box;top: 0;bottom: 0;left: 50%;z-index: 0;}#sk-container-id-2 div.sk-serial {display: flex;flex-direction: column;align-items: center;background-color: white;padding-right: 0.2em;padding-left: 0.2em;position: relative;}#sk-container-id-2 div.sk-item {position: relative;z-index: 1;}#sk-container-id-2 div.sk-parallel {display: flex;align-items: stretch;justify-content: center;background-color: white;position: relative;}#sk-container-id-2 div.sk-item::before, #sk-container-id-2 div.sk-parallel-item::before {content: \"\";position: absolute;border-left: 1px solid gray;box-sizing: border-box;top: 0;bottom: 0;left: 50%;z-index: -1;}#sk-container-id-2 div.sk-parallel-item {display: flex;flex-direction: column;z-index: 1;position: relative;background-color: white;}#sk-container-id-2 div.sk-parallel-item:first-child::after {align-self: flex-end;width: 50%;}#sk-container-id-2 div.sk-parallel-item:last-child::after {align-self: flex-start;width: 50%;}#sk-container-id-2 div.sk-parallel-item:only-child::after {width: 0;}#sk-container-id-2 div.sk-dashed-wrapped {border: 1px dashed gray;margin: 0 0.4em 0.5em 0.4em;box-sizing: border-box;padding-bottom: 0.4em;background-color: white;}#sk-container-id-2 div.sk-label label {font-family: monospace;font-weight: bold;display: inline-block;line-height: 1.2em;}#sk-container-id-2 div.sk-label-container {text-align: center;}#sk-container-id-2 div.sk-container {/* jupyter's `normalize.less` sets `[hidden] { display: none; }` but bootstrap.min.css set `[hidden] { display: none !important; }` so we also need the `!important` here to be able to override the default hidden behavior on the sphinx rendered scikit-learn.org. See: https://github.com/scikit-learn/scikit-learn/issues/21755 */display: inline-block !important;position: relative;}#sk-container-id-2 div.sk-text-repr-fallback {display: none;}</style><div id=\"sk-container-id-2\" class=\"sk-top-container\"><div class=\"sk-text-repr-fallback\"><pre>LabelEncoder()</pre><b>In a Jupyter environment, please rerun this cell to show the HTML representation or trust the notebook. <br />On GitHub, the HTML representation is unable to render, please try loading this page with nbviewer.org.</b></div><div class=\"sk-container\" hidden><div class=\"sk-item\"><div class=\"sk-estimator sk-toggleable\"><input class=\"sk-toggleable__control sk-hidden--visually\" id=\"sk-estimator-id-2\" type=\"checkbox\" checked><label for=\"sk-estimator-id-2\" class=\"sk-toggleable__label sk-toggleable__label-arrow\">LabelEncoder</label><div class=\"sk-toggleable__content\"><pre>LabelEncoder()</pre></div></div></div></div></div>"
      ],
      "text/plain": [
       "LabelEncoder()"
      ]
     },
     "execution_count": 150,
     "metadata": {},
     "output_type": "execute_result"
    }
   ],
   "source": [
    "le.fit(classes)"
   ]
  },
  {
   "cell_type": "code",
   "execution_count": 151,
   "metadata": {
    "id": "9IziOtO0i4sT"
   },
   "outputs": [],
   "source": [
    "label=le.transform(dat[0])"
   ]
  },
  {
   "cell_type": "code",
   "execution_count": 154,
   "metadata": {
    "id": "gE4BVCBagww2"
   },
   "outputs": [],
   "source": [
    "X_train, X_test, y_train, y_test = train_test_split(df,label, test_size=0.25, random_state=42,stratify=label)"
   ]
  },
  {
   "cell_type": "code",
   "execution_count": 111,
   "metadata": {
    "id": "xljfT8JHhLdL"
   },
   "outputs": [],
   "source": [
    "from xgboost import XGBClassifier"
   ]
  },
  {
   "cell_type": "code",
   "execution_count": 156,
   "metadata": {
    "colab": {
     "base_uri": "https://localhost:8080/",
     "height": 248
    },
    "id": "A2U8nk1fhwpS",
    "outputId": "1f823236-888b-4052-d65a-29b718591423"
   },
   "outputs": [
    {
     "data": {
      "text/html": [
       "<style>#sk-container-id-3 {color: black;background-color: white;}#sk-container-id-3 pre{padding: 0;}#sk-container-id-3 div.sk-toggleable {background-color: white;}#sk-container-id-3 label.sk-toggleable__label {cursor: pointer;display: block;width: 100%;margin-bottom: 0;padding: 0.3em;box-sizing: border-box;text-align: center;}#sk-container-id-3 label.sk-toggleable__label-arrow:before {content: \"▸\";float: left;margin-right: 0.25em;color: #696969;}#sk-container-id-3 label.sk-toggleable__label-arrow:hover:before {color: black;}#sk-container-id-3 div.sk-estimator:hover label.sk-toggleable__label-arrow:before {color: black;}#sk-container-id-3 div.sk-toggleable__content {max-height: 0;max-width: 0;overflow: hidden;text-align: left;background-color: #f0f8ff;}#sk-container-id-3 div.sk-toggleable__content pre {margin: 0.2em;color: black;border-radius: 0.25em;background-color: #f0f8ff;}#sk-container-id-3 input.sk-toggleable__control:checked~div.sk-toggleable__content {max-height: 200px;max-width: 100%;overflow: auto;}#sk-container-id-3 input.sk-toggleable__control:checked~label.sk-toggleable__label-arrow:before {content: \"▾\";}#sk-container-id-3 div.sk-estimator input.sk-toggleable__control:checked~label.sk-toggleable__label {background-color: #d4ebff;}#sk-container-id-3 div.sk-label input.sk-toggleable__control:checked~label.sk-toggleable__label {background-color: #d4ebff;}#sk-container-id-3 input.sk-hidden--visually {border: 0;clip: rect(1px 1px 1px 1px);clip: rect(1px, 1px, 1px, 1px);height: 1px;margin: -1px;overflow: hidden;padding: 0;position: absolute;width: 1px;}#sk-container-id-3 div.sk-estimator {font-family: monospace;background-color: #f0f8ff;border: 1px dotted black;border-radius: 0.25em;box-sizing: border-box;margin-bottom: 0.5em;}#sk-container-id-3 div.sk-estimator:hover {background-color: #d4ebff;}#sk-container-id-3 div.sk-parallel-item::after {content: \"\";width: 100%;border-bottom: 1px solid gray;flex-grow: 1;}#sk-container-id-3 div.sk-label:hover label.sk-toggleable__label {background-color: #d4ebff;}#sk-container-id-3 div.sk-serial::before {content: \"\";position: absolute;border-left: 1px solid gray;box-sizing: border-box;top: 0;bottom: 0;left: 50%;z-index: 0;}#sk-container-id-3 div.sk-serial {display: flex;flex-direction: column;align-items: center;background-color: white;padding-right: 0.2em;padding-left: 0.2em;position: relative;}#sk-container-id-3 div.sk-item {position: relative;z-index: 1;}#sk-container-id-3 div.sk-parallel {display: flex;align-items: stretch;justify-content: center;background-color: white;position: relative;}#sk-container-id-3 div.sk-item::before, #sk-container-id-3 div.sk-parallel-item::before {content: \"\";position: absolute;border-left: 1px solid gray;box-sizing: border-box;top: 0;bottom: 0;left: 50%;z-index: -1;}#sk-container-id-3 div.sk-parallel-item {display: flex;flex-direction: column;z-index: 1;position: relative;background-color: white;}#sk-container-id-3 div.sk-parallel-item:first-child::after {align-self: flex-end;width: 50%;}#sk-container-id-3 div.sk-parallel-item:last-child::after {align-self: flex-start;width: 50%;}#sk-container-id-3 div.sk-parallel-item:only-child::after {width: 0;}#sk-container-id-3 div.sk-dashed-wrapped {border: 1px dashed gray;margin: 0 0.4em 0.5em 0.4em;box-sizing: border-box;padding-bottom: 0.4em;background-color: white;}#sk-container-id-3 div.sk-label label {font-family: monospace;font-weight: bold;display: inline-block;line-height: 1.2em;}#sk-container-id-3 div.sk-label-container {text-align: center;}#sk-container-id-3 div.sk-container {/* jupyter's `normalize.less` sets `[hidden] { display: none; }` but bootstrap.min.css set `[hidden] { display: none !important; }` so we also need the `!important` here to be able to override the default hidden behavior on the sphinx rendered scikit-learn.org. See: https://github.com/scikit-learn/scikit-learn/issues/21755 */display: inline-block !important;position: relative;}#sk-container-id-3 div.sk-text-repr-fallback {display: none;}</style><div id=\"sk-container-id-3\" class=\"sk-top-container\"><div class=\"sk-text-repr-fallback\"><pre>XGBClassifier(base_score=None, booster=None, callbacks=None,\n",
       "              colsample_bylevel=None, colsample_bynode=None,\n",
       "              colsample_bytree=None, early_stopping_rounds=None,\n",
       "              enable_categorical=False, eval_metric=None, feature_types=None,\n",
       "              gamma=None, gpu_id=None, grow_policy=None, importance_type=None,\n",
       "              interaction_constraints=None, learning_rate=None, max_bin=None,\n",
       "              max_cat_threshold=None, max_cat_to_onehot=None,\n",
       "              max_delta_step=None, max_depth=None, max_leaves=None,\n",
       "              min_child_weight=None, missing=nan, monotone_constraints=None,\n",
       "              n_estimators=100, n_jobs=None, num_parallel_tree=None,\n",
       "              objective=&#x27;multi:softprob&#x27;, predictor=None, ...)</pre><b>In a Jupyter environment, please rerun this cell to show the HTML representation or trust the notebook. <br />On GitHub, the HTML representation is unable to render, please try loading this page with nbviewer.org.</b></div><div class=\"sk-container\" hidden><div class=\"sk-item\"><div class=\"sk-estimator sk-toggleable\"><input class=\"sk-toggleable__control sk-hidden--visually\" id=\"sk-estimator-id-3\" type=\"checkbox\" checked><label for=\"sk-estimator-id-3\" class=\"sk-toggleable__label sk-toggleable__label-arrow\">XGBClassifier</label><div class=\"sk-toggleable__content\"><pre>XGBClassifier(base_score=None, booster=None, callbacks=None,\n",
       "              colsample_bylevel=None, colsample_bynode=None,\n",
       "              colsample_bytree=None, early_stopping_rounds=None,\n",
       "              enable_categorical=False, eval_metric=None, feature_types=None,\n",
       "              gamma=None, gpu_id=None, grow_policy=None, importance_type=None,\n",
       "              interaction_constraints=None, learning_rate=None, max_bin=None,\n",
       "              max_cat_threshold=None, max_cat_to_onehot=None,\n",
       "              max_delta_step=None, max_depth=None, max_leaves=None,\n",
       "              min_child_weight=None, missing=nan, monotone_constraints=None,\n",
       "              n_estimators=100, n_jobs=None, num_parallel_tree=None,\n",
       "              objective=&#x27;multi:softprob&#x27;, predictor=None, ...)</pre></div></div></div></div></div>"
      ],
      "text/plain": [
       "XGBClassifier(base_score=None, booster=None, callbacks=None,\n",
       "              colsample_bylevel=None, colsample_bynode=None,\n",
       "              colsample_bytree=None, early_stopping_rounds=None,\n",
       "              enable_categorical=False, eval_metric=None, feature_types=None,\n",
       "              gamma=None, gpu_id=None, grow_policy=None, importance_type=None,\n",
       "              interaction_constraints=None, learning_rate=None, max_bin=None,\n",
       "              max_cat_threshold=None, max_cat_to_onehot=None,\n",
       "              max_delta_step=None, max_depth=None, max_leaves=None,\n",
       "              min_child_weight=None, missing=nan, monotone_constraints=None,\n",
       "              n_estimators=100, n_jobs=None, num_parallel_tree=None,\n",
       "              objective='multi:softprob', predictor=None, ...)"
      ]
     },
     "execution_count": 156,
     "metadata": {},
     "output_type": "execute_result"
    }
   ],
   "source": [
    "learn = XGBClassifier()\n",
    "learn.fit(X_train, y_train)"
   ]
  },
  {
   "cell_type": "code",
   "execution_count": 157,
   "metadata": {
    "id": "urVPtTZyh1sm"
   },
   "outputs": [],
   "source": [
    "pred = learn.predict(X_test)\n",
    "sci_pred = [round(value) for value in pred]"
   ]
  },
  {
   "cell_type": "code",
   "execution_count": 159,
   "metadata": {
    "colab": {
     "base_uri": "https://localhost:8080/"
    },
    "id": "30yW-DKKkzqa",
    "outputId": "50fc015a-6b48-43dd-b905-48c80c20104d"
   },
   "outputs": [
    {
     "data": {
      "text/plain": [
       "0.7322274881516587"
      ]
     },
     "execution_count": 159,
     "metadata": {},
     "output_type": "execute_result"
    }
   ],
   "source": [
    "learn.score (X_test, y_test)"
   ]
  },
  {
   "cell_type": "code",
   "execution_count": 160,
   "metadata": {
    "colab": {
     "base_uri": "https://localhost:8080/"
    },
    "id": "qCEsQr8ZlrA8",
    "outputId": "cf816103-496a-49ab-aa49-15c067b237b7"
   },
   "outputs": [
    {
     "data": {
      "text/plain": [
       "array([ 4,  4, 16, 17,  4,  6,  6, 12,  4, 12,  4,  4,  8,  4,  4,  4,  9,\n",
       "        6,  4,  4,  4,  4, 12,  4,  4,  6,  4, 16,  4,  4,  4, 12,  0, 16,\n",
       "        4, 17,  4,  4,  4, 16,  4,  0,  4, 17, 15,  2,  4,  4,  4,  2,  4,\n",
       "        4, 22, 17,  6, 10,  4, 16, 16,  4, 18,  4, 22,  5,  4, 17, 17, 12,\n",
       "        2,  4,  4,  4,  4, 16, 18,  3, 21,  4,  4,  2,  3, 16,  4,  4, 16,\n",
       "        4,  8,  4,  4,  4,  4, 12,  4, 22,  5,  4, 16,  4,  4, 10,  6,  6,\n",
       "       12, 12, 15,  4,  4,  3,  4, 12,  4,  6, 12, 22,  4,  4,  4,  0, 12,\n",
       "        4, 12, 17,  4,  4, 12,  0,  0,  4, 17, 12,  3,  2, 22, 12,  4,  4,\n",
       "        4,  4,  4,  4,  4,  4,  6, 10,  4, 22,  4, 15,  6, 22,  4,  4, 12,\n",
       "        4, 17, 15, 16,  4, 10,  4, 16,  5,  4, 12,  4, 16, 22,  4, 16,  4,\n",
       "       16, 12,  4,  3,  4,  0,  4,  4,  4,  4,  9,  4,  4,  4,  4,  4, 17,\n",
       "        0,  3, 16, 15,  4, 17,  3, 16,  4,  4,  4,  4,  4,  3, 12,  4,  4,\n",
       "        4, 12,  4,  4,  4, 12, 19,  4, 22,  4,  4,  4,  4,  4,  4,  4,  4,\n",
       "        4,  4,  4, 22,  4,  9, 15,  2, 10,  4, 10, 16, 12, 22,  6, 18,  2,\n",
       "        4,  4,  4,  4,  4,  4,  0, 12,  4, 16,  4, 12,  4,  4, 12, 15,  4,\n",
       "       16, 16,  4,  4,  3,  4,  4,  4,  3,  4,  4, 18,  3,  4, 16,  4,  6,\n",
       "        4,  4, 17,  4,  4,  4, 12,  4, 12,  4,  0,  9,  4, 22, 17,  4, 16,\n",
       "        4, 14,  4,  4,  3, 18,  4,  4, 12,  4, 16, 15,  4,  4,  4,  4, 11,\n",
       "        4,  9,  4,  4,  4,  4, 10,  4,  9, 22,  4,  2,  4,  3,  4,  4, 15,\n",
       "        3,  3,  4,  4,  6, 17,  4,  4,  4,  4, 15,  6,  3,  4, 12,  4, 12,\n",
       "       14,  4, 16,  4, 12, 12,  0,  4,  4, 22, 16,  8, 16,  4,  4,  4,  0,\n",
       "        4, 17,  4, 10,  4, 12, 16,  7,  4,  4,  4, 10, 10,  4,  4, 10,  4,\n",
       "       12,  6, 17, 16,  4,  4,  4,  4,  4,  6,  4, 10,  4,  4, 22,  4,  4,\n",
       "        4,  3, 17,  4, 17,  4,  4,  4, 17,  6,  4,  4,  4, 17,  4,  4, 22,\n",
       "        4, 16,  4, 12, 16, 17,  4,  6,  4,  4, 18, 22, 22,  4])"
      ]
     },
     "execution_count": 160,
     "metadata": {},
     "output_type": "execute_result"
    }
   ],
   "source": [
    "pred"
   ]
  },
  {
   "cell_type": "code",
   "execution_count": 162,
   "metadata": {
    "id": "NKDGJ7mqlv_b"
   },
   "outputs": [],
   "source": [
    "import sklearn"
   ]
  },
  {
   "cell_type": "code",
   "execution_count": 164,
   "metadata": {
    "colab": {
     "base_uri": "https://localhost:8080/"
    },
    "id": "EIj05iWTllne",
    "outputId": "0fd1d3d3-01a7-4b40-da14-c6f48e3aa827"
   },
   "outputs": [
    {
     "name": "stdout",
     "output_type": "stream",
     "text": [
      "[[  8   0   0   1   6   0   0   0   1   0   0   0   0   0   0   0   3   1\n",
      "    0   0   0   0   0]\n",
      " [  0   0   0   0   3   0   0   0   0   0   0   0   0   0   0   0   0   0\n",
      "    0   0   0   0   0]\n",
      " [  0   0   6   0   0   0   0   0   0   0   0   0   3   0   0   0   0   0\n",
      "    0   0   0   0   1]\n",
      " [  1   0   0  10   5   0   0   0   0   0   0   0   0   0   0   0   3   0\n",
      "    0   0   0   0   0]\n",
      " [  0   0   0   0 178   0   1   0   0   0   0   0   0   0   0   0   0   0\n",
      "    1   0   0   1   0]\n",
      " [  0   0   0   0   0   1   0   0   0   0   0   0   4   0   0   0   0   0\n",
      "    1   0   0   0   0]\n",
      " [  0   0   0   0   1   1  13   0   0   1   0   0   0   0   0   0   0   0\n",
      "    0   0   0   0   1]\n",
      " [  0   0   0   0   0   0   0   0   0   0   1   0   0   0   0   0   0   0\n",
      "    0   0   0   0   3]\n",
      " [  0   0   0   1   0   0   1   0   0   0   1   0   0   0   0   0   0   0\n",
      "    0   0   0   0   0]\n",
      " [  0   0   1   0   0   0   2   1   0   2   1   0   0   0   0   0   1   0\n",
      "    0   0   0   0   0]\n",
      " [  0   0   0   0   0   0   0   0   0   3   6   0   0   0   0   0   0   0\n",
      "    0   0   0   0   1]\n",
      " [  1   0   0   0   2   0   0   0   0   0   0   1   0   0   0   0   0   1\n",
      "    0   0   0   0   0]\n",
      " [  0   0   0   0   0   0   0   0   0   0   0   0  24   0   0   0   0   1\n",
      "    0   0   0   0   0]\n",
      " [  0   0   0   0   1   0   0   0   1   0   0   0   2   0   0   0   0   0\n",
      "    0   0   0   0   1]\n",
      " [  0   0   0   0   2   0   0   0   0   0   0   0   1   0   1   3   3   0\n",
      "    0   0   0   0   0]\n",
      " [  0   0   0   0   4   0   0   0   0   0   0   0   0   0   0   7   0   0\n",
      "    0   0   0   0   0]\n",
      " [  1   0   0   0   5   1   1   0   0   0   0   0   1   0   0   0  20   1\n",
      "    0   0   0   0   0]\n",
      " [  0   0   0   0   1   0   0   0   0   0   0   0   0   0   0   0   0  16\n",
      "    0   0   0   0   0]\n",
      " [  0   0   0   2   4   0   0   0   0   0   0   0   0   0   0   0   0   0\n",
      "    4   0   0   0   0]\n",
      " [  0   0   0   2   2   0   0   0   0   0   0   0   0   0   0   0   0   1\n",
      "    0   1   0   0   0]\n",
      " [  0   0   0   1   0   0   0   0   0   0   0   0   0   0   0   0   1   0\n",
      "    0   0   0   0   0]\n",
      " [  0   0   0   0   3   0   0   0   0   0   0   0   0   0   1   0   0   0\n",
      "    0   0   0   0   0]\n",
      " [  0   0   1   0   0   0   0   0   1   0   3   0   0   0   0   0   0   0\n",
      "    0   0   0   0  11]]\n"
     ]
    }
   ],
   "source": [
    "cm=sklearn.metrics.confusion_matrix(y_test,pred)\n",
    "print(cm)"
   ]
  },
  {
   "cell_type": "code",
   "execution_count": 168,
   "metadata": {
    "colab": {
     "base_uri": "https://localhost:8080/",
     "height": 1000
    },
    "id": "CxI5NEIpk5C9",
    "outputId": "c1743bd7-1c01-4d3a-e61a-f78c46ef1bba"
   },
   "outputs": [
    {
     "data": {
      "image/png": "[encoded data removed]",
      "text/plain": [
       "<Figure size 3600x3600 with 2 Axes>"
      ]
     },
     "metadata": {},
     "output_type": "display_data"
    }
   ],
   "source": [
    "import seaborn as sn\n",
    "import pandas as pd\n",
    "import matplotlib.pyplot as plt\n",
    "\n",
    "\n",
    "df_cm = pd.DataFrame(cm, range(23), range(23))\n",
    "plt.figure(figsize=(50,50))\n",
    "\n",
    "sn.heatmap(df_cm, annot=True) # font size\n",
    "\n",
    "plt.show()"
   ]
  },
  {
   "cell_type": "code",
   "execution_count": 169,
   "metadata": {
    "colab": {
     "base_uri": "https://localhost:8080/"
    },
    "id": "0wJL_pyKl_9Q",
    "outputId": "1280c10c-ccdc-4830-8524-59b3566b0968"
   },
   "outputs": [
    {
     "data": {
      "text/plain": [
       "array([18,  2,  9, 20, 10,  5, 16, 19,  7,  8, 17, 21, 15,  6,  4, 14, 11,\n",
       "        3,  1, 13,  0, 12, 22])"
      ]
     },
     "execution_count": 169,
     "metadata": {},
     "output_type": "execute_result"
    }
   ],
   "source": [
    "le.transform(classes)"
   ]
  },
  {
   "cell_type": "code",
   "execution_count": 170,
   "metadata": {
    "colab": {
     "base_uri": "https://localhost:8080/"
    },
    "id": "PJjX25Zjm28w",
    "outputId": "2aae9be4-63d6-40a8-cd51-134d250eaf60"
   },
   "outputs": [
    {
     "data": {
      "text/plain": [
       "array(['Shoulder', 'Ankle', 'Hand', 'Skull', 'Hand and Wrist', 'Elbow',\n",
       "       'Others', 'Sinus', 'Finger', 'Forearm', 'Pelvis', 'Thoracic Spine',\n",
       "       'Lumbar Spine and Thoracic Spine', 'Feet', 'Chest', 'Lumbar Spine',\n",
       "       'Hip', 'Cervical Spine', 'Abdomen and Chest', 'Lower Leg',\n",
       "       'Abdomen', 'Knee', 'Wrist'], dtype='<U31')"
      ]
     },
     "execution_count": 170,
     "metadata": {},
     "output_type": "execute_result"
    }
   ],
   "source": [
    "classes"
   ]
  },
  {
   "cell_type": "code",
   "execution_count": 171,
   "metadata": {
    "colab": {
     "base_uri": "https://localhost:8080/"
    },
    "id": "cNHPG8Gdm5X2",
    "outputId": "e93a5d4d-1559-467a-b8a4-be2f31f2b679"
   },
   "outputs": [
    {
     "name": "stdout",
     "output_type": "stream",
     "text": [
      "              precision    recall  f1-score   support\n",
      "\n",
      "           0       0.73      0.40      0.52        20\n",
      "           1       0.00      0.00      0.00         3\n",
      "           2       0.75      0.60      0.67        10\n",
      "           3       0.59      0.53      0.56        19\n",
      "           4       0.82      0.98      0.89       181\n",
      "           5       0.33      0.17      0.22         6\n",
      "           6       0.72      0.76      0.74        17\n",
      "           7       0.00      0.00      0.00         4\n",
      "           8       0.00      0.00      0.00         3\n",
      "           9       0.33      0.25      0.29         8\n",
      "          10       0.50      0.60      0.55        10\n",
      "          11       1.00      0.20      0.33         5\n",
      "          12       0.69      0.96      0.80        25\n",
      "          13       0.00      0.00      0.00         5\n",
      "          14       0.50      0.10      0.17        10\n",
      "          15       0.70      0.64      0.67        11\n",
      "          16       0.65      0.67      0.66        30\n",
      "          17       0.76      0.94      0.84        17\n",
      "          18       0.67      0.40      0.50        10\n",
      "          19       1.00      0.17      0.29         6\n",
      "          20       0.00      0.00      0.00         2\n",
      "          21       0.00      0.00      0.00         4\n",
      "          22       0.61      0.69      0.65        16\n",
      "\n",
      "    accuracy                           0.73       422\n",
      "   macro avg       0.49      0.39      0.41       422\n",
      "weighted avg       0.69      0.73      0.69       422\n",
      "\n"
     ]
    },
    {
     "name": "stderr",
     "output_type": "stream",
     "text": [
      "/usr/local/lib/python3.9/dist-packages/sklearn/metrics/_classification.py:1344: UndefinedMetricWarning: Precision and F-score are ill-defined and being set to 0.0 in labels with no predicted samples. Use `zero_division` parameter to control this behavior.\n",
      "  _warn_prf(average, modifier, msg_start, len(result))\n",
      "/usr/local/lib/python3.9/dist-packages/sklearn/metrics/_classification.py:1344: UndefinedMetricWarning: Precision and F-score are ill-defined and being set to 0.0 in labels with no predicted samples. Use `zero_division` parameter to control this behavior.\n",
      "  _warn_prf(average, modifier, msg_start, len(result))\n",
      "/usr/local/lib/python3.9/dist-packages/sklearn/metrics/_classification.py:1344: UndefinedMetricWarning: Precision and F-score are ill-defined and being set to 0.0 in labels with no predicted samples. Use `zero_division` parameter to control this behavior.\n",
      "  _warn_prf(average, modifier, msg_start, len(result))\n"
     ]
    }
   ],
   "source": [
    "print(sklearn.metrics.classification_report(y_test,pred))"
   ]
  },
  {
   "cell_type": "code",
   "execution_count": null,
   "metadata": {
    "id": "Rq4hJrvpnUWn"
   },
   "outputs": [],
   "source": [
    "from sklearn.svm import LinearSVC\n",
    "learn = LinearSVC(max_iter=80000)\n",
    "learn.fit(X_train, y_train)"
   ]
  },
  {
   "cell_type": "code",
   "execution_count": null,
   "metadata": {},
   "outputs": [],
   "source": [
    "pred = learn.predict(X_test)\n",
    "sci_pred = [round(value) for value in pred]"
   ]
  },
  {
   "cell_type": "code",
   "execution_count": null,
   "metadata": {},
   "outputs": [],
   "source": [
    "learn.score (X_test, y_test)"
   ]
  },
  {
   "cell_type": "code",
   "execution_count": null,
   "metadata": {},
   "outputs": [],
   "source": [
    "print(sklearn.metrics.classification_report(y_test,pred))"
   ]
  },
  {
   "cell_type": "code",
   "execution_count": null,
   "metadata": {},
   "outputs": [],
   "source": [
    "from sklearn.ensemble import RandomForestClassifier\n",
    "from sklearn import tree\n",
    "from sklearn.linear_model import SGDClassifier"
   ]
  },
  {
   "cell_type": "code",
   "execution_count": null,
   "metadata": {},
   "outputs": [],
   "source": [
    "from sklearn.metrics import accuracy_score\n",
    "learn = RandomForestClassifier(n_estimators = 100) \n",
    "learn.fit(X_train, y_train)"
   ]
  },
  {
   "cell_type": "code",
   "execution_count": null,
   "metadata": {},
   "outputs": [],
   "source": [
    "pred = learn.predict(X_test)\n",
    "sci_pred = [round(value) for value in pred]"
   ]
  },
  {
   "cell_type": "code",
   "execution_count": null,
   "metadata": {},
   "outputs": [],
   "source": [
    "learn.score (X_test, y_test)"
   ]
  },
  {
   "cell_type": "code",
   "execution_count": null,
   "metadata": {},
   "outputs": [],
   "source": [
    "print(sklearn.metrics.classification_report(y_test,pred))"
   ]
  },
  {
   "cell_type": "code",
   "execution_count": null,
   "metadata": {},
   "outputs": [],
   "source": [
    "from sklearn.metrics import accuracy_score\n",
    "learn = SGDClassifier(loss=\"log\", penalty=\"l2\")\n",
    "learn.fit(X_train, y_train)"
   ]
  },
  {
   "cell_type": "code",
   "execution_count": null,
   "metadata": {},
   "outputs": [],
   "source": [
    "pred = learn.predict(X_test)\n",
    "sci_pred = [round(value) for value in pred]"
   ]
  },
  {
   "cell_type": "code",
   "execution_count": null,
   "metadata": {},
   "outputs": [],
   "source": [
    "learn.score (X_test, y_test)"
   ]
  },
  {
   "cell_type": "code",
   "execution_count": null,
   "metadata": {},
   "outputs": [],
   "source": [
    "print(sklearn.metrics.classification_report(y_test,pred))"
   ]
  },
  {
   "cell_type": "code",
   "execution_count": null,
   "metadata": {},
   "outputs": [],
   "source": [
    "from sklearn.metrics import accuracy_score\n",
    "learn = tree.DecisionTreeClassifier()\n",
    "learn.fit(X_train, y_train)"
   ]
  },
  {
   "cell_type": "code",
   "execution_count": null,
   "metadata": {},
   "outputs": [],
   "source": [
    "pred = learn.predict(X_test)\n",
    "sci_pred = [round(value) for value in pred]"
   ]
  },
  {
   "cell_type": "code",
   "execution_count": null,
   "metadata": {},
   "outputs": [],
   "source": [
    "learn.score (X_test, y_test)"
   ]
  },
  {
   "cell_type": "code",
   "execution_count": null,
   "metadata": {},
   "outputs": [],
   "source": [
    "print(sklearn.metrics.classification_report(y_test,pred))"
   ]
  },
  {
   "cell_type": "code",
   "execution_count": null,
   "metadata": {},
   "outputs": [],
   "source": [
    "from sklearn.naive_bayes import GaussianNB\n",
    "learn = GaussianNB()\n",
    "learn.fit(X_train, y_train)"
   ]
  },
  {
   "cell_type": "code",
   "execution_count": null,
   "metadata": {},
   "outputs": [],
   "source": [
    "pred = learn.predict(X_test)\n",
    "sci_pred = [round(value) for value in pred]"
   ]
  },
  {
   "cell_type": "code",
   "execution_count": null,
   "metadata": {},
   "outputs": [],
   "source": [
    "learn.score (X_test, y_test)"
   ]
  },
  {
   "cell_type": "code",
   "execution_count": null,
   "metadata": {},
   "outputs": [],
   "source": [
    "print(sklearn.metrics.classification_report(y_test,pred))"
   ]
  },
  {
   "cell_type": "code",
   "execution_count": null,
   "metadata": {},
   "outputs": [],
   "source": [
    "from sklearn.neighbors import KNeighborsClassifier\n",
    "learn = KNeighborsClassifier(n_neighbors = 5, metric = 'minkowski', p = 2)\n",
    "learn.fit(X_train, y_train)"
   ]
  },
  {
   "cell_type": "code",
   "execution_count": null,
   "metadata": {},
   "outputs": [],
   "source": [
    "pred = learn.predict(X_test)\n",
    "sci_pred = [round(value) for value in pred]"
   ]
  },
  {
   "cell_type": "code",
   "execution_count": null,
   "metadata": {},
   "outputs": [],
   "source": [
    "learn.score (X_test, y_test)"
   ]
  },
  {
   "cell_type": "code",
   "execution_count": null,
   "metadata": {},
   "outputs": [],
   "source": [
    "print(sklearn.metrics.classification_report(y_test,pred))"
   ]
  }
 ],
 "metadata": {
  "colab": {
   "provenance": []
  },
  "kernelspec": {
   "display_name": "Python 3 (ipykernel)",
   "language": "python",
   "name": "python3"
  },
  "language_info": {
   "codemirror_mode": {
    "name": "ipython",
    "version": 3
   },
   "file_extension": ".py",
   "mimetype": "text/x-python",
   "name": "python",
   "nbconvert_exporter": "python",
   "pygments_lexer": "ipython3",
   "version": "3.9.7"
  }
 },
 "nbformat": 4,
 "nbformat_minor": 1
}
