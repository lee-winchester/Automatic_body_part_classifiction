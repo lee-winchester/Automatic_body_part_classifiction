{
 "cells": [
  {
   "cell_type": "code",
   "execution_count": null,
   "metadata": {
    "colab": {
     "base_uri": "https://localhost:8080/"
    },
    "id": "twNPyqYrygVP",
    "outputId": "1a046ba3-4103-4567-9431-2317f4e38bfc"
   },
   "outputs": [
    {
     "name": "stdout",
     "output_type": "stream",
     "text": [
      "Looking in indexes: https://pypi.org/simple, https://us-python.pkg.dev/colab-wheels/public/simple/\n",
      "Collecting tensorflow-gpu\n",
      "  Downloading tensorflow-gpu-2.12.0.tar.gz (2.6 kB)\n",
      "  Preparing metadata (setup.py) ... \u001b[?25l\u001b[?25hdone\n",
      "Collecting python_version>\"3.7\"\n",
      "  Downloading python_version-0.0.2-py2.py3-none-any.whl (3.4 kB)\n",
      "Building wheels for collected packages: tensorflow-gpu\n",
      "  \u001b[1;31merror\u001b[0m: \u001b[1msubprocess-exited-with-error\u001b[0m\n",
      "  \n",
      "  \u001b[31m×\u001b[0m \u001b[32mpython setup.py bdist_wheel\u001b[0m did not run successfully.\n",
      "  \u001b[31m│\u001b[0m exit code: \u001b[1;36m1\u001b[0m\n",
      "  \u001b[31m╰─>\u001b[0m See above for output.\n",
      "  \n",
      "  \u001b[1;35mnote\u001b[0m: This error originates from a subprocess, and is likely not a problem with pip.\n",
      "  Building wheel for tensorflow-gpu (setup.py) ... \u001b[?25lerror\n",
      "\u001b[31m  ERROR: Failed building wheel for tensorflow-gpu\u001b[0m\u001b[31m\n",
      "\u001b[0m\u001b[?25h  Running setup.py clean for tensorflow-gpu\n",
      "Failed to build tensorflow-gpu\n",
      "Installing collected packages: python_version, tensorflow-gpu\n",
      "  \u001b[1;31merror\u001b[0m: \u001b[1msubprocess-exited-with-error\u001b[0m\n",
      "  \n",
      "  \u001b[31m×\u001b[0m \u001b[32mRunning setup.py install for tensorflow-gpu\u001b[0m did not run successfully.\n",
      "  \u001b[31m│\u001b[0m exit code: \u001b[1;36m1\u001b[0m\n",
      "  \u001b[31m╰─>\u001b[0m See above for output.\n",
      "  \n",
      "  \u001b[1;35mnote\u001b[0m: This error originates from a subprocess, and is likely not a problem with pip.\n",
      "  Running setup.py install for tensorflow-gpu ... \u001b[?25l\u001b[?25herror\n",
      "\u001b[1;31merror\u001b[0m: \u001b[1mlegacy-install-failure\u001b[0m\n",
      "\n",
      "\u001b[31m×\u001b[0m Encountered error while trying to install package.\n",
      "\u001b[31m╰─>\u001b[0m tensorflow-gpu\n",
      "\n",
      "\u001b[1;35mnote\u001b[0m: This is an issue with the package mentioned above, not pip.\n",
      "\u001b[1;36mhint\u001b[0m: See above for output from the failure.\n"
     ]
    }
   ],
   "source": [
    "!pip  install tensorflow-gpu"
   ]
  },
  {
   "cell_type": "code",
   "execution_count": 1,
   "metadata": {
    "colab": {
     "base_uri": "https://localhost:8080/"
    },
    "id": "7BC81-1jyj81",
    "outputId": "068ebf9b-941d-44a5-9014-db8aa56a7be7"
   },
   "outputs": [
    {
     "name": "stdout",
     "output_type": "stream",
     "text": [
      "[name: \"/device:CPU:0\"\n",
      "device_type: \"CPU\"\n",
      "memory_limit: 268435456\n",
      "locality {\n",
      "}\n",
      "incarnation: 8970131691834473150\n",
      "xla_global_id: -1\n",
      ", name: \"/device:GPU:0\"\n",
      "device_type: \"GPU\"\n",
      "memory_limit: 14378926080\n",
      "locality {\n",
      "  bus_id: 1\n",
      "  links {\n",
      "  }\n",
      "}\n",
      "incarnation: 12838812605169112689\n",
      "physical_device_desc: \"device: 0, name: Tesla T4, pci bus id: 0000:00:04.0, compute capability: 7.5\"\n",
      "xla_global_id: 416903419\n",
      "]\n"
     ]
    }
   ],
   "source": [
    "from tensorflow.keras.applications import * #Efficient Net included here\n",
    "from tensorflow.keras import models\n",
    "from tensorflow.keras import layers\n",
    "from keras.preprocessing.image import ImageDataGenerator\n",
    "import os\n",
    "import shutil\n",
    "import pandas as pd\n",
    "from sklearn import model_selection\n",
    "from tqdm import tqdm\n",
    "from tensorflow.keras import optimizers\n",
    "import tensorflow as tf\n",
    "#Use this to check if the GPU is configured correctly\n",
    "from tensorflow.python.client import device_lib\n",
    "print(device_lib.list_local_devices())"
   ]
  },
  {
   "cell_type": "code",
   "execution_count": 2,
   "metadata": {
    "colab": {
     "base_uri": "https://localhost:8080/"
    },
    "id": "JWK97z57zJuE",
    "outputId": "4d7c0af4-f8ae-406c-d76b-ccb5be0d9a6e"
   },
   "outputs": [
    {
     "name": "stdout",
     "output_type": "stream",
     "text": [
      "Downloading data from https://storage.googleapis.com/keras-applications/efficientnetb6_notop.h5\n",
      "165234480/165234480 [==============================] - 3s 0us/step\n"
     ]
    }
   ],
   "source": [
    "# Options: EfficientNetB0, EfficientNetB1, EfficientNetB2, EfficientNetB3, ... up to  7\n",
    "# Higher the number, the more complex the model is. and the larger resolutions it  can handle, but  the more GPU memory it will need\n",
    "# loading pretrained conv base model\n",
    "#input_shape is (height, width, number of channels) for images\n",
    "conv_base = EfficientNetB6(weights=\"imagenet\", include_top=False)"
   ]
  },
  {
   "cell_type": "code",
   "execution_count": 3,
   "metadata": {
    "id": "LePkZAILyv79"
   },
   "outputs": [],
   "source": [
    "model = models.Sequential()\n",
    "model.add(conv_base)\n",
    "model.add(layers.GlobalMaxPooling2D(name=\"gap\"))\n",
    "#avoid overfitting\n",
    "# model.add(layers.Dropout(dropout_rate=0.2, name=\"dropout_out\"))\n",
    "NUMBER_OF_CLASSES= 23\n",
    "model.add(layers.Dense(NUMBER_OF_CLASSES, activation=\"softmax\", name=\"fc_out\"))\n",
    "conv_base.trainable = False"
   ]
  },
  {
   "cell_type": "code",
   "execution_count": null,
   "metadata": {
    "id": "Hd5SZRNm2eBb"
   },
   "outputs": [],
   "source": [
    "# TRAIN_IMAGES_PATH='/content/drive/MyDrive/new_dataset/train'\n",
    "# VAL_IMAGES_PATH='/content/drive/MyDrive/new_dataset/val'\n",
    "\n",
    "# classes=['Chest', 'Others', 'Knee', 'Abdomen', 'Cervical Spine', 'Feet',\n",
    "#        'Pelvis', 'Wrist', 'Lumbar Spine and Thoracic Spine', 'Hand and Wrist',\n",
    "#        'Ankle', 'Shoulder', 'Lumbar Spine', 'Hand', 'Sinus', 'Elbow',\n",
    "#        'Lower Leg', 'Hip', 'Finger', 'Thoracic Spine', 'Forearm',\n",
    "#        'Abdomen and Chest', 'Skull']\n",
    "\n",
    "# os.makedirs(TRAIN_IMAGES_PATH, exist_ok = True)\n",
    "# os.makedirs(VAL_IMAGES_PATH, exist_ok = True)\n",
    "\n",
    "# # Create directories for each class.\n",
    "# for class_id in [x for x in range(len(classes))]:\n",
    "#     os.makedirs(os.path.join(TRAIN_IMAGES_PATH, str(class_id)), exist_ok = True)\n",
    "#     os.makedirs(os.path.join(VAL_IMAGES_PATH, str(class_id)), exist_ok = True)"
   ]
  },
  {
   "cell_type": "code",
   "execution_count": 4,
   "metadata": {
    "id": "Sf6-KKEcNMd_"
   },
   "outputs": [],
   "source": [
    "classes=['Chest', 'Others', 'Knee', 'Abdomen', 'Cervical Spine', 'Feet',\n",
    "       'Pelvis', 'Wrist', 'Lumbar Spine and Thoracic Spine', 'Hand and Wrist',\n",
    "       'Ankle', 'Shoulder', 'Lumbar Spine', 'Hand', 'Sinus', 'Elbow',\n",
    "       'Lower Leg', 'Hip', 'Finger', 'Thoracic Spine', 'Forearm',\n",
    "       'Abdomen and Chest', 'Skull']"
   ]
  },
  {
   "cell_type": "code",
   "execution_count": 5,
   "metadata": {
    "id": "v8Iljj7t3gsP"
   },
   "outputs": [],
   "source": [
    "merged=pd.read_csv('/content/drive/MyDrive/new_dataset/merged.csv')"
   ]
  },
  {
   "cell_type": "code",
   "execution_count": 6,
   "metadata": {
    "colab": {
     "base_uri": "https://localhost:8080/",
     "height": 317
    },
    "id": "MmSLsmph3wGQ",
    "outputId": "bc48fbb6-1ee0-4e7b-9283-92cf8c78cbfa"
   },
   "outputs": [
    {
     "data": {
      "text/html": [
       "\n",
       "  <div id=\"df-e036aa93-a175-4edb-99c9-eb29772ecf8e\">\n",
       "    <div class=\"colab-df-container\">\n",
       "      <div>\n",
       "<style scoped>\n",
       "    .dataframe tbody tr th:only-of-type {\n",
       "        vertical-align: middle;\n",
       "    }\n",
       "\n",
       "    .dataframe tbody tr th {\n",
       "        vertical-align: top;\n",
       "    }\n",
       "\n",
       "    .dataframe thead th {\n",
       "        text-align: right;\n",
       "    }\n",
       "</style>\n",
       "<table border=\"1\" class=\"dataframe\">\n",
       "  <thead>\n",
       "    <tr style=\"text-align: right;\">\n",
       "      <th></th>\n",
       "      <th>Unnamed: 0.2</th>\n",
       "      <th>Unnamed: 0</th>\n",
       "      <th>Unnamed: 0.1</th>\n",
       "      <th>Filename</th>\n",
       "      <th>PhotometricInterpretation_x</th>\n",
       "      <th>BitsAllocated_x</th>\n",
       "      <th>SOPInstanceUID</th>\n",
       "      <th>Target_x</th>\n",
       "      <th>Label</th>\n",
       "      <th>Imagepath</th>\n",
       "      <th>...</th>\n",
       "      <th>WindowWidth</th>\n",
       "      <th>ImageType2</th>\n",
       "      <th>KVP</th>\n",
       "      <th>DistanceSourceToDetector</th>\n",
       "      <th>DistanceSourceToPatient</th>\n",
       "      <th>ExposureTime</th>\n",
       "      <th>XRayTubeCurrent</th>\n",
       "      <th>AcquisitionNumber</th>\n",
       "      <th>ImageType3</th>\n",
       "      <th>image_path</th>\n",
       "    </tr>\n",
       "  </thead>\n",
       "  <tbody>\n",
       "    <tr>\n",
       "      <th>0</th>\n",
       "      <td>0</td>\n",
       "      <td>0</td>\n",
       "      <td>0</td>\n",
       "      <td>E:/dataset/train\\train\\1\\1.2.826.0.1.3680043.8...</td>\n",
       "      <td>MONOCHROME1</td>\n",
       "      <td>16</td>\n",
       "      <td>1.2.826.0.1.3680043.8.498.65452424240994805812...</td>\n",
       "      <td>3</td>\n",
       "      <td>Chest</td>\n",
       "      <td>E:/dataset/trainimages\\1.2.826.0.1.3680043.8.4...</td>\n",
       "      <td>...</td>\n",
       "      <td>NaN</td>\n",
       "      <td>NaN</td>\n",
       "      <td>NaN</td>\n",
       "      <td>NaN</td>\n",
       "      <td>NaN</td>\n",
       "      <td>NaN</td>\n",
       "      <td>NaN</td>\n",
       "      <td>NaN</td>\n",
       "      <td>NaN</td>\n",
       "      <td>./images/train/1.2.826.0.1.3680043.8.498.65452...</td>\n",
       "    </tr>\n",
       "    <tr>\n",
       "      <th>1</th>\n",
       "      <td>1</td>\n",
       "      <td>1</td>\n",
       "      <td>1</td>\n",
       "      <td>E:/dataset/train\\train\\10\\1.2.826.0.1.3680043....</td>\n",
       "      <td>MONOCHROME1</td>\n",
       "      <td>16</td>\n",
       "      <td>1.2.826.0.1.3680043.8.498.29960944389705651248...</td>\n",
       "      <td>3</td>\n",
       "      <td>Chest</td>\n",
       "      <td>E:/dataset/trainimages\\1.2.826.0.1.3680043.8.4...</td>\n",
       "      <td>...</td>\n",
       "      <td>NaN</td>\n",
       "      <td>NaN</td>\n",
       "      <td>NaN</td>\n",
       "      <td>NaN</td>\n",
       "      <td>NaN</td>\n",
       "      <td>NaN</td>\n",
       "      <td>NaN</td>\n",
       "      <td>NaN</td>\n",
       "      <td>NaN</td>\n",
       "      <td>./images/train/1.2.826.0.1.3680043.8.498.29960...</td>\n",
       "    </tr>\n",
       "    <tr>\n",
       "      <th>2</th>\n",
       "      <td>2</td>\n",
       "      <td>2</td>\n",
       "      <td>2</td>\n",
       "      <td>E:/dataset/train\\train\\1002\\1.2.826.0.1.368004...</td>\n",
       "      <td>MONOCHROME1</td>\n",
       "      <td>16</td>\n",
       "      <td>1.2.826.0.1.3680043.8.498.37634180084111795685...</td>\n",
       "      <td>3</td>\n",
       "      <td>Chest</td>\n",
       "      <td>E:/dataset/trainimages\\1.2.826.0.1.3680043.8.4...</td>\n",
       "      <td>...</td>\n",
       "      <td>NaN</td>\n",
       "      <td>NaN</td>\n",
       "      <td>NaN</td>\n",
       "      <td>NaN</td>\n",
       "      <td>NaN</td>\n",
       "      <td>NaN</td>\n",
       "      <td>NaN</td>\n",
       "      <td>NaN</td>\n",
       "      <td>NaN</td>\n",
       "      <td>./images/train/1.2.826.0.1.3680043.8.498.37634...</td>\n",
       "    </tr>\n",
       "    <tr>\n",
       "      <th>3</th>\n",
       "      <td>3</td>\n",
       "      <td>3</td>\n",
       "      <td>3</td>\n",
       "      <td>E:/dataset/train\\train\\1002\\1.2.826.0.1.368004...</td>\n",
       "      <td>MONOCHROME1</td>\n",
       "      <td>16</td>\n",
       "      <td>1.2.826.0.1.3680043.8.498.12781870272366327239...</td>\n",
       "      <td>3</td>\n",
       "      <td>Chest</td>\n",
       "      <td>E:/dataset/trainimages\\1.2.826.0.1.3680043.8.4...</td>\n",
       "      <td>...</td>\n",
       "      <td>NaN</td>\n",
       "      <td>NaN</td>\n",
       "      <td>NaN</td>\n",
       "      <td>NaN</td>\n",
       "      <td>NaN</td>\n",
       "      <td>NaN</td>\n",
       "      <td>NaN</td>\n",
       "      <td>NaN</td>\n",
       "      <td>NaN</td>\n",
       "      <td>./images/train/1.2.826.0.1.3680043.8.498.12781...</td>\n",
       "    </tr>\n",
       "    <tr>\n",
       "      <th>4</th>\n",
       "      <td>4</td>\n",
       "      <td>4</td>\n",
       "      <td>4</td>\n",
       "      <td>E:/dataset/train\\train\\1004\\1.2.826.0.1.368004...</td>\n",
       "      <td>MONOCHROME1</td>\n",
       "      <td>16</td>\n",
       "      <td>1.2.826.0.1.3680043.8.498.47572155867413808436...</td>\n",
       "      <td>3</td>\n",
       "      <td>Chest</td>\n",
       "      <td>E:/dataset/trainimages\\1.2.826.0.1.3680043.8.4...</td>\n",
       "      <td>...</td>\n",
       "      <td>NaN</td>\n",
       "      <td>NaN</td>\n",
       "      <td>NaN</td>\n",
       "      <td>NaN</td>\n",
       "      <td>NaN</td>\n",
       "      <td>NaN</td>\n",
       "      <td>NaN</td>\n",
       "      <td>NaN</td>\n",
       "      <td>NaN</td>\n",
       "      <td>./images/train/1.2.826.0.1.3680043.8.498.47572...</td>\n",
       "    </tr>\n",
       "  </tbody>\n",
       "</table>\n",
       "<p>5 rows × 78 columns</p>\n",
       "</div>\n",
       "      <button class=\"colab-df-convert\" onclick=\"convertToInteractive('df-e036aa93-a175-4edb-99c9-eb29772ecf8e')\"\n",
       "              title=\"Convert this dataframe to an interactive table.\"\n",
       "              style=\"display:none;\">\n",
       "        \n",
       "  <svg xmlns=\"http://www.w3.org/2000/svg\" height=\"24px\"viewBox=\"0 0 24 24\"\n",
       "       width=\"24px\">\n",
       "    <path d=\"M0 0h24v24H0V0z\" fill=\"none\"/>\n",
       "    <path d=\"M18.56 5.44l.94 2.06.94-2.06 2.06-.94-2.06-.94-.94-2.06-.94 2.06-2.06.94zm-11 1L8.5 8.5l.94-2.06 2.06-.94-2.06-.94L8.5 2.5l-.94 2.06-2.06.94zm10 10l.94 2.06.94-2.06 2.06-.94-2.06-.94-.94-2.06-.94 2.06-2.06.94z\"/><path d=\"M17.41 7.96l-1.37-1.37c-.4-.4-.92-.59-1.43-.59-.52 0-1.04.2-1.43.59L10.3 9.45l-7.72 7.72c-.78.78-.78 2.05 0 2.83L4 21.41c.39.39.9.59 1.41.59.51 0 1.02-.2 1.41-.59l7.78-7.78 2.81-2.81c.8-.78.8-2.07 0-2.86zM5.41 20L4 18.59l7.72-7.72 1.47 1.35L5.41 20z\"/>\n",
       "  </svg>\n",
       "      </button>\n",
       "      \n",
       "  <style>\n",
       "    .colab-df-container {\n",
       "      display:flex;\n",
       "      flex-wrap:wrap;\n",
       "      gap: 12px;\n",
       "    }\n",
       "\n",
       "    .colab-df-convert {\n",
       "      background-color: #E8F0FE;\n",
       "      border: none;\n",
       "      border-radius: 50%;\n",
       "      cursor: pointer;\n",
       "      display: none;\n",
       "      fill: #1967D2;\n",
       "      height: 32px;\n",
       "      padding: 0 0 0 0;\n",
       "      width: 32px;\n",
       "    }\n",
       "\n",
       "    .colab-df-convert:hover {\n",
       "      background-color: #E2EBFA;\n",
       "      box-shadow: 0px 1px 2px rgba(60, 64, 67, 0.3), 0px 1px 3px 1px rgba(60, 64, 67, 0.15);\n",
       "      fill: #174EA6;\n",
       "    }\n",
       "\n",
       "    [theme=dark] .colab-df-convert {\n",
       "      background-color: #3B4455;\n",
       "      fill: #D2E3FC;\n",
       "    }\n",
       "\n",
       "    [theme=dark] .colab-df-convert:hover {\n",
       "      background-color: #434B5C;\n",
       "      box-shadow: 0px 1px 3px 1px rgba(0, 0, 0, 0.15);\n",
       "      filter: drop-shadow(0px 1px 2px rgba(0, 0, 0, 0.3));\n",
       "      fill: #FFFFFF;\n",
       "    }\n",
       "  </style>\n",
       "\n",
       "      <script>\n",
       "        const buttonEl =\n",
       "          document.querySelector('#df-e036aa93-a175-4edb-99c9-eb29772ecf8e button.colab-df-convert');\n",
       "        buttonEl.style.display =\n",
       "          google.colab.kernel.accessAllowed ? 'block' : 'none';\n",
       "\n",
       "        async function convertToInteractive(key) {\n",
       "          const element = document.querySelector('#df-e036aa93-a175-4edb-99c9-eb29772ecf8e');\n",
       "          const dataTable =\n",
       "            await google.colab.kernel.invokeFunction('convertToInteractive',\n",
       "                                                     [key], {});\n",
       "          if (!dataTable) return;\n",
       "\n",
       "          const docLinkHtml = 'Like what you see? Visit the ' +\n",
       "            '<a target=\"_blank\" href=https://colab.research.google.com/notebooks/data_table.ipynb>data table notebook</a>'\n",
       "            + ' to learn more about interactive tables.';\n",
       "          element.innerHTML = '';\n",
       "          dataTable['output_type'] = 'display_data';\n",
       "          await google.colab.output.renderOutput(dataTable, element);\n",
       "          const docLink = document.createElement('div');\n",
       "          docLink.innerHTML = docLinkHtml;\n",
       "          element.appendChild(docLink);\n",
       "        }\n",
       "      </script>\n",
       "    </div>\n",
       "  </div>\n",
       "  "
      ],
      "text/plain": [
       "   Unnamed: 0.2  Unnamed: 0  Unnamed: 0.1  \\\n",
       "0             0           0             0   \n",
       "1             1           1             1   \n",
       "2             2           2             2   \n",
       "3             3           3             3   \n",
       "4             4           4             4   \n",
       "\n",
       "                                            Filename  \\\n",
       "0  E:/dataset/train\\train\\1\\1.2.826.0.1.3680043.8...   \n",
       "1  E:/dataset/train\\train\\10\\1.2.826.0.1.3680043....   \n",
       "2  E:/dataset/train\\train\\1002\\1.2.826.0.1.368004...   \n",
       "3  E:/dataset/train\\train\\1002\\1.2.826.0.1.368004...   \n",
       "4  E:/dataset/train\\train\\1004\\1.2.826.0.1.368004...   \n",
       "\n",
       "  PhotometricInterpretation_x  BitsAllocated_x  \\\n",
       "0                 MONOCHROME1               16   \n",
       "1                 MONOCHROME1               16   \n",
       "2                 MONOCHROME1               16   \n",
       "3                 MONOCHROME1               16   \n",
       "4                 MONOCHROME1               16   \n",
       "\n",
       "                                      SOPInstanceUID Target_x  Label  \\\n",
       "0  1.2.826.0.1.3680043.8.498.65452424240994805812...        3  Chest   \n",
       "1  1.2.826.0.1.3680043.8.498.29960944389705651248...        3  Chest   \n",
       "2  1.2.826.0.1.3680043.8.498.37634180084111795685...        3  Chest   \n",
       "3  1.2.826.0.1.3680043.8.498.12781870272366327239...        3  Chest   \n",
       "4  1.2.826.0.1.3680043.8.498.47572155867413808436...        3  Chest   \n",
       "\n",
       "                                           Imagepath  ... WindowWidth  \\\n",
       "0  E:/dataset/trainimages\\1.2.826.0.1.3680043.8.4...  ...         NaN   \n",
       "1  E:/dataset/trainimages\\1.2.826.0.1.3680043.8.4...  ...         NaN   \n",
       "2  E:/dataset/trainimages\\1.2.826.0.1.3680043.8.4...  ...         NaN   \n",
       "3  E:/dataset/trainimages\\1.2.826.0.1.3680043.8.4...  ...         NaN   \n",
       "4  E:/dataset/trainimages\\1.2.826.0.1.3680043.8.4...  ...         NaN   \n",
       "\n",
       "  ImageType2 KVP DistanceSourceToDetector DistanceSourceToPatient  \\\n",
       "0        NaN NaN                      NaN                     NaN   \n",
       "1        NaN NaN                      NaN                     NaN   \n",
       "2        NaN NaN                      NaN                     NaN   \n",
       "3        NaN NaN                      NaN                     NaN   \n",
       "4        NaN NaN                      NaN                     NaN   \n",
       "\n",
       "   ExposureTime XRayTubeCurrent AcquisitionNumber  ImageType3  \\\n",
       "0           NaN             NaN               NaN         NaN   \n",
       "1           NaN             NaN               NaN         NaN   \n",
       "2           NaN             NaN               NaN         NaN   \n",
       "3           NaN             NaN               NaN         NaN   \n",
       "4           NaN             NaN               NaN         NaN   \n",
       "\n",
       "                                          image_path  \n",
       "0  ./images/train/1.2.826.0.1.3680043.8.498.65452...  \n",
       "1  ./images/train/1.2.826.0.1.3680043.8.498.29960...  \n",
       "2  ./images/train/1.2.826.0.1.3680043.8.498.37634...  \n",
       "3  ./images/train/1.2.826.0.1.3680043.8.498.12781...  \n",
       "4  ./images/train/1.2.826.0.1.3680043.8.498.47572...  \n",
       "\n",
       "[5 rows x 78 columns]"
      ]
     },
     "execution_count": 6,
     "metadata": {},
     "output_type": "execute_result"
    }
   ],
   "source": [
    "merged.head()"
   ]
  },
  {
   "cell_type": "code",
   "execution_count": 7,
   "metadata": {
    "id": "HBYeMd-r3_MW"
   },
   "outputs": [],
   "source": [
    "from sklearn import preprocessing\n"
   ]
  },
  {
   "cell_type": "code",
   "execution_count": 8,
   "metadata": {
    "id": "viDjfZKH4t9E"
   },
   "outputs": [],
   "source": [
    "le = preprocessing.LabelEncoder()"
   ]
  },
  {
   "cell_type": "code",
   "execution_count": 9,
   "metadata": {
    "colab": {
     "base_uri": "https://localhost:8080/",
     "height": 74
    },
    "id": "KVQuARUg4Bc6",
    "outputId": "6b033dbc-d590-4228-9692-bce07a74c969"
   },
   "outputs": [
    {
     "data": {
      "text/html": [
       "<style>#sk-container-id-1 {color: black;background-color: white;}#sk-container-id-1 pre{padding: 0;}#sk-container-id-1 div.sk-toggleable {background-color: white;}#sk-container-id-1 label.sk-toggleable__label {cursor: pointer;display: block;width: 100%;margin-bottom: 0;padding: 0.3em;box-sizing: border-box;text-align: center;}#sk-container-id-1 label.sk-toggleable__label-arrow:before {content: \"▸\";float: left;margin-right: 0.25em;color: #696969;}#sk-container-id-1 label.sk-toggleable__label-arrow:hover:before {color: black;}#sk-container-id-1 div.sk-estimator:hover label.sk-toggleable__label-arrow:before {color: black;}#sk-container-id-1 div.sk-toggleable__content {max-height: 0;max-width: 0;overflow: hidden;text-align: left;background-color: #f0f8ff;}#sk-container-id-1 div.sk-toggleable__content pre {margin: 0.2em;color: black;border-radius: 0.25em;background-color: #f0f8ff;}#sk-container-id-1 input.sk-toggleable__control:checked~div.sk-toggleable__content {max-height: 200px;max-width: 100%;overflow: auto;}#sk-container-id-1 input.sk-toggleable__control:checked~label.sk-toggleable__label-arrow:before {content: \"▾\";}#sk-container-id-1 div.sk-estimator input.sk-toggleable__control:checked~label.sk-toggleable__label {background-color: #d4ebff;}#sk-container-id-1 div.sk-label input.sk-toggleable__control:checked~label.sk-toggleable__label {background-color: #d4ebff;}#sk-container-id-1 input.sk-hidden--visually {border: 0;clip: rect(1px 1px 1px 1px);clip: rect(1px, 1px, 1px, 1px);height: 1px;margin: -1px;overflow: hidden;padding: 0;position: absolute;width: 1px;}#sk-container-id-1 div.sk-estimator {font-family: monospace;background-color: #f0f8ff;border: 1px dotted black;border-radius: 0.25em;box-sizing: border-box;margin-bottom: 0.5em;}#sk-container-id-1 div.sk-estimator:hover {background-color: #d4ebff;}#sk-container-id-1 div.sk-parallel-item::after {content: \"\";width: 100%;border-bottom: 1px solid gray;flex-grow: 1;}#sk-container-id-1 div.sk-label:hover label.sk-toggleable__label {background-color: #d4ebff;}#sk-container-id-1 div.sk-serial::before {content: \"\";position: absolute;border-left: 1px solid gray;box-sizing: border-box;top: 0;bottom: 0;left: 50%;z-index: 0;}#sk-container-id-1 div.sk-serial {display: flex;flex-direction: column;align-items: center;background-color: white;padding-right: 0.2em;padding-left: 0.2em;position: relative;}#sk-container-id-1 div.sk-item {position: relative;z-index: 1;}#sk-container-id-1 div.sk-parallel {display: flex;align-items: stretch;justify-content: center;background-color: white;position: relative;}#sk-container-id-1 div.sk-item::before, #sk-container-id-1 div.sk-parallel-item::before {content: \"\";position: absolute;border-left: 1px solid gray;box-sizing: border-box;top: 0;bottom: 0;left: 50%;z-index: -1;}#sk-container-id-1 div.sk-parallel-item {display: flex;flex-direction: column;z-index: 1;position: relative;background-color: white;}#sk-container-id-1 div.sk-parallel-item:first-child::after {align-self: flex-end;width: 50%;}#sk-container-id-1 div.sk-parallel-item:last-child::after {align-self: flex-start;width: 50%;}#sk-container-id-1 div.sk-parallel-item:only-child::after {width: 0;}#sk-container-id-1 div.sk-dashed-wrapped {border: 1px dashed gray;margin: 0 0.4em 0.5em 0.4em;box-sizing: border-box;padding-bottom: 0.4em;background-color: white;}#sk-container-id-1 div.sk-label label {font-family: monospace;font-weight: bold;display: inline-block;line-height: 1.2em;}#sk-container-id-1 div.sk-label-container {text-align: center;}#sk-container-id-1 div.sk-container {/* jupyter's `normalize.less` sets `[hidden] { display: none; }` but bootstrap.min.css set `[hidden] { display: none !important; }` so we also need the `!important` here to be able to override the default hidden behavior on the sphinx rendered scikit-learn.org. See: https://github.com/scikit-learn/scikit-learn/issues/21755 */display: inline-block !important;position: relative;}#sk-container-id-1 div.sk-text-repr-fallback {display: none;}</style><div id=\"sk-container-id-1\" class=\"sk-top-container\"><div class=\"sk-text-repr-fallback\"><pre>LabelEncoder()</pre><b>In a Jupyter environment, please rerun this cell to show the HTML representation or trust the notebook. <br />On GitHub, the HTML representation is unable to render, please try loading this page with nbviewer.org.</b></div><div class=\"sk-container\" hidden><div class=\"sk-item\"><div class=\"sk-estimator sk-toggleable\"><input class=\"sk-toggleable__control sk-hidden--visually\" id=\"sk-estimator-id-1\" type=\"checkbox\" checked><label for=\"sk-estimator-id-1\" class=\"sk-toggleable__label sk-toggleable__label-arrow\">LabelEncoder</label><div class=\"sk-toggleable__content\"><pre>LabelEncoder()</pre></div></div></div></div></div>"
      ],
      "text/plain": [
       "LabelEncoder()"
      ]
     },
     "execution_count": 9,
     "metadata": {},
     "output_type": "execute_result"
    }
   ],
   "source": [
    "le.fit(classes)"
   ]
  },
  {
   "cell_type": "code",
   "execution_count": 10,
   "metadata": {
    "colab": {
     "base_uri": "https://localhost:8080/"
    },
    "id": "4Rjh9Zvw4qna",
    "outputId": "1da88ca3-8811-4516-babb-9ea92ed9eabc"
   },
   "outputs": [
    {
     "data": {
      "text/plain": [
       "['Abdomen',\n",
       " 'Abdomen and Chest',\n",
       " 'Ankle',\n",
       " 'Cervical Spine',\n",
       " 'Chest',\n",
       " 'Elbow',\n",
       " 'Feet',\n",
       " 'Finger',\n",
       " 'Forearm',\n",
       " 'Hand',\n",
       " 'Hand and Wrist',\n",
       " 'Hip',\n",
       " 'Knee',\n",
       " 'Lower Leg',\n",
       " 'Lumbar Spine',\n",
       " 'Lumbar Spine and Thoracic Spine',\n",
       " 'Others',\n",
       " 'Pelvis',\n",
       " 'Shoulder',\n",
       " 'Sinus',\n",
       " 'Skull',\n",
       " 'Thoracic Spine',\n",
       " 'Wrist']"
      ]
     },
     "execution_count": 10,
     "metadata": {},
     "output_type": "execute_result"
    }
   ],
   "source": [
    "list(le.classes_)"
   ]
  },
  {
   "cell_type": "code",
   "execution_count": 11,
   "metadata": {
    "id": "1Ap5vgEG4zaO"
   },
   "outputs": [],
   "source": [
    "encoded_array=le.transform(merged['Label'])"
   ]
  },
  {
   "cell_type": "code",
   "execution_count": 12,
   "metadata": {
    "id": "kZ4JVGYf48CZ"
   },
   "outputs": [],
   "source": [
    "merged['encoded']=encoded_array"
   ]
  },
  {
   "cell_type": "code",
   "execution_count": 13,
   "metadata": {
    "colab": {
     "base_uri": "https://localhost:8080/",
     "height": 317
    },
    "id": "QJMgXR-A4_-J",
    "outputId": "0146b63c-3af9-42c2-9549-ad180f9a6fde"
   },
   "outputs": [
    {
     "data": {
      "text/html": [
       "\n",
       "  <div id=\"df-4dafdd55-c135-4949-82c4-9e48a8d073e4\">\n",
       "    <div class=\"colab-df-container\">\n",
       "      <div>\n",
       "<style scoped>\n",
       "    .dataframe tbody tr th:only-of-type {\n",
       "        vertical-align: middle;\n",
       "    }\n",
       "\n",
       "    .dataframe tbody tr th {\n",
       "        vertical-align: top;\n",
       "    }\n",
       "\n",
       "    .dataframe thead th {\n",
       "        text-align: right;\n",
       "    }\n",
       "</style>\n",
       "<table border=\"1\" class=\"dataframe\">\n",
       "  <thead>\n",
       "    <tr style=\"text-align: right;\">\n",
       "      <th></th>\n",
       "      <th>Unnamed: 0.2</th>\n",
       "      <th>Unnamed: 0</th>\n",
       "      <th>Unnamed: 0.1</th>\n",
       "      <th>Filename</th>\n",
       "      <th>PhotometricInterpretation_x</th>\n",
       "      <th>BitsAllocated_x</th>\n",
       "      <th>SOPInstanceUID</th>\n",
       "      <th>Target_x</th>\n",
       "      <th>Label</th>\n",
       "      <th>Imagepath</th>\n",
       "      <th>...</th>\n",
       "      <th>ImageType2</th>\n",
       "      <th>KVP</th>\n",
       "      <th>DistanceSourceToDetector</th>\n",
       "      <th>DistanceSourceToPatient</th>\n",
       "      <th>ExposureTime</th>\n",
       "      <th>XRayTubeCurrent</th>\n",
       "      <th>AcquisitionNumber</th>\n",
       "      <th>ImageType3</th>\n",
       "      <th>image_path</th>\n",
       "      <th>encoded</th>\n",
       "    </tr>\n",
       "  </thead>\n",
       "  <tbody>\n",
       "    <tr>\n",
       "      <th>0</th>\n",
       "      <td>0</td>\n",
       "      <td>0</td>\n",
       "      <td>0</td>\n",
       "      <td>E:/dataset/train\\train\\1\\1.2.826.0.1.3680043.8...</td>\n",
       "      <td>MONOCHROME1</td>\n",
       "      <td>16</td>\n",
       "      <td>1.2.826.0.1.3680043.8.498.65452424240994805812...</td>\n",
       "      <td>3</td>\n",
       "      <td>Chest</td>\n",
       "      <td>E:/dataset/trainimages\\1.2.826.0.1.3680043.8.4...</td>\n",
       "      <td>...</td>\n",
       "      <td>NaN</td>\n",
       "      <td>NaN</td>\n",
       "      <td>NaN</td>\n",
       "      <td>NaN</td>\n",
       "      <td>NaN</td>\n",
       "      <td>NaN</td>\n",
       "      <td>NaN</td>\n",
       "      <td>NaN</td>\n",
       "      <td>./images/train/1.2.826.0.1.3680043.8.498.65452...</td>\n",
       "      <td>4</td>\n",
       "    </tr>\n",
       "    <tr>\n",
       "      <th>1</th>\n",
       "      <td>1</td>\n",
       "      <td>1</td>\n",
       "      <td>1</td>\n",
       "      <td>E:/dataset/train\\train\\10\\1.2.826.0.1.3680043....</td>\n",
       "      <td>MONOCHROME1</td>\n",
       "      <td>16</td>\n",
       "      <td>1.2.826.0.1.3680043.8.498.29960944389705651248...</td>\n",
       "      <td>3</td>\n",
       "      <td>Chest</td>\n",
       "      <td>E:/dataset/trainimages\\1.2.826.0.1.3680043.8.4...</td>\n",
       "      <td>...</td>\n",
       "      <td>NaN</td>\n",
       "      <td>NaN</td>\n",
       "      <td>NaN</td>\n",
       "      <td>NaN</td>\n",
       "      <td>NaN</td>\n",
       "      <td>NaN</td>\n",
       "      <td>NaN</td>\n",
       "      <td>NaN</td>\n",
       "      <td>./images/train/1.2.826.0.1.3680043.8.498.29960...</td>\n",
       "      <td>4</td>\n",
       "    </tr>\n",
       "    <tr>\n",
       "      <th>2</th>\n",
       "      <td>2</td>\n",
       "      <td>2</td>\n",
       "      <td>2</td>\n",
       "      <td>E:/dataset/train\\train\\1002\\1.2.826.0.1.368004...</td>\n",
       "      <td>MONOCHROME1</td>\n",
       "      <td>16</td>\n",
       "      <td>1.2.826.0.1.3680043.8.498.37634180084111795685...</td>\n",
       "      <td>3</td>\n",
       "      <td>Chest</td>\n",
       "      <td>E:/dataset/trainimages\\1.2.826.0.1.3680043.8.4...</td>\n",
       "      <td>...</td>\n",
       "      <td>NaN</td>\n",
       "      <td>NaN</td>\n",
       "      <td>NaN</td>\n",
       "      <td>NaN</td>\n",
       "      <td>NaN</td>\n",
       "      <td>NaN</td>\n",
       "      <td>NaN</td>\n",
       "      <td>NaN</td>\n",
       "      <td>./images/train/1.2.826.0.1.3680043.8.498.37634...</td>\n",
       "      <td>4</td>\n",
       "    </tr>\n",
       "    <tr>\n",
       "      <th>3</th>\n",
       "      <td>3</td>\n",
       "      <td>3</td>\n",
       "      <td>3</td>\n",
       "      <td>E:/dataset/train\\train\\1002\\1.2.826.0.1.368004...</td>\n",
       "      <td>MONOCHROME1</td>\n",
       "      <td>16</td>\n",
       "      <td>1.2.826.0.1.3680043.8.498.12781870272366327239...</td>\n",
       "      <td>3</td>\n",
       "      <td>Chest</td>\n",
       "      <td>E:/dataset/trainimages\\1.2.826.0.1.3680043.8.4...</td>\n",
       "      <td>...</td>\n",
       "      <td>NaN</td>\n",
       "      <td>NaN</td>\n",
       "      <td>NaN</td>\n",
       "      <td>NaN</td>\n",
       "      <td>NaN</td>\n",
       "      <td>NaN</td>\n",
       "      <td>NaN</td>\n",
       "      <td>NaN</td>\n",
       "      <td>./images/train/1.2.826.0.1.3680043.8.498.12781...</td>\n",
       "      <td>4</td>\n",
       "    </tr>\n",
       "    <tr>\n",
       "      <th>4</th>\n",
       "      <td>4</td>\n",
       "      <td>4</td>\n",
       "      <td>4</td>\n",
       "      <td>E:/dataset/train\\train\\1004\\1.2.826.0.1.368004...</td>\n",
       "      <td>MONOCHROME1</td>\n",
       "      <td>16</td>\n",
       "      <td>1.2.826.0.1.3680043.8.498.47572155867413808436...</td>\n",
       "      <td>3</td>\n",
       "      <td>Chest</td>\n",
       "      <td>E:/dataset/trainimages\\1.2.826.0.1.3680043.8.4...</td>\n",
       "      <td>...</td>\n",
       "      <td>NaN</td>\n",
       "      <td>NaN</td>\n",
       "      <td>NaN</td>\n",
       "      <td>NaN</td>\n",
       "      <td>NaN</td>\n",
       "      <td>NaN</td>\n",
       "      <td>NaN</td>\n",
       "      <td>NaN</td>\n",
       "      <td>./images/train/1.2.826.0.1.3680043.8.498.47572...</td>\n",
       "      <td>4</td>\n",
       "    </tr>\n",
       "  </tbody>\n",
       "</table>\n",
       "<p>5 rows × 79 columns</p>\n",
       "</div>\n",
       "      <button class=\"colab-df-convert\" onclick=\"convertToInteractive('df-4dafdd55-c135-4949-82c4-9e48a8d073e4')\"\n",
       "              title=\"Convert this dataframe to an interactive table.\"\n",
       "              style=\"display:none;\">\n",
       "        \n",
       "  <svg xmlns=\"http://www.w3.org/2000/svg\" height=\"24px\"viewBox=\"0 0 24 24\"\n",
       "       width=\"24px\">\n",
       "    <path d=\"M0 0h24v24H0V0z\" fill=\"none\"/>\n",
       "    <path d=\"M18.56 5.44l.94 2.06.94-2.06 2.06-.94-2.06-.94-.94-2.06-.94 2.06-2.06.94zm-11 1L8.5 8.5l.94-2.06 2.06-.94-2.06-.94L8.5 2.5l-.94 2.06-2.06.94zm10 10l.94 2.06.94-2.06 2.06-.94-2.06-.94-.94-2.06-.94 2.06-2.06.94z\"/><path d=\"M17.41 7.96l-1.37-1.37c-.4-.4-.92-.59-1.43-.59-.52 0-1.04.2-1.43.59L10.3 9.45l-7.72 7.72c-.78.78-.78 2.05 0 2.83L4 21.41c.39.39.9.59 1.41.59.51 0 1.02-.2 1.41-.59l7.78-7.78 2.81-2.81c.8-.78.8-2.07 0-2.86zM5.41 20L4 18.59l7.72-7.72 1.47 1.35L5.41 20z\"/>\n",
       "  </svg>\n",
       "      </button>\n",
       "      \n",
       "  <style>\n",
       "    .colab-df-container {\n",
       "      display:flex;\n",
       "      flex-wrap:wrap;\n",
       "      gap: 12px;\n",
       "    }\n",
       "\n",
       "    .colab-df-convert {\n",
       "      background-color: #E8F0FE;\n",
       "      border: none;\n",
       "      border-radius: 50%;\n",
       "      cursor: pointer;\n",
       "      display: none;\n",
       "      fill: #1967D2;\n",
       "      height: 32px;\n",
       "      padding: 0 0 0 0;\n",
       "      width: 32px;\n",
       "    }\n",
       "\n",
       "    .colab-df-convert:hover {\n",
       "      background-color: #E2EBFA;\n",
       "      box-shadow: 0px 1px 2px rgba(60, 64, 67, 0.3), 0px 1px 3px 1px rgba(60, 64, 67, 0.15);\n",
       "      fill: #174EA6;\n",
       "    }\n",
       "\n",
       "    [theme=dark] .colab-df-convert {\n",
       "      background-color: #3B4455;\n",
       "      fill: #D2E3FC;\n",
       "    }\n",
       "\n",
       "    [theme=dark] .colab-df-convert:hover {\n",
       "      background-color: #434B5C;\n",
       "      box-shadow: 0px 1px 3px 1px rgba(0, 0, 0, 0.15);\n",
       "      filter: drop-shadow(0px 1px 2px rgba(0, 0, 0, 0.3));\n",
       "      fill: #FFFFFF;\n",
       "    }\n",
       "  </style>\n",
       "\n",
       "      <script>\n",
       "        const buttonEl =\n",
       "          document.querySelector('#df-4dafdd55-c135-4949-82c4-9e48a8d073e4 button.colab-df-convert');\n",
       "        buttonEl.style.display =\n",
       "          google.colab.kernel.accessAllowed ? 'block' : 'none';\n",
       "\n",
       "        async function convertToInteractive(key) {\n",
       "          const element = document.querySelector('#df-4dafdd55-c135-4949-82c4-9e48a8d073e4');\n",
       "          const dataTable =\n",
       "            await google.colab.kernel.invokeFunction('convertToInteractive',\n",
       "                                                     [key], {});\n",
       "          if (!dataTable) return;\n",
       "\n",
       "          const docLinkHtml = 'Like what you see? Visit the ' +\n",
       "            '<a target=\"_blank\" href=https://colab.research.google.com/notebooks/data_table.ipynb>data table notebook</a>'\n",
       "            + ' to learn more about interactive tables.';\n",
       "          element.innerHTML = '';\n",
       "          dataTable['output_type'] = 'display_data';\n",
       "          await google.colab.output.renderOutput(dataTable, element);\n",
       "          const docLink = document.createElement('div');\n",
       "          docLink.innerHTML = docLinkHtml;\n",
       "          element.appendChild(docLink);\n",
       "        }\n",
       "      </script>\n",
       "    </div>\n",
       "  </div>\n",
       "  "
      ],
      "text/plain": [
       "   Unnamed: 0.2  Unnamed: 0  Unnamed: 0.1  \\\n",
       "0             0           0             0   \n",
       "1             1           1             1   \n",
       "2             2           2             2   \n",
       "3             3           3             3   \n",
       "4             4           4             4   \n",
       "\n",
       "                                            Filename  \\\n",
       "0  E:/dataset/train\\train\\1\\1.2.826.0.1.3680043.8...   \n",
       "1  E:/dataset/train\\train\\10\\1.2.826.0.1.3680043....   \n",
       "2  E:/dataset/train\\train\\1002\\1.2.826.0.1.368004...   \n",
       "3  E:/dataset/train\\train\\1002\\1.2.826.0.1.368004...   \n",
       "4  E:/dataset/train\\train\\1004\\1.2.826.0.1.368004...   \n",
       "\n",
       "  PhotometricInterpretation_x  BitsAllocated_x  \\\n",
       "0                 MONOCHROME1               16   \n",
       "1                 MONOCHROME1               16   \n",
       "2                 MONOCHROME1               16   \n",
       "3                 MONOCHROME1               16   \n",
       "4                 MONOCHROME1               16   \n",
       "\n",
       "                                      SOPInstanceUID Target_x  Label  \\\n",
       "0  1.2.826.0.1.3680043.8.498.65452424240994805812...        3  Chest   \n",
       "1  1.2.826.0.1.3680043.8.498.29960944389705651248...        3  Chest   \n",
       "2  1.2.826.0.1.3680043.8.498.37634180084111795685...        3  Chest   \n",
       "3  1.2.826.0.1.3680043.8.498.12781870272366327239...        3  Chest   \n",
       "4  1.2.826.0.1.3680043.8.498.47572155867413808436...        3  Chest   \n",
       "\n",
       "                                           Imagepath  ... ImageType2 KVP  \\\n",
       "0  E:/dataset/trainimages\\1.2.826.0.1.3680043.8.4...  ...        NaN NaN   \n",
       "1  E:/dataset/trainimages\\1.2.826.0.1.3680043.8.4...  ...        NaN NaN   \n",
       "2  E:/dataset/trainimages\\1.2.826.0.1.3680043.8.4...  ...        NaN NaN   \n",
       "3  E:/dataset/trainimages\\1.2.826.0.1.3680043.8.4...  ...        NaN NaN   \n",
       "4  E:/dataset/trainimages\\1.2.826.0.1.3680043.8.4...  ...        NaN NaN   \n",
       "\n",
       "  DistanceSourceToDetector DistanceSourceToPatient ExposureTime  \\\n",
       "0                      NaN                     NaN          NaN   \n",
       "1                      NaN                     NaN          NaN   \n",
       "2                      NaN                     NaN          NaN   \n",
       "3                      NaN                     NaN          NaN   \n",
       "4                      NaN                     NaN          NaN   \n",
       "\n",
       "   XRayTubeCurrent AcquisitionNumber ImageType3  \\\n",
       "0              NaN               NaN        NaN   \n",
       "1              NaN               NaN        NaN   \n",
       "2              NaN               NaN        NaN   \n",
       "3              NaN               NaN        NaN   \n",
       "4              NaN               NaN        NaN   \n",
       "\n",
       "                                          image_path  encoded  \n",
       "0  ./images/train/1.2.826.0.1.3680043.8.498.65452...        4  \n",
       "1  ./images/train/1.2.826.0.1.3680043.8.498.29960...        4  \n",
       "2  ./images/train/1.2.826.0.1.3680043.8.498.37634...        4  \n",
       "3  ./images/train/1.2.826.0.1.3680043.8.498.12781...        4  \n",
       "4  ./images/train/1.2.826.0.1.3680043.8.498.47572...        4  \n",
       "\n",
       "[5 rows x 79 columns]"
      ]
     },
     "execution_count": 13,
     "metadata": {},
     "output_type": "execute_result"
    }
   ],
   "source": [
    "merged.head()"
   ]
  },
  {
   "cell_type": "code",
   "execution_count": 14,
   "metadata": {
    "colab": {
     "base_uri": "https://localhost:8080/"
    },
    "id": "PgeMAG-25BFh",
    "outputId": "f872e59f-4edc-4e02-f5f9-1a97b549c9e5"
   },
   "outputs": [
    {
     "name": "stdout",
     "output_type": "stream",
     "text": [
      "[0]\n"
     ]
    }
   ],
   "source": [
    "print(le.transform(['Abdomen']))"
   ]
  },
  {
   "cell_type": "code",
   "execution_count": null,
   "metadata": {
    "colab": {
     "base_uri": "https://localhost:8080/",
     "height": 382
    },
    "id": "uzp5UXI5zBh0",
    "outputId": "e2ccfa1e-fcf6-429a-c38e-ccf81a82ff70"
   },
   "outputs": [
    {
     "name": "stderr",
     "output_type": "stream",
     "text": [
      "  0%|          | 0/1348 [00:00<?, ?it/s]\n"
     ]
    },
    {
     "ename": "FileNotFoundError",
     "evalue": "ignored",
     "output_type": "error",
     "traceback": [
      "\u001b[0;31m---------------------------------------------------------------------------\u001b[0m",
      "\u001b[0;31mFileNotFoundError\u001b[0m                         Traceback (most recent call last)",
      "\u001b[0;32m<ipython-input-31-5ee06c2c6a29>\u001b[0m in \u001b[0;36m<module>\u001b[0;34m\u001b[0m\n\u001b[1;32m      9\u001b[0m \u001b[0mdf_train\u001b[0m\u001b[0;34m,\u001b[0m \u001b[0mdf_valid\u001b[0m \u001b[0;34m=\u001b[0m \u001b[0mmodel_selection\u001b[0m\u001b[0;34m.\u001b[0m\u001b[0mtrain_test_split\u001b[0m\u001b[0;34m(\u001b[0m\u001b[0mdf\u001b[0m\u001b[0;34m,\u001b[0m \u001b[0mtest_size\u001b[0m\u001b[0;34m=\u001b[0m\u001b[0;36m0.2\u001b[0m\u001b[0;34m,\u001b[0m \u001b[0mrandom_state\u001b[0m\u001b[0;34m=\u001b[0m\u001b[0;36m42\u001b[0m\u001b[0;34m,\u001b[0m \u001b[0mshuffle\u001b[0m\u001b[0;34m=\u001b[0m\u001b[0;32mTrue\u001b[0m\u001b[0;34m,\u001b[0m\u001b[0mstratify\u001b[0m\u001b[0;34m=\u001b[0m\u001b[0mdf\u001b[0m\u001b[0;34m.\u001b[0m\u001b[0mLabel\u001b[0m\u001b[0;34m)\u001b[0m\u001b[0;34m\u001b[0m\u001b[0;34m\u001b[0m\u001b[0m\n\u001b[1;32m     10\u001b[0m \u001b[0;31m#run the  function on each of them\u001b[0m\u001b[0;34m\u001b[0m\u001b[0;34m\u001b[0m\u001b[0m\n\u001b[0;32m---> 11\u001b[0;31m \u001b[0mpreproccess_data\u001b[0m\u001b[0;34m(\u001b[0m\u001b[0mdf_train\u001b[0m\u001b[0;34m,\u001b[0m \u001b[0mTRAIN_IMAGES_PATH\u001b[0m\u001b[0;34m)\u001b[0m\u001b[0;34m\u001b[0m\u001b[0;34m\u001b[0m\u001b[0m\n\u001b[0m\u001b[1;32m     12\u001b[0m \u001b[0mpreproccess_data\u001b[0m\u001b[0;34m(\u001b[0m\u001b[0mdf_valid\u001b[0m\u001b[0;34m,\u001b[0m \u001b[0mVAL_IMAGES_PATH\u001b[0m\u001b[0;34m)\u001b[0m\u001b[0;34m\u001b[0m\u001b[0;34m\u001b[0m\u001b[0m\n",
      "\u001b[0;32m<ipython-input-31-5ee06c2c6a29>\u001b[0m in \u001b[0;36mpreproccess_data\u001b[0;34m(df, images_path)\u001b[0m\n\u001b[1;32m      3\u001b[0m     \u001b[0;32mfor\u001b[0m \u001b[0mcolumn\u001b[0m\u001b[0;34m,\u001b[0m \u001b[0mrow\u001b[0m \u001b[0;32min\u001b[0m \u001b[0mtqdm\u001b[0m\u001b[0;34m(\u001b[0m\u001b[0mdf\u001b[0m\u001b[0;34m.\u001b[0m\u001b[0miterrows\u001b[0m\u001b[0;34m(\u001b[0m\u001b[0;34m)\u001b[0m\u001b[0;34m,\u001b[0m \u001b[0mtotal\u001b[0m\u001b[0;34m=\u001b[0m\u001b[0mlen\u001b[0m\u001b[0;34m(\u001b[0m\u001b[0mdf\u001b[0m\u001b[0;34m)\u001b[0m\u001b[0;34m)\u001b[0m\u001b[0;34m:\u001b[0m\u001b[0;34m\u001b[0m\u001b[0;34m\u001b[0m\u001b[0m\n\u001b[1;32m      4\u001b[0m         \u001b[0mclass_id\u001b[0m \u001b[0;34m=\u001b[0m \u001b[0mrow\u001b[0m\u001b[0;34m[\u001b[0m\u001b[0;34m'Label'\u001b[0m\u001b[0;34m]\u001b[0m\u001b[0;34m\u001b[0m\u001b[0;34m\u001b[0m\u001b[0m\n\u001b[0;32m----> 5\u001b[0;31m         \u001b[0mshutil\u001b[0m\u001b[0;34m.\u001b[0m\u001b[0mcopy\u001b[0m\u001b[0;34m(\u001b[0m\u001b[0mos\u001b[0m\u001b[0;34m.\u001b[0m\u001b[0mpath\u001b[0m\u001b[0;34m.\u001b[0m\u001b[0mjoin\u001b[0m\u001b[0;34m(\u001b[0m\u001b[0mInput_dir\u001b[0m\u001b[0;34m,\u001b[0m \u001b[0;34mf\"{row['Label']}/\"\u001b[0m\u001b[0;34m+\u001b[0m\u001b[0;34mf\"{row['SOPInstanceUID']}.png\"\u001b[0m\u001b[0;34m)\u001b[0m\u001b[0;34m,\u001b[0m \u001b[0mos\u001b[0m\u001b[0;34m.\u001b[0m\u001b[0mpath\u001b[0m\u001b[0;34m.\u001b[0m\u001b[0mjoin\u001b[0m\u001b[0;34m(\u001b[0m\u001b[0mimages_path\u001b[0m\u001b[0;34m,\u001b[0m \u001b[0mstr\u001b[0m\u001b[0;34m(\u001b[0m\u001b[0mclass_id\u001b[0m\u001b[0;34m)\u001b[0m\u001b[0;34m)\u001b[0m\u001b[0;34m)\u001b[0m\u001b[0;34m\u001b[0m\u001b[0;34m\u001b[0m\u001b[0m\n\u001b[0m\u001b[1;32m      6\u001b[0m \u001b[0mdf\u001b[0m \u001b[0;34m=\u001b[0m \u001b[0mpd\u001b[0m\u001b[0;34m.\u001b[0m\u001b[0mread_csv\u001b[0m\u001b[0;34m(\u001b[0m\u001b[0;34m'/content/drive/MyDrive/new_dataset/merged.csv'\u001b[0m\u001b[0;34m)\u001b[0m\u001b[0;34m\u001b[0m\u001b[0;34m\u001b[0m\u001b[0m\n\u001b[1;32m      7\u001b[0m \u001b[0mdf\u001b[0m\u001b[0;34m.\u001b[0m\u001b[0mhead\u001b[0m\u001b[0;34m(\u001b[0m\u001b[0;34m)\u001b[0m\u001b[0;34m\u001b[0m\u001b[0;34m\u001b[0m\u001b[0m\n",
      "\u001b[0;32m/usr/lib/python3.9/shutil.py\u001b[0m in \u001b[0;36mcopy\u001b[0;34m(src, dst, follow_symlinks)\u001b[0m\n\u001b[1;32m    425\u001b[0m     \u001b[0;32mif\u001b[0m \u001b[0mos\u001b[0m\u001b[0;34m.\u001b[0m\u001b[0mpath\u001b[0m\u001b[0;34m.\u001b[0m\u001b[0misdir\u001b[0m\u001b[0;34m(\u001b[0m\u001b[0mdst\u001b[0m\u001b[0;34m)\u001b[0m\u001b[0;34m:\u001b[0m\u001b[0;34m\u001b[0m\u001b[0;34m\u001b[0m\u001b[0m\n\u001b[1;32m    426\u001b[0m         \u001b[0mdst\u001b[0m \u001b[0;34m=\u001b[0m \u001b[0mos\u001b[0m\u001b[0;34m.\u001b[0m\u001b[0mpath\u001b[0m\u001b[0;34m.\u001b[0m\u001b[0mjoin\u001b[0m\u001b[0;34m(\u001b[0m\u001b[0mdst\u001b[0m\u001b[0;34m,\u001b[0m \u001b[0mos\u001b[0m\u001b[0;34m.\u001b[0m\u001b[0mpath\u001b[0m\u001b[0;34m.\u001b[0m\u001b[0mbasename\u001b[0m\u001b[0;34m(\u001b[0m\u001b[0msrc\u001b[0m\u001b[0;34m)\u001b[0m\u001b[0;34m)\u001b[0m\u001b[0;34m\u001b[0m\u001b[0;34m\u001b[0m\u001b[0m\n\u001b[0;32m--> 427\u001b[0;31m     \u001b[0mcopyfile\u001b[0m\u001b[0;34m(\u001b[0m\u001b[0msrc\u001b[0m\u001b[0;34m,\u001b[0m \u001b[0mdst\u001b[0m\u001b[0;34m,\u001b[0m \u001b[0mfollow_symlinks\u001b[0m\u001b[0;34m=\u001b[0m\u001b[0mfollow_symlinks\u001b[0m\u001b[0;34m)\u001b[0m\u001b[0;34m\u001b[0m\u001b[0;34m\u001b[0m\u001b[0m\n\u001b[0m\u001b[1;32m    428\u001b[0m     \u001b[0mcopymode\u001b[0m\u001b[0;34m(\u001b[0m\u001b[0msrc\u001b[0m\u001b[0;34m,\u001b[0m \u001b[0mdst\u001b[0m\u001b[0;34m,\u001b[0m \u001b[0mfollow_symlinks\u001b[0m\u001b[0;34m=\u001b[0m\u001b[0mfollow_symlinks\u001b[0m\u001b[0;34m)\u001b[0m\u001b[0;34m\u001b[0m\u001b[0;34m\u001b[0m\u001b[0m\n\u001b[1;32m    429\u001b[0m     \u001b[0;32mreturn\u001b[0m \u001b[0mdst\u001b[0m\u001b[0;34m\u001b[0m\u001b[0;34m\u001b[0m\u001b[0m\n",
      "\u001b[0;32m/usr/lib/python3.9/shutil.py\u001b[0m in \u001b[0;36mcopyfile\u001b[0;34m(src, dst, follow_symlinks)\u001b[0m\n\u001b[1;32m    262\u001b[0m         \u001b[0mos\u001b[0m\u001b[0;34m.\u001b[0m\u001b[0msymlink\u001b[0m\u001b[0;34m(\u001b[0m\u001b[0mos\u001b[0m\u001b[0;34m.\u001b[0m\u001b[0mreadlink\u001b[0m\u001b[0;34m(\u001b[0m\u001b[0msrc\u001b[0m\u001b[0;34m)\u001b[0m\u001b[0;34m,\u001b[0m \u001b[0mdst\u001b[0m\u001b[0;34m)\u001b[0m\u001b[0;34m\u001b[0m\u001b[0;34m\u001b[0m\u001b[0m\n\u001b[1;32m    263\u001b[0m     \u001b[0;32melse\u001b[0m\u001b[0;34m:\u001b[0m\u001b[0;34m\u001b[0m\u001b[0;34m\u001b[0m\u001b[0m\n\u001b[0;32m--> 264\u001b[0;31m         \u001b[0;32mwith\u001b[0m \u001b[0mopen\u001b[0m\u001b[0;34m(\u001b[0m\u001b[0msrc\u001b[0m\u001b[0;34m,\u001b[0m \u001b[0;34m'rb'\u001b[0m\u001b[0;34m)\u001b[0m \u001b[0;32mas\u001b[0m \u001b[0mfsrc\u001b[0m\u001b[0;34m:\u001b[0m\u001b[0;34m\u001b[0m\u001b[0;34m\u001b[0m\u001b[0m\n\u001b[0m\u001b[1;32m    265\u001b[0m             \u001b[0;32mtry\u001b[0m\u001b[0;34m:\u001b[0m\u001b[0;34m\u001b[0m\u001b[0;34m\u001b[0m\u001b[0m\n\u001b[1;32m    266\u001b[0m                 \u001b[0;32mwith\u001b[0m \u001b[0mopen\u001b[0m\u001b[0;34m(\u001b[0m\u001b[0mdst\u001b[0m\u001b[0;34m,\u001b[0m \u001b[0;34m'wb'\u001b[0m\u001b[0;34m)\u001b[0m \u001b[0;32mas\u001b[0m \u001b[0mfdst\u001b[0m\u001b[0;34m:\u001b[0m\u001b[0;34m\u001b[0m\u001b[0;34m\u001b[0m\u001b[0m\n",
      "\u001b[0;31mFileNotFoundError\u001b[0m: [Errno 2] No such file or directory: '/content/drive/MyDrive/new_dataset/Abdomen/1.2.826.0.1.3680043.8.498.75537417749251777157317787281898395156.png'"
     ]
    }
   ],
   "source": [
    "\n",
    "\n",
    "# Input_dir = '/content/drive/MyDrive/new_dataset'\n",
    "# def preproccess_data(df, images_path):\n",
    "#     for column, row in tqdm(df.iterrows(), total=len(df)):\n",
    "#         class_id = row['Label']\n",
    "#         shutil.copy(os.path.join(Input_dir, f\"{row['Label']}/\"+f\"{row['SOPInstanceUID']}.png\"), os.path.join(images_path, str(class_id)))\n",
    "# df = pd.read_csv('/content/drive/MyDrive/new_dataset/merged.csv')\n",
    "# df.head()\n",
    "# #Split the dataset into 80% training and 20% validation\n",
    "# df_train, df_valid = model_selection.train_test_split(df, test_size=0.2, random_state=42, shuffle=True,stratify=df.Label)\n",
    "# #run the  function on each of them\n",
    "# preproccess_data(df_train, TRAIN_IMAGES_PATH)\n",
    "# preproccess_data(df_valid, VAL_IMAGES_PATH)"
   ]
  },
  {
   "cell_type": "code",
   "execution_count": 16,
   "metadata": {
    "id": "07Vkkv5f7Nyx"
   },
   "outputs": [],
   "source": [
    "df_train, df_valid = model_selection.train_test_split(merged, test_size=0.2, random_state=42, shuffle=True,stratify=merged.Label)"
   ]
  },
  {
   "cell_type": "code",
   "execution_count": 17,
   "metadata": {
    "colab": {
     "base_uri": "https://localhost:8080/",
     "height": 351
    },
    "id": "JB7eztIBChQu",
    "outputId": "ccc2fe48-73fe-46a5-bfd0-b84279f8df5c"
   },
   "outputs": [
    {
     "data": {
      "text/html": [
       "\n",
       "  <div id=\"df-36619b14-ad90-4171-b8c3-54a70750c6c8\">\n",
       "    <div class=\"colab-df-container\">\n",
       "      <div>\n",
       "<style scoped>\n",
       "    .dataframe tbody tr th:only-of-type {\n",
       "        vertical-align: middle;\n",
       "    }\n",
       "\n",
       "    .dataframe tbody tr th {\n",
       "        vertical-align: top;\n",
       "    }\n",
       "\n",
       "    .dataframe thead th {\n",
       "        text-align: right;\n",
       "    }\n",
       "</style>\n",
       "<table border=\"1\" class=\"dataframe\">\n",
       "  <thead>\n",
       "    <tr style=\"text-align: right;\">\n",
       "      <th></th>\n",
       "      <th>Unnamed: 0.2</th>\n",
       "      <th>Unnamed: 0</th>\n",
       "      <th>Unnamed: 0.1</th>\n",
       "      <th>Filename</th>\n",
       "      <th>PhotometricInterpretation_x</th>\n",
       "      <th>BitsAllocated_x</th>\n",
       "      <th>SOPInstanceUID</th>\n",
       "      <th>Target_x</th>\n",
       "      <th>Label</th>\n",
       "      <th>Imagepath</th>\n",
       "      <th>...</th>\n",
       "      <th>ImageType2</th>\n",
       "      <th>KVP</th>\n",
       "      <th>DistanceSourceToDetector</th>\n",
       "      <th>DistanceSourceToPatient</th>\n",
       "      <th>ExposureTime</th>\n",
       "      <th>XRayTubeCurrent</th>\n",
       "      <th>AcquisitionNumber</th>\n",
       "      <th>ImageType3</th>\n",
       "      <th>image_path</th>\n",
       "      <th>encoded</th>\n",
       "    </tr>\n",
       "  </thead>\n",
       "  <tbody>\n",
       "    <tr>\n",
       "      <th>1376</th>\n",
       "      <td>1376</td>\n",
       "      <td>1376</td>\n",
       "      <td>1376</td>\n",
       "      <td>E:/dataset/train\\train\\748\\1.2.826.0.1.3680043...</td>\n",
       "      <td>MONOCHROME1</td>\n",
       "      <td>16</td>\n",
       "      <td>1.2.826.0.1.3680043.8.498.75537417749251777157...</td>\n",
       "      <td>0</td>\n",
       "      <td>Abdomen</td>\n",
       "      <td>E:/dataset/trainimages\\1.2.826.0.1.3680043.8.4...</td>\n",
       "      <td>...</td>\n",
       "      <td>NaN</td>\n",
       "      <td>NaN</td>\n",
       "      <td>NaN</td>\n",
       "      <td>NaN</td>\n",
       "      <td>NaN</td>\n",
       "      <td>NaN</td>\n",
       "      <td>NaN</td>\n",
       "      <td>NaN</td>\n",
       "      <td>./images/train/1.2.826.0.1.3680043.8.498.75537...</td>\n",
       "      <td>0</td>\n",
       "    </tr>\n",
       "    <tr>\n",
       "      <th>144</th>\n",
       "      <td>144</td>\n",
       "      <td>144</td>\n",
       "      <td>144</td>\n",
       "      <td>E:/dataset/train\\train\\1109\\1.2.826.0.1.368004...</td>\n",
       "      <td>MONOCHROME1</td>\n",
       "      <td>16</td>\n",
       "      <td>1.2.826.0.1.3680043.8.498.47124940692338562612...</td>\n",
       "      <td>11</td>\n",
       "      <td>Knee</td>\n",
       "      <td>E:/dataset/trainimages\\1.2.826.0.1.3680043.8.4...</td>\n",
       "      <td>...</td>\n",
       "      <td>NaN</td>\n",
       "      <td>NaN</td>\n",
       "      <td>NaN</td>\n",
       "      <td>NaN</td>\n",
       "      <td>NaN</td>\n",
       "      <td>NaN</td>\n",
       "      <td>NaN</td>\n",
       "      <td>NaN</td>\n",
       "      <td>./images/train/1.2.826.0.1.3680043.8.498.47124...</td>\n",
       "      <td>12</td>\n",
       "    </tr>\n",
       "    <tr>\n",
       "      <th>785</th>\n",
       "      <td>785</td>\n",
       "      <td>785</td>\n",
       "      <td>785</td>\n",
       "      <td>E:/dataset/train\\train\\294\\1.2.826.0.1.3680043...</td>\n",
       "      <td>MONOCHROME1</td>\n",
       "      <td>16</td>\n",
       "      <td>1.2.826.0.1.3680043.8.498.18966398494656266388...</td>\n",
       "      <td>2</td>\n",
       "      <td>Cervical Spine</td>\n",
       "      <td>E:/dataset/trainimages\\1.2.826.0.1.3680043.8.4...</td>\n",
       "      <td>...</td>\n",
       "      <td>NaN</td>\n",
       "      <td>NaN</td>\n",
       "      <td>NaN</td>\n",
       "      <td>NaN</td>\n",
       "      <td>NaN</td>\n",
       "      <td>NaN</td>\n",
       "      <td>NaN</td>\n",
       "      <td>NaN</td>\n",
       "      <td>./images/train/1.2.826.0.1.3680043.8.498.18966...</td>\n",
       "      <td>3</td>\n",
       "    </tr>\n",
       "    <tr>\n",
       "      <th>645</th>\n",
       "      <td>645</td>\n",
       "      <td>645</td>\n",
       "      <td>645</td>\n",
       "      <td>E:/dataset/train\\train\\188\\1.2.826.0.1.3680043...</td>\n",
       "      <td>MONOCHROME1</td>\n",
       "      <td>16</td>\n",
       "      <td>1.2.826.0.1.3680043.8.498.78547493856827312437...</td>\n",
       "      <td>12</td>\n",
       "      <td>Lower Leg</td>\n",
       "      <td>E:/dataset/trainimages\\1.2.826.0.1.3680043.8.4...</td>\n",
       "      <td>...</td>\n",
       "      <td>NaN</td>\n",
       "      <td>NaN</td>\n",
       "      <td>NaN</td>\n",
       "      <td>NaN</td>\n",
       "      <td>NaN</td>\n",
       "      <td>NaN</td>\n",
       "      <td>NaN</td>\n",
       "      <td>NaN</td>\n",
       "      <td>./images/train/1.2.826.0.1.3680043.8.498.78547...</td>\n",
       "      <td>13</td>\n",
       "    </tr>\n",
       "    <tr>\n",
       "      <th>1608</th>\n",
       "      <td>1608</td>\n",
       "      <td>1608</td>\n",
       "      <td>1608</td>\n",
       "      <td>E:/dataset/train\\train\\931\\1.2.826.0.1.3680043...</td>\n",
       "      <td>MONOCHROME1</td>\n",
       "      <td>16</td>\n",
       "      <td>1.2.826.0.1.3680043.8.498.44769667050882688681...</td>\n",
       "      <td>0</td>\n",
       "      <td>Abdomen</td>\n",
       "      <td>E:/dataset/trainimages\\1.2.826.0.1.3680043.8.4...</td>\n",
       "      <td>...</td>\n",
       "      <td>NaN</td>\n",
       "      <td>NaN</td>\n",
       "      <td>NaN</td>\n",
       "      <td>NaN</td>\n",
       "      <td>NaN</td>\n",
       "      <td>NaN</td>\n",
       "      <td>NaN</td>\n",
       "      <td>NaN</td>\n",
       "      <td>./images/train/1.2.826.0.1.3680043.8.498.44769...</td>\n",
       "      <td>0</td>\n",
       "    </tr>\n",
       "  </tbody>\n",
       "</table>\n",
       "<p>5 rows × 79 columns</p>\n",
       "</div>\n",
       "      <button class=\"colab-df-convert\" onclick=\"convertToInteractive('df-36619b14-ad90-4171-b8c3-54a70750c6c8')\"\n",
       "              title=\"Convert this dataframe to an interactive table.\"\n",
       "              style=\"display:none;\">\n",
       "        \n",
       "  <svg xmlns=\"http://www.w3.org/2000/svg\" height=\"24px\"viewBox=\"0 0 24 24\"\n",
       "       width=\"24px\">\n",
       "    <path d=\"M0 0h24v24H0V0z\" fill=\"none\"/>\n",
       "    <path d=\"M18.56 5.44l.94 2.06.94-2.06 2.06-.94-2.06-.94-.94-2.06-.94 2.06-2.06.94zm-11 1L8.5 8.5l.94-2.06 2.06-.94-2.06-.94L8.5 2.5l-.94 2.06-2.06.94zm10 10l.94 2.06.94-2.06 2.06-.94-2.06-.94-.94-2.06-.94 2.06-2.06.94z\"/><path d=\"M17.41 7.96l-1.37-1.37c-.4-.4-.92-.59-1.43-.59-.52 0-1.04.2-1.43.59L10.3 9.45l-7.72 7.72c-.78.78-.78 2.05 0 2.83L4 21.41c.39.39.9.59 1.41.59.51 0 1.02-.2 1.41-.59l7.78-7.78 2.81-2.81c.8-.78.8-2.07 0-2.86zM5.41 20L4 18.59l7.72-7.72 1.47 1.35L5.41 20z\"/>\n",
       "  </svg>\n",
       "      </button>\n",
       "      \n",
       "  <style>\n",
       "    .colab-df-container {\n",
       "      display:flex;\n",
       "      flex-wrap:wrap;\n",
       "      gap: 12px;\n",
       "    }\n",
       "\n",
       "    .colab-df-convert {\n",
       "      background-color: #E8F0FE;\n",
       "      border: none;\n",
       "      border-radius: 50%;\n",
       "      cursor: pointer;\n",
       "      display: none;\n",
       "      fill: #1967D2;\n",
       "      height: 32px;\n",
       "      padding: 0 0 0 0;\n",
       "      width: 32px;\n",
       "    }\n",
       "\n",
       "    .colab-df-convert:hover {\n",
       "      background-color: #E2EBFA;\n",
       "      box-shadow: 0px 1px 2px rgba(60, 64, 67, 0.3), 0px 1px 3px 1px rgba(60, 64, 67, 0.15);\n",
       "      fill: #174EA6;\n",
       "    }\n",
       "\n",
       "    [theme=dark] .colab-df-convert {\n",
       "      background-color: #3B4455;\n",
       "      fill: #D2E3FC;\n",
       "    }\n",
       "\n",
       "    [theme=dark] .colab-df-convert:hover {\n",
       "      background-color: #434B5C;\n",
       "      box-shadow: 0px 1px 3px 1px rgba(0, 0, 0, 0.15);\n",
       "      filter: drop-shadow(0px 1px 2px rgba(0, 0, 0, 0.3));\n",
       "      fill: #FFFFFF;\n",
       "    }\n",
       "  </style>\n",
       "\n",
       "      <script>\n",
       "        const buttonEl =\n",
       "          document.querySelector('#df-36619b14-ad90-4171-b8c3-54a70750c6c8 button.colab-df-convert');\n",
       "        buttonEl.style.display =\n",
       "          google.colab.kernel.accessAllowed ? 'block' : 'none';\n",
       "\n",
       "        async function convertToInteractive(key) {\n",
       "          const element = document.querySelector('#df-36619b14-ad90-4171-b8c3-54a70750c6c8');\n",
       "          const dataTable =\n",
       "            await google.colab.kernel.invokeFunction('convertToInteractive',\n",
       "                                                     [key], {});\n",
       "          if (!dataTable) return;\n",
       "\n",
       "          const docLinkHtml = 'Like what you see? Visit the ' +\n",
       "            '<a target=\"_blank\" href=https://colab.research.google.com/notebooks/data_table.ipynb>data table notebook</a>'\n",
       "            + ' to learn more about interactive tables.';\n",
       "          element.innerHTML = '';\n",
       "          dataTable['output_type'] = 'display_data';\n",
       "          await google.colab.output.renderOutput(dataTable, element);\n",
       "          const docLink = document.createElement('div');\n",
       "          docLink.innerHTML = docLinkHtml;\n",
       "          element.appendChild(docLink);\n",
       "        }\n",
       "      </script>\n",
       "    </div>\n",
       "  </div>\n",
       "  "
      ],
      "text/plain": [
       "      Unnamed: 0.2  Unnamed: 0  Unnamed: 0.1  \\\n",
       "1376          1376        1376          1376   \n",
       "144            144         144           144   \n",
       "785            785         785           785   \n",
       "645            645         645           645   \n",
       "1608          1608        1608          1608   \n",
       "\n",
       "                                               Filename  \\\n",
       "1376  E:/dataset/train\\train\\748\\1.2.826.0.1.3680043...   \n",
       "144   E:/dataset/train\\train\\1109\\1.2.826.0.1.368004...   \n",
       "785   E:/dataset/train\\train\\294\\1.2.826.0.1.3680043...   \n",
       "645   E:/dataset/train\\train\\188\\1.2.826.0.1.3680043...   \n",
       "1608  E:/dataset/train\\train\\931\\1.2.826.0.1.3680043...   \n",
       "\n",
       "     PhotometricInterpretation_x  BitsAllocated_x  \\\n",
       "1376                 MONOCHROME1               16   \n",
       "144                  MONOCHROME1               16   \n",
       "785                  MONOCHROME1               16   \n",
       "645                  MONOCHROME1               16   \n",
       "1608                 MONOCHROME1               16   \n",
       "\n",
       "                                         SOPInstanceUID Target_x  \\\n",
       "1376  1.2.826.0.1.3680043.8.498.75537417749251777157...        0   \n",
       "144   1.2.826.0.1.3680043.8.498.47124940692338562612...       11   \n",
       "785   1.2.826.0.1.3680043.8.498.18966398494656266388...        2   \n",
       "645   1.2.826.0.1.3680043.8.498.78547493856827312437...       12   \n",
       "1608  1.2.826.0.1.3680043.8.498.44769667050882688681...        0   \n",
       "\n",
       "               Label                                          Imagepath  ...  \\\n",
       "1376         Abdomen  E:/dataset/trainimages\\1.2.826.0.1.3680043.8.4...  ...   \n",
       "144             Knee  E:/dataset/trainimages\\1.2.826.0.1.3680043.8.4...  ...   \n",
       "785   Cervical Spine  E:/dataset/trainimages\\1.2.826.0.1.3680043.8.4...  ...   \n",
       "645        Lower Leg  E:/dataset/trainimages\\1.2.826.0.1.3680043.8.4...  ...   \n",
       "1608         Abdomen  E:/dataset/trainimages\\1.2.826.0.1.3680043.8.4...  ...   \n",
       "\n",
       "     ImageType2 KVP DistanceSourceToDetector DistanceSourceToPatient  \\\n",
       "1376        NaN NaN                      NaN                     NaN   \n",
       "144         NaN NaN                      NaN                     NaN   \n",
       "785         NaN NaN                      NaN                     NaN   \n",
       "645         NaN NaN                      NaN                     NaN   \n",
       "1608        NaN NaN                      NaN                     NaN   \n",
       "\n",
       "     ExposureTime  XRayTubeCurrent AcquisitionNumber ImageType3  \\\n",
       "1376          NaN              NaN               NaN        NaN   \n",
       "144           NaN              NaN               NaN        NaN   \n",
       "785           NaN              NaN               NaN        NaN   \n",
       "645           NaN              NaN               NaN        NaN   \n",
       "1608          NaN              NaN               NaN        NaN   \n",
       "\n",
       "                                             image_path  encoded  \n",
       "1376  ./images/train/1.2.826.0.1.3680043.8.498.75537...        0  \n",
       "144   ./images/train/1.2.826.0.1.3680043.8.498.47124...       12  \n",
       "785   ./images/train/1.2.826.0.1.3680043.8.498.18966...        3  \n",
       "645   ./images/train/1.2.826.0.1.3680043.8.498.78547...       13  \n",
       "1608  ./images/train/1.2.826.0.1.3680043.8.498.44769...        0  \n",
       "\n",
       "[5 rows x 79 columns]"
      ]
     },
     "execution_count": 17,
     "metadata": {},
     "output_type": "execute_result"
    }
   ],
   "source": [
    "df_train.head()"
   ]
  },
  {
   "cell_type": "code",
   "execution_count": null,
   "metadata": {
    "id": "Egh5oXtm9VXt"
   },
   "outputs": [],
   "source": [
    "# f_path=\"/content/drive/MyDrive/new_body_parts/train/\"\n",
    "# main_path=\"/content/drive/MyDrive/png_body_parts/\"\n",
    "# for index, i in df_train.iterrows():\n",
    "#     shutil.copy2(main_path+i['image_path'],f_path+str(i['encoded']))"
   ]
  },
  {
   "cell_type": "code",
   "execution_count": null,
   "metadata": {
    "id": "OKMdC05n-aRG"
   },
   "outputs": [],
   "source": [
    "# f_path=\"/content/drive/MyDrive/new_body_parts/val/\"\n",
    "# main_path=\"/content/drive/MyDrive/png_body_parts/\"\n",
    "# for index, i in df_valid.iterrows():\n",
    "#     shutil.copy2(main_path+i['image_path'],f_path+str(i['encoded']))"
   ]
  },
  {
   "cell_type": "code",
   "execution_count": null,
   "metadata": {
    "colab": {
     "base_uri": "https://localhost:8080/"
    },
    "id": "djXcqG66FibH",
    "outputId": "96f20152-8d97-46ff-e5b2-ea2b838bb06e"
   },
   "outputs": [
    {
     "name": "stdout",
     "output_type": "stream",
     "text": [
      "[16]\n"
     ]
    }
   ],
   "source": [
    "# print(le.transform(['Others']))"
   ]
  },
  {
   "cell_type": "code",
   "execution_count": 18,
   "metadata": {
    "id": "VLh-jREOG1z_"
   },
   "outputs": [],
   "source": [
    "TRAIN_IMAGES_PATH=\"/content/drive/MyDrive/new_body_parts/train/\"\n",
    "VAL_IMAGES_PATH=\"/content/drive/MyDrive/new_body_parts/val/\"\n"
   ]
  },
  {
   "cell_type": "code",
   "execution_count": 19,
   "metadata": {
    "id": "h2JouGBBH1xh"
   },
   "outputs": [],
   "source": [
    "height=512\n",
    "width=512"
   ]
  },
  {
   "cell_type": "code",
   "execution_count": null,
   "metadata": {
    "id": "aSrDNq-aIC10"
   },
   "outputs": [],
   "source": []
  },
  {
   "cell_type": "code",
   "execution_count": 20,
   "metadata": {
    "colab": {
     "base_uri": "https://localhost:8080/"
    },
    "id": "zSKa2ElJGSaB",
    "outputId": "ac5bb09d-57ef-4801-b7c1-edee4747f83e"
   },
   "outputs": [
    {
     "name": "stdout",
     "output_type": "stream",
     "text": [
      "Found 1348 images belonging to 23 classes.\n",
      "Found 338 images belonging to 23 classes.\n"
     ]
    }
   ],
   "source": [
    "# I love the  ImageDataGenerator class, it allows us to specifiy whatever augmentations we want so easily...\n",
    "train_datagen = ImageDataGenerator(\n",
    "    rescale=1.0 / 255,\n",
    "    rotation_range=40,\n",
    "    width_shift_range=0.2,\n",
    "    height_shift_range=0.2,\n",
    "    shear_range=0.2,\n",
    "    zoom_range=0.2,\n",
    "    horizontal_flip=True,\n",
    "    fill_mode=\"nearest\",\n",
    ")\n",
    "# Note that the validation data should not be augmented!\n",
    "#and a very important step is to normalise the images through  rescaling\n",
    "test_datagen = ImageDataGenerator(rescale=1.0 / 255)\n",
    "train_generator = train_datagen.flow_from_directory(\n",
    "    # This is the target directory\n",
    "    TRAIN_IMAGES_PATH,\n",
    "    # All images will be resized to target height and width.\n",
    "    target_size=(height, width),\n",
    "    batch_size=64,\n",
    "    # Since we use categorical_crossentropy loss, we need categorical labels\n",
    "    class_mode=\"categorical\",\n",
    ")\n",
    "validation_generator = test_datagen.flow_from_directory(\n",
    "    VAL_IMAGES_PATH,\n",
    "    target_size=(height, width),\n",
    "    class_mode=None,\n",
    "    batch_size=1,\n",
    "    shuffle=False,\n",
    ")\n",
    "model.compile(\n",
    "    loss=\"categorical_crossentropy\",\n",
    "    optimizer=optimizers.RMSprop(learning_rate=2e-5),\n",
    "    metrics=[\"acc\"],\n",
    ")"
   ]
  },
  {
   "cell_type": "code",
   "execution_count": 21,
   "metadata": {
    "id": "wbnUonciIXEv"
   },
   "outputs": [],
   "source": [
    "epochs=2"
   ]
  },
  {
   "cell_type": "code",
   "execution_count": 22,
   "metadata": {
    "id": "B-YwyYAkM5jh"
   },
   "outputs": [],
   "source": [
    "y_test= validation_generator.classes"
   ]
  },
  {
   "cell_type": "code",
   "execution_count": 23,
   "metadata": {
    "colab": {
     "base_uri": "https://localhost:8080/"
    },
    "id": "iA0xmKMFN2VX",
    "outputId": "75219f40-0241-4f45-b2a6-e2e4e521a45a"
   },
   "outputs": [
    {
     "data": {
      "text/plain": [
       "array([ 0,  0,  0,  0,  0,  0,  0,  0,  0,  0,  0,  0,  0,  0,  0,  0,  1,\n",
       "        1,  2,  2,  2,  2,  2,  2,  2,  2,  3,  3,  3,  3,  4,  4,  4,  4,\n",
       "        4,  4,  4,  4,  4,  4,  4,  4,  4,  4,  4,  4,  4,  4,  4,  4,  4,\n",
       "        5,  5,  5,  5,  6,  6,  6,  6,  6,  6,  6,  6,  7,  7,  7,  7,  7,\n",
       "        7,  7,  7,  7,  8,  8,  8,  8,  8,  8,  8,  8,  8,  8,  8,  8,  8,\n",
       "        8,  8,  8,  8,  8,  8,  8,  8,  8,  8,  8,  9,  9,  9,  9,  9,  9,\n",
       "        9,  9,  9,  9,  9,  9,  9, 10, 10, 10, 10, 10, 10, 10, 10, 11, 11,\n",
       "       11, 11, 11, 12, 12, 12, 12, 12, 12, 12, 12, 13, 13, 14, 14, 14, 15,\n",
       "       15, 15, 15, 15, 15, 15, 15, 15, 15, 15, 15, 15, 16, 16, 16, 16, 16,\n",
       "       16, 16, 16, 16, 16, 16, 16, 16, 16, 16, 17, 17, 17, 17, 17, 17, 17,\n",
       "       17, 17, 17, 17, 17, 17, 17, 17, 17, 17, 17, 17, 17, 17, 17, 17, 17,\n",
       "       17, 17, 17, 17, 17, 17, 17, 17, 17, 17, 17, 17, 17, 17, 17, 17, 17,\n",
       "       17, 17, 17, 17, 17, 17, 17, 17, 17, 17, 17, 17, 17, 17, 17, 17, 17,\n",
       "       17, 17, 17, 17, 17, 17, 17, 17, 17, 17, 17, 17, 17, 17, 17, 17, 17,\n",
       "       17, 17, 17, 17, 17, 17, 17, 17, 17, 17, 17, 17, 17, 17, 17, 17, 17,\n",
       "       17, 17, 17, 17, 17, 17, 17, 17, 17, 17, 17, 17, 17, 17, 17, 17, 17,\n",
       "       17, 17, 17, 17, 17, 17, 17, 17, 17, 17, 17, 17, 17, 17, 17, 17, 17,\n",
       "       17, 17, 17, 17, 17, 17, 17, 17, 17, 17, 17, 17, 17, 17, 17, 17, 17,\n",
       "       17, 17, 18, 18, 18, 18, 18, 19, 19, 19, 19, 19, 19, 19, 19, 19, 19,\n",
       "       19, 19, 19, 19, 20, 20, 20, 21, 21, 22, 22, 22, 22, 22, 22],\n",
       "      dtype=int32)"
      ]
     },
     "execution_count": 23,
     "metadata": {},
     "output_type": "execute_result"
    }
   ],
   "source": [
    "y_test"
   ]
  },
  {
   "cell_type": "code",
   "execution_count": 24,
   "metadata": {
    "colab": {
     "base_uri": "https://localhost:8080/"
    },
    "id": "PlHFgLaOHCEr",
    "outputId": "541423be-8bc8-428e-a73e-e929f9fc81c2"
   },
   "outputs": [
    {
     "name": "stderr",
     "output_type": "stream",
     "text": [
      "<ipython-input-24-fd0a87ed45f6>:1: UserWarning: `Model.fit_generator` is deprecated and will be removed in a future version. Please use `Model.fit`, which supports generators.\n",
      "  history = model.fit_generator(\n"
     ]
    },
    {
     "name": "stdout",
     "output_type": "stream",
     "text": [
      "Epoch 1/2\n",
      "21/21 [==============================] - 132s 4s/step - loss: 15.5327 - acc: 0.0086\n",
      "Epoch 2/2\n",
      "21/21 [==============================] - 99s 4s/step - loss: 4.6561 - acc: 0.2609\n"
     ]
    }
   ],
   "source": [
    "history = model.fit_generator(\n",
    "    train_generator,\n",
    "    steps_per_epoch=1348// 64,\n",
    "    epochs=epochs,\n",
    "    verbose=1,\n",
    "    use_multiprocessing=True,\n",
    "    workers=4,\n",
    ")"
   ]
  },
  {
   "cell_type": "code",
   "execution_count": 25,
   "metadata": {
    "colab": {
     "base_uri": "https://localhost:8080/"
    },
    "id": "FdUjkz0VIP6V",
    "outputId": "6dd985d3-1860-4302-b317-cf210a57868b"
   },
   "outputs": [
    {
     "name": "stdout",
     "output_type": "stream",
     "text": [
      "338/338 [==============================] - 96s 262ms/step\n"
     ]
    }
   ],
   "source": [
    "y_pred = model.predict(validation_generator)"
   ]
  },
  {
   "cell_type": "code",
   "execution_count": 26,
   "metadata": {
    "id": "fT0wL_Oma1WL"
   },
   "outputs": [],
   "source": [
    "# Import the modules from `sklearn.metrics` \n",
    "from sklearn.metrics import confusion_matrix, precision_score, recall_score, f1_score,classification_report# Confusion matrix "
   ]
  },
  {
   "cell_type": "code",
   "execution_count": 27,
   "metadata": {
    "id": "_RNzPbvLbuVt"
   },
   "outputs": [],
   "source": [
    "import numpy as np"
   ]
  },
  {
   "cell_type": "code",
   "execution_count": 28,
   "metadata": {
    "id": "mf5Z3BaUbGa_"
   },
   "outputs": [],
   "source": [
    "y_pred_classes = np.argmax(y_pred, axis=1)"
   ]
  },
  {
   "cell_type": "code",
   "execution_count": 29,
   "metadata": {
    "id": "Hx6IyutwOHVP"
   },
   "outputs": [],
   "source": [
    "cm=confusion_matrix(y_test, y_pred_classes) "
   ]
  },
  {
   "cell_type": "code",
   "execution_count": 30,
   "metadata": {
    "colab": {
     "base_uri": "https://localhost:8080/"
    },
    "id": "0l1406ddavig",
    "outputId": "e950e3ae-9eff-4551-fa8e-f2878771dfd5"
   },
   "outputs": [
    {
     "name": "stdout",
     "output_type": "stream",
     "text": [
      "[[  0   0   0   0   0   0   0   0   0   0   0   0   0   0   0   0   0  16\n",
      "    0   0   0   0   0]\n",
      " [  0   0   0   0   0   0   0   0   0   0   0   0   0   0   0   0   0   2\n",
      "    0   0   0   0   0]\n",
      " [  0   0   0   0   0   0   0   0   0   0   0   0   0   0   0   0   0   8\n",
      "    0   0   0   0   0]\n",
      " [  0   0   0   0   0   0   0   0   0   0   0   0   0   0   0   0   0   4\n",
      "    0   0   0   0   0]\n",
      " [  0   0   0   0   0   0   0   0   0   0   0   0   0   0   0   0   0  21\n",
      "    0   0   0   0   0]\n",
      " [  0   0   0   0   0   0   0   0   0   0   0   0   0   0   0   0   0   4\n",
      "    0   0   0   0   0]\n",
      " [  0   0   0   0   0   0   0   0   0   0   0   0   0   0   0   0   0   8\n",
      "    0   0   0   0   0]\n",
      " [  0   0   0   0   0   0   0   0   0   0   0   0   0   0   0   0   0   9\n",
      "    0   0   0   0   0]\n",
      " [  0   0   0   0   0   0   0   0   0   0   0   0   0   1   0   0   0  22\n",
      "    0   0   0   0   1]\n",
      " [  0   0   0   0   0   0   0   0   0   0   0   0   0   0   0   0   0  13\n",
      "    0   0   0   0   0]\n",
      " [  0   0   0   0   0   0   0   0   0   0   0   0   0   0   0   0   0   8\n",
      "    0   0   0   0   0]\n",
      " [  0   0   0   0   0   0   0   0   0   0   0   0   0   0   0   0   0   5\n",
      "    0   0   0   0   0]\n",
      " [  0   0   0   0   0   0   0   0   0   0   0   0   0   0   0   0   0   8\n",
      "    0   0   0   0   0]\n",
      " [  0   0   0   0   0   0   0   0   0   0   0   0   0   0   0   0   0   2\n",
      "    0   0   0   0   0]\n",
      " [  0   0   0   0   0   0   0   0   0   0   0   0   0   0   0   0   0   3\n",
      "    0   0   0   0   0]\n",
      " [  0   0   0   0   0   0   0   0   0   0   0   0   0   0   0   0   0  13\n",
      "    0   0   0   0   0]\n",
      " [  0   0   0   0   0   0   0   0   0   0   0   0   0   0   0   0   0  15\n",
      "    0   0   0   0   0]\n",
      " [  0   0   0   0   0   0   0   0   0   0   0   0   0   0   0   0   0 145\n",
      "    0   0   0   0   0]\n",
      " [  0   0   0   0   0   0   0   0   0   0   0   0   0   0   0   0   0   5\n",
      "    0   0   0   0   0]\n",
      " [  0   0   0   0   0   0   0   0   0   0   0   0   0   0   0   0   0  14\n",
      "    0   0   0   0   0]\n",
      " [  0   0   0   0   0   0   0   0   0   0   0   0   0   0   0   0   0   3\n",
      "    0   0   0   0   0]\n",
      " [  0   0   0   0   0   0   0   0   0   0   0   0   0   0   0   0   0   2\n",
      "    0   0   0   0   0]\n",
      " [  0   0   0   0   0   0   0   0   0   0   0   0   0   0   0   0   0   6\n",
      "    0   0   0   0   0]]\n"
     ]
    }
   ],
   "source": [
    "print(cm)"
   ]
  },
  {
   "cell_type": "code",
   "execution_count": 31,
   "metadata": {
    "colab": {
     "base_uri": "https://localhost:8080/"
    },
    "id": "9f2ao47RcV8U",
    "outputId": "c70871be-07f7-471b-95a7-0afda0ca5397"
   },
   "outputs": [
    {
     "name": "stdout",
     "output_type": "stream",
     "text": [
      "[[  0   0   0   0   0   0   0   0   0   0   0   0   0   0   0   0   0  16\n",
      "    0   0   0   0   0]\n",
      " [  0   0   0   0   0   0   0   0   0   0   0   0   0   0   0   0   0   2\n",
      "    0   0   0   0   0]\n",
      " [  0   0   0   0   0   0   0   0   0   0   0   0   0   0   0   0   0   8\n",
      "    0   0   0   0   0]\n",
      " [  0   0   0   0   0   0   0   0   0   0   0   0   0   0   0   0   0   4\n",
      "    0   0   0   0   0]\n",
      " [  0   0   0   0   0   0   0   0   0   0   0   0   0   0   0   0   0  21\n",
      "    0   0   0   0   0]\n",
      " [  0   0   0   0   0   0   0   0   0   0   0   0   0   0   0   0   0   4\n",
      "    0   0   0   0   0]\n",
      " [  0   0   0   0   0   0   0   0   0   0   0   0   0   0   0   0   0   8\n",
      "    0   0   0   0   0]\n",
      " [  0   0   0   0   0   0   0   0   0   0   0   0   0   0   0   0   0   9\n",
      "    0   0   0   0   0]\n",
      " [  0   0   0   0   0   0   0   0   0   0   0   0   0   1   0   0   0  22\n",
      "    0   0   0   0   1]\n",
      " [  0   0   0   0   0   0   0   0   0   0   0   0   0   0   0   0   0  13\n",
      "    0   0   0   0   0]\n",
      " [  0   0   0   0   0   0   0   0   0   0   0   0   0   0   0   0   0   8\n",
      "    0   0   0   0   0]\n",
      " [  0   0   0   0   0   0   0   0   0   0   0   0   0   0   0   0   0   5\n",
      "    0   0   0   0   0]\n",
      " [  0   0   0   0   0   0   0   0   0   0   0   0   0   0   0   0   0   8\n",
      "    0   0   0   0   0]\n",
      " [  0   0   0   0   0   0   0   0   0   0   0   0   0   0   0   0   0   2\n",
      "    0   0   0   0   0]\n",
      " [  0   0   0   0   0   0   0   0   0   0   0   0   0   0   0   0   0   3\n",
      "    0   0   0   0   0]\n",
      " [  0   0   0   0   0   0   0   0   0   0   0   0   0   0   0   0   0  13\n",
      "    0   0   0   0   0]\n",
      " [  0   0   0   0   0   0   0   0   0   0   0   0   0   0   0   0   0  15\n",
      "    0   0   0   0   0]\n",
      " [  0   0   0   0   0   0   0   0   0   0   0   0   0   0   0   0   0 145\n",
      "    0   0   0   0   0]\n",
      " [  0   0   0   0   0   0   0   0   0   0   0   0   0   0   0   0   0   5\n",
      "    0   0   0   0   0]\n",
      " [  0   0   0   0   0   0   0   0   0   0   0   0   0   0   0   0   0  14\n",
      "    0   0   0   0   0]\n",
      " [  0   0   0   0   0   0   0   0   0   0   0   0   0   0   0   0   0   3\n",
      "    0   0   0   0   0]\n",
      " [  0   0   0   0   0   0   0   0   0   0   0   0   0   0   0   0   0   2\n",
      "    0   0   0   0   0]\n",
      " [  0   0   0   0   0   0   0   0   0   0   0   0   0   0   0   0   0   6\n",
      "    0   0   0   0   0]]\n"
     ]
    }
   ],
   "source": [
    "import sklearn\n",
    "cm=sklearn.metrics.confusion_matrix(y_test,y_pred_classes)\n",
    "print(cm)\n"
   ]
  },
  {
   "cell_type": "code",
   "execution_count": 32,
   "metadata": {
    "colab": {
     "base_uri": "https://localhost:8080/",
     "height": 1000
    },
    "id": "Eyoxg_kNq9Ie",
    "outputId": "760631e8-1280-4fbc-affe-d48190d3bf84"
   },
   "outputs": [
    {
     "data": {
      "image/png": "[encoded data removed]",
      "text/plain": [
       "<Figure size 3600x3600 with 2 Axes>"
      ]
     },
     "metadata": {
      "needs_background": "light"
     },
     "output_type": "display_data"
    }
   ],
   "source": [
    "import seaborn as sn\n",
    "import pandas as pd\n",
    "import matplotlib.pyplot as plt\n",
    "\n",
    "\n",
    "df_cm = pd.DataFrame(cm, range(23), range(23))\n",
    "plt.figure(figsize=(50,50))\n",
    "\n",
    "sn.heatmap(df_cm, annot=True) # font size\n",
    "\n",
    "plt.show()"
   ]
  },
  {
   "cell_type": "code",
   "execution_count": 33,
   "metadata": {
    "colab": {
     "base_uri": "https://localhost:8080/"
    },
    "id": "uQ16EiCkerCz",
    "outputId": "03bb8fe8-c941-4db7-f1f1-b4f9b4273051"
   },
   "outputs": [
    {
     "name": "stdout",
     "output_type": "stream",
     "text": [
      "              precision    recall  f1-score   support\n",
      "\n",
      "           0       0.00      0.00      0.00        16\n",
      "           1       0.00      0.00      0.00         2\n",
      "           2       0.00      0.00      0.00         8\n",
      "           3       0.00      0.00      0.00         4\n",
      "           4       0.00      0.00      0.00        21\n",
      "           5       0.00      0.00      0.00         4\n",
      "           6       0.00      0.00      0.00         8\n",
      "           7       0.00      0.00      0.00         9\n",
      "           8       0.00      0.00      0.00        24\n",
      "           9       0.00      0.00      0.00        13\n",
      "          10       0.00      0.00      0.00         8\n",
      "          11       0.00      0.00      0.00         5\n",
      "          12       0.00      0.00      0.00         8\n",
      "          13       0.00      0.00      0.00         2\n",
      "          14       0.00      0.00      0.00         3\n",
      "          15       0.00      0.00      0.00        13\n",
      "          16       0.00      0.00      0.00        15\n",
      "          17       0.43      1.00      0.60       145\n",
      "          18       0.00      0.00      0.00         5\n",
      "          19       0.00      0.00      0.00        14\n",
      "          20       0.00      0.00      0.00         3\n",
      "          21       0.00      0.00      0.00         2\n",
      "          22       0.00      0.00      0.00         6\n",
      "\n",
      "    accuracy                           0.43       338\n",
      "   macro avg       0.02      0.04      0.03       338\n",
      "weighted avg       0.19      0.43      0.26       338\n",
      "\n"
     ]
    },
    {
     "name": "stderr",
     "output_type": "stream",
     "text": [
      "/usr/local/lib/python3.9/dist-packages/sklearn/metrics/_classification.py:1344: UndefinedMetricWarning: Precision and F-score are ill-defined and being set to 0.0 in labels with no predicted samples. Use `zero_division` parameter to control this behavior.\n",
      "  _warn_prf(average, modifier, msg_start, len(result))\n",
      "/usr/local/lib/python3.9/dist-packages/sklearn/metrics/_classification.py:1344: UndefinedMetricWarning: Precision and F-score are ill-defined and being set to 0.0 in labels with no predicted samples. Use `zero_division` parameter to control this behavior.\n",
      "  _warn_prf(average, modifier, msg_start, len(result))\n",
      "/usr/local/lib/python3.9/dist-packages/sklearn/metrics/_classification.py:1344: UndefinedMetricWarning: Precision and F-score are ill-defined and being set to 0.0 in labels with no predicted samples. Use `zero_division` parameter to control this behavior.\n",
      "  _warn_prf(average, modifier, msg_start, len(result))\n"
     ]
    }
   ],
   "source": [
    "print(sklearn.metrics.classification_report(y_test, y_pred_classes) )"
   ]
  },
  {
   "cell_type": "code",
   "execution_count": 34,
   "metadata": {
    "colab": {
     "base_uri": "https://localhost:8080/"
    },
    "id": "w-lrTUStiV45",
    "outputId": "2e25e0b1-4258-4560-f996-345906355394"
   },
   "outputs": [
    {
     "data": {
      "text/plain": [
       "['Chest',\n",
       " 'Others',\n",
       " 'Knee',\n",
       " 'Abdomen',\n",
       " 'Cervical Spine',\n",
       " 'Feet',\n",
       " 'Pelvis',\n",
       " 'Wrist',\n",
       " 'Lumbar Spine and Thoracic Spine',\n",
       " 'Hand and Wrist',\n",
       " 'Ankle',\n",
       " 'Shoulder',\n",
       " 'Lumbar Spine',\n",
       " 'Hand',\n",
       " 'Sinus',\n",
       " 'Elbow',\n",
       " 'Lower Leg',\n",
       " 'Hip',\n",
       " 'Finger',\n",
       " 'Thoracic Spine',\n",
       " 'Forearm',\n",
       " 'Abdomen and Chest',\n",
       " 'Skull']"
      ]
     },
     "execution_count": 34,
     "metadata": {},
     "output_type": "execute_result"
    }
   ],
   "source": [
    "classes"
   ]
  },
  {
   "cell_type": "code",
   "execution_count": 35,
   "metadata": {
    "colab": {
     "base_uri": "https://localhost:8080/"
    },
    "id": "sfCpRo0XtqXM",
    "outputId": "ea6bff31-b067-4255-899a-90188f08e5f6"
   },
   "outputs": [
    {
     "data": {
      "text/plain": [
       "array([ 4, 16, 12,  0,  3,  6, 17, 22, 15, 10,  2, 18, 14,  9, 19,  5, 13,\n",
       "       11,  7, 21,  8,  1, 20])"
      ]
     },
     "execution_count": 35,
     "metadata": {},
     "output_type": "execute_result"
    }
   ],
   "source": [
    "le.transform(classes)"
   ]
  },
  {
   "cell_type": "code",
   "execution_count": null,
   "metadata": {
    "id": "y2y7GT6_ttPr"
   },
   "outputs": [],
   "source": []
  }
 ],
 "metadata": {
  "accelerator": "GPU",
  "colab": {
   "provenance": []
  },
  "gpuClass": "standard",
  "kernelspec": {
   "display_name": "Python 3 (ipykernel)",
   "language": "python",
   "name": "python3"
  },
  "language_info": {
   "codemirror_mode": {
    "name": "ipython",
    "version": 3
   },
   "file_extension": ".py",
   "mimetype": "text/x-python",
   "name": "python",
   "nbconvert_exporter": "python",
   "pygments_lexer": "ipython3",
   "version": "3.9.7"
  }
 },
 "nbformat": 4,
 "nbformat_minor": 1
}
